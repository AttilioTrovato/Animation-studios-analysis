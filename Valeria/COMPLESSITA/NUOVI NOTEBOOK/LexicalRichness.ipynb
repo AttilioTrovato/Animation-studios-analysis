{
 "cells": [
  {
   "cell_type": "markdown",
   "metadata": {},
   "source": [
    "FONTI\n",
    "\n",
    "per capire gli indici\n",
    "\n",
    "\n",
    "1) https://interlinearbooks.com/literature/lithuanian/analysis/balta-drobule#:~:text=The%20TTR%20is%20the%20most%20basic%20measure%20of%20lexical%20diversity.&text=The%20root%20type%2Dtoken%20ratio,TTR's%20variance%20on%20text%20length\n",
    " \n",
    "repository Git per LexicalRichness\n",
    "\n",
    "2) https://github.com/LSYS/LexicalRichness/"
   ]
  },
  {
   "cell_type": "code",
   "execution_count": 2,
   "metadata": {},
   "outputs": [],
   "source": [
    "from lexicalrichness import LexicalRichness"
   ]
  },
  {
   "cell_type": "code",
   "execution_count": 3,
   "metadata": {},
   "outputs": [],
   "source": [
    "path= r\"/Users/valeriaguttilla/Desktop/MASTER/PROGETTONE/ANALISI_TESTUALE/SOTTOTITOLI/Disney/Animation/2000/Atlantis-The Lost Empire.2001.srt\"\n",
    "\n",
    "with open(path, 'r', encoding='Latin-1') as f:\n",
    "            text=f.read()"
   ]
  },
  {
   "cell_type": "code",
   "execution_count": 4,
   "metadata": {},
   "outputs": [],
   "source": [
    "lex = LexicalRichness(text)"
   ]
  },
  {
   "cell_type": "code",
   "execution_count": 5,
   "metadata": {},
   "outputs": [
    {
     "data": {
      "text/plain": [
       "0.19553193796768245"
      ]
     },
     "execution_count": 5,
     "metadata": {},
     "output_type": "execute_result"
    }
   ],
   "source": [
    "# A type-token ratio (TTR) is the total number of UNIQUE words (types) divided by the total number of words (tokens) \n",
    "# in a given segment of language.\n",
    "lex.ttr"
   ]
  },
  {
   "cell_type": "code",
   "execution_count": 6,
   "metadata": {},
   "outputs": [
    {
     "data": {
      "text/plain": [
       "9221"
      ]
     },
     "execution_count": 6,
     "metadata": {},
     "output_type": "execute_result"
    }
   ],
   "source": [
    "# number of words\n",
    "lex.words"
   ]
  },
  {
   "cell_type": "code",
   "execution_count": 7,
   "metadata": {},
   "outputs": [
    {
     "data": {
      "text/plain": [
       "1803"
      ]
     },
     "execution_count": 7,
     "metadata": {},
     "output_type": "execute_result"
    }
   ],
   "source": [
    "# number of unique words \n",
    "lex.terms"
   ]
  },
  {
   "cell_type": "code",
   "execution_count": 8,
   "metadata": {},
   "outputs": [
    {
     "data": {
      "text/plain": [
       "18.776157331992387"
      ]
     },
     "execution_count": 8,
     "metadata": {},
     "output_type": "execute_result"
    }
   ],
   "source": [
    "# RTTR\n",
    "lex.rttr"
   ]
  },
  {
   "cell_type": "code",
   "execution_count": 9,
   "metadata": {},
   "outputs": [
    {
     "data": {
      "text/plain": [
       "13.276748174077332"
      ]
     },
     "execution_count": 9,
     "metadata": {},
     "output_type": "execute_result"
    }
   ],
   "source": [
    "# CTTR\n",
    "lex.cttr"
   ]
  },
  {
   "cell_type": "code",
   "execution_count": 10,
   "metadata": {},
   "outputs": [
    {
     "data": {
      "text/plain": [
       "72.97757770639234"
      ]
     },
     "execution_count": 10,
     "metadata": {},
     "output_type": "execute_result"
    }
   ],
   "source": [
    "#MLTD measure of lexical text diversity\n",
    "lex.mtld(threshold=0.72)"
   ]
  },
  {
   "cell_type": "code",
   "execution_count": 11,
   "metadata": {},
   "outputs": [
    {
     "name": "stdout",
     "output_type": "stream",
     "text": [
      "Unique words: 2904\n"
     ]
    }
   ],
   "source": [
    "# check con codice semplice per calcolare le parole uniche. Non fare riferimento a questo!\n",
    "with open(path, \"r\") as file:\n",
    "    lines = file.read().splitlines()\n",
    "\n",
    "    uniques = set()\n",
    "    for line in lines:\n",
    "        uniques |= set(line.split())\n",
    "\n",
    "    print(f\"Unique words: {len(uniques)}\")\n"
   ]
  },
  {
   "cell_type": "code",
   "execution_count": null,
   "metadata": {},
   "outputs": [],
   "source": []
  }
 ],
 "metadata": {
  "kernelspec": {
   "display_name": "Python 3",
   "language": "python",
   "name": "python3"
  },
  "language_info": {
   "codemirror_mode": {
    "name": "ipython",
    "version": 3
   },
   "file_extension": ".py",
   "mimetype": "text/x-python",
   "name": "python",
   "nbconvert_exporter": "python",
   "pygments_lexer": "ipython3",
   "version": "3.7.4"
  }
 },
 "nbformat": 4,
 "nbformat_minor": 2
}
