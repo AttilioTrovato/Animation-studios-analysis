{
 "cells": [
  {
   "cell_type": "markdown",
   "metadata": {},
   "source": [
    "# Word2Vec"
   ]
  },
  {
   "cell_type": "code",
   "execution_count": 68,
   "metadata": {
    "scrolled": true
   },
   "outputs": [
    {
     "name": "stderr",
     "output_type": "stream",
     "text": [
      "[nltk_data] Downloading package punkt to /home/angelo/nltk_data...\n",
      "[nltk_data]   Package punkt is already up-to-date!\n"
     ]
    },
    {
     "name": "stdout",
     "output_type": "stream",
     "text": [
      "\u001b[38;5;2m✔ Download and installation successful\u001b[0m\n",
      "You can now load the model via spacy.load('en_core_web_sm')\n",
      "\u001b[38;5;2m✔ Linking successful\u001b[0m\n",
      "/home/angelo/anaconda3/lib/python3.7/site-packages/en_core_web_sm -->\n",
      "/home/angelo/anaconda3/lib/python3.7/site-packages/spacy/data/en\n",
      "You can now load the model via spacy.load('en')\n"
     ]
    }
   ],
   "source": [
    "import os\n",
    "import numpy as np\n",
    "import json\n",
    "\n",
    "import nltk\n",
    "nltk.download('punkt')\n",
    "\n",
    "from nltk import sent_tokenize, word_tokenize\n",
    "from nltk.corpus import stopwords\n",
    "en_stopwords = stopwords.words('english')  + ['shh', 'hoo', 'boo', 'uhoh', 'aah', 'heh', 'huh', 'ooh', 'yo', 'uh', 'um', 'aaah']\n",
    "\n",
    "import logging\n",
    "logging.basicConfig(format='%(asctime)s : %(levelname)s : %(message)s', level=logging.ERROR)\n",
    "\n",
    "from collections import Counter\n",
    "import spacy.cli\n",
    "spacy.cli.download('en')\n",
    "import spacy\n",
    "nlp = spacy.load('en')\n",
    "\n",
    "from matplotlib import pyplot as plt"
   ]
  },
  {
   "cell_type": "code",
   "execution_count": 69,
   "metadata": {},
   "outputs": [
    {
     "data": {
      "text/plain": [
       "88"
      ]
     },
     "execution_count": 69,
     "metadata": {},
     "output_type": "execute_result"
    }
   ],
   "source": [
    "path = \"/home/angelo/Desktop/master_offline/progettone_github/Animation-studios-analysis/sottotitoli/clean_subtitles/Disney/Animation/\"\n",
    "\n",
    "all_text = []\n",
    "for r, d, files in os.walk(path):\n",
    "    for f in files:\n",
    "        filename = r+'/'+f\n",
    "        with open(filename, 'r', encoding ='utf-8', errors='ignore') as fh:\n",
    "            text = fh.read()\n",
    "            all_text.append(text)\n",
    "len(all_text)"
   ]
  },
  {
   "cell_type": "code",
   "execution_count": 70,
   "metadata": {},
   "outputs": [],
   "source": [
    "one_document = ' '.join(all_text).lower()\n",
    "one_document = one_document.replace('\\n', ' ')"
   ]
  },
  {
   "cell_type": "markdown",
   "metadata": {},
   "source": [
    "# Spacy sentences splitting"
   ]
  },
  {
   "cell_type": "code",
   "execution_count": 71,
   "metadata": {},
   "outputs": [
    {
     "name": "stdout",
     "output_type": "stream",
     "text": [
      "900029\n",
      "900018\n",
      "900028\n",
      "501026\n"
     ]
    }
   ],
   "source": [
    "def tokenize_sents(text):\n",
    "    text_split = []\n",
    "    tmp_text = text\n",
    "    while len(tmp_text) > 1000000:\n",
    "        split_pos = tmp_text.find('.', 900000)\n",
    "        text_split.append(tmp_text[:split_pos+1])\n",
    "        tmp_text = tmp_text[split_pos+1:]\n",
    "\n",
    "    text_split.append(tmp_text)\n",
    "    \n",
    "    sentences = []\n",
    "    for t in text_split:\n",
    "        print(len(t))\n",
    "        doc = nlp(t) \n",
    "        sentences = sentences + [s.text for s in doc.sents]\n",
    "        \n",
    "    return sentences  \n",
    "\n",
    "spacy_sentences = tokenize_sents(one_document)"
   ]
  },
  {
   "cell_type": "code",
   "execution_count": 72,
   "metadata": {},
   "outputs": [
    {
     "data": {
      "text/plain": [
       "126021"
      ]
     },
     "execution_count": 72,
     "metadata": {},
     "output_type": "execute_result"
    }
   ],
   "source": [
    "len(spacy_sentences)"
   ]
  },
  {
   "cell_type": "code",
   "execution_count": 85,
   "metadata": {},
   "outputs": [
    {
     "data": {
      "text/plain": [
       "'long ago, in the faraway land of ancient greece, there was a golden age of powerful gods and extraordinary heroes.'"
      ]
     },
     "execution_count": 85,
     "metadata": {},
     "output_type": "execute_result"
    }
   ],
   "source": [
    "spacy_sentences[0]"
   ]
  },
  {
   "cell_type": "code",
   "execution_count": 78,
   "metadata": {},
   "outputs": [
    {
     "data": {
      "image/png": "[encoded data removed]",
      "text/plain": [
       "<Figure size 432x288 with 1 Axes>"
      ]
     },
     "metadata": {
      "needs_background": "light"
     },
     "output_type": "display_data"
    }
   ],
   "source": [
    "plt.hist([len(s) for s in spacy_sentences])\n",
    "plt.show()"
   ]
  },
  {
   "cell_type": "code",
   "execution_count": 89,
   "metadata": {},
   "outputs": [
    {
     "data": {
      "text/plain": [
       "[(497, 1),\n",
       " (482, 1),\n",
       " (434, 1),\n",
       " (396, 1),\n",
       " (390, 1),\n",
       " (368, 1),\n",
       " (318, 1),\n",
       " (315, 2),\n",
       " (297, 1),\n",
       " (294, 1)]"
      ]
     },
     "execution_count": 89,
     "metadata": {},
     "output_type": "execute_result"
    }
   ],
   "source": [
    "counter = Counter([len(s) for s in spacy_sentences])\n",
    "sorted_counter = sorted(counter.items(), reverse=1)[:10]\n",
    "sorted_counter"
   ]
  },
  {
   "cell_type": "code",
   "execution_count": 90,
   "metadata": {},
   "outputs": [
    {
     "name": "stdout",
     "output_type": "stream",
     "text": [
      "oh, the world will sing of an english king a thousand years from now and not because he passed some laws or had that lofty brow while bonny good king richard leads the great crusade he's on we'll all have to slave away for that goodfornothin'john incredible as he is inept whenever the history books are kept they'll call him the phoney king of england a pox on the phoney king of england he sits alone on a giant throne pretendin'he's the king a little tyke who's rather like a puppet on a string\n"
     ]
    }
   ],
   "source": [
    "for s in spacy_sentences:\n",
    "    if len(s) == sorted_counter[0][0]:\n",
    "        print(s)"
   ]
  },
  {
   "cell_type": "markdown",
   "metadata": {},
   "source": [
    "# NLTK sentences splitting"
   ]
  },
  {
   "cell_type": "code",
   "execution_count": 74,
   "metadata": {},
   "outputs": [],
   "source": [
    "nltk_sentences = sent_tokenize(one_document)"
   ]
  },
  {
   "cell_type": "code",
   "execution_count": 75,
   "metadata": {},
   "outputs": [
    {
     "data": {
      "text/plain": [
       "111766"
      ]
     },
     "execution_count": 75,
     "metadata": {},
     "output_type": "execute_result"
    }
   ],
   "source": [
    "len(nltk_sentences)"
   ]
  },
  {
   "cell_type": "code",
   "execution_count": 86,
   "metadata": {},
   "outputs": [
    {
     "data": {
      "text/plain": [
       "'long ago, in the faraway land of ancient greece, there was a golden age of powerful gods and extraordinary heroes.'"
      ]
     },
     "execution_count": 86,
     "metadata": {},
     "output_type": "execute_result"
    }
   ],
   "source": [
    "nltk_sentences[0]"
   ]
  },
  {
   "cell_type": "code",
   "execution_count": 77,
   "metadata": {},
   "outputs": [
    {
     "data": {
      "image/png": "[encoded data removed]",
      "text/plain": [
       "<Figure size 432x288 with 1 Axes>"
      ]
     },
     "metadata": {
      "needs_background": "light"
     },
     "output_type": "display_data"
    }
   ],
   "source": [
    "plt.hist([len(s) for s in nltk_sentences])\n",
    "plt.show()"
   ]
  },
  {
   "cell_type": "code",
   "execution_count": 91,
   "metadata": {},
   "outputs": [
    {
     "data": {
      "text/plain": [
       "[(2923, 1),\n",
       " (2742, 1),\n",
       " (2003, 1),\n",
       " (1837, 1),\n",
       " (1756, 1),\n",
       " (1726, 1),\n",
       " (1725, 1),\n",
       " (1668, 1),\n",
       " (1593, 1),\n",
       " (1588, 1)]"
      ]
     },
     "execution_count": 91,
     "metadata": {},
     "output_type": "execute_result"
    }
   ],
   "source": [
    "counter = Counter([len(s) for s in nltk_sentences])\n",
    "sorted_counter = sorted(counter.items(), reverse=1)[:10]\n",
    "sorted_counter"
   ]
  },
  {
   "cell_type": "code",
   "execution_count": 92,
   "metadata": {},
   "outputs": [
    {
     "name": "stdout",
     "output_type": "stream",
     "text": [
      "on that littlepatch of heaven  way out west  come with me  let's go wander  far beyondthe wild blue yonder  out where stars roam free  though the journey'sfar from breezy  stick with me,i'll make it easy  you can depend on me  yeah, there'sa long road before us  and it's a hard road,indeed  but, darlin', i swear  i'll get us there  whereverthe trail may lead  once we crossthat far horizon  lifeis bound to be surprisin'  but we'll take itday by day  never mindthe wind and weather  if we walk that trailtogether  somehow we'll find our way  yeah, there's a long roadbefore us  and it's a hard road,indeed  but, darlin', i vow  we'll get through somehow  whereverthe trail may lead  can't tell youwhen we'll be there  it may take all our lives  we're headed forthat great unknown  we'll soon be walking freethere  till that day arrives  at least we won't betravelin' alone  and there'sa long road before us  and it's a hard road,indeed  but, darlin', don't fear  'cause i'll be right here  to give youthe strength you need  and through the whole ride  i'll be by your side  wherever the trailmay lead  la la la la  la la la  la la la  la la la  la la la  when you're sad  when you're feeling low  when you're hurt  and don't know where to go  think of me  there i'll be  anytime you need a friend  when you're down  and your luck runs out  or if you're in troubleor in doubt  it's ok  it's ok  turn my way  anytime you need a friend  when you're scared  i will stay with you  when you feelyou're fallin'  i'm there for you  when your heart breaks  i'll ease your aches  whatever it takes  i'm in  i'm in  anytime you need a friend  la la la  la la la  la la la  la la la  all our lives  anywhere we are  anywhere we are  just reach out  i'll never be too far  come what may  there i'll stay  anytime you need a friend  when you're scared  i will stay with you  when you feelyou're fallin'  i'm here for you  when your heart breaks  i'll ease your aches  whatever it takes  i'm in  whatever it takes  anytime you need a friend  la la la  la la la  anytime  anytime you need  a friend  out there there's a world outside of yonkers  way out there beyond this hick town, barnaby  there's a slick town, barnaby  out there full of shine and full of sparkle  close your eyes and see it glisten, barnaby  listen, barnaby  put on your sunday clothes there's lots of world out there  get out the brilliantine and dime cigars  we're gonna find adventure in the evening air  girls in white in a perfumed night  where the lights are bright as the stars  put on your sunday clothes we're gonna ride through town  in one of those new horsedrawn open cars  we'll see the shows at delmonico's  and we'll close the town in a whirl  and we won't come home until we've kissed a girl  ... ride through town  in one of those new horsedrawn open cars  we'll see the shows at delmonico's...  and we won't come home until we've kissed a girl  oh!\n"
     ]
    }
   ],
   "source": [
    "for s in nltk_sentences:\n",
    "    if len(s) == sorted_counter[0][0]:\n",
    "        print(s)"
   ]
  },
  {
   "cell_type": "markdown",
   "metadata": {},
   "source": [
    "# Sentences tokenization"
   ]
  },
  {
   "cell_type": "code",
   "execution_count": 127,
   "metadata": {},
   "outputs": [],
   "source": [
    "tok_sents = [[word for word in word_tokenize(sentence) if (word.isalpha())] for sentence in spacy_sentences]"
   ]
  },
  {
   "cell_type": "markdown",
   "metadata": {},
   "source": [
    "# WORD2VEC"
   ]
  },
  {
   "cell_type": "code",
   "execution_count": 128,
   "metadata": {},
   "outputs": [],
   "source": [
    "from gensim.models import Word2Vec\n",
    "w2v_model = Word2Vec(tok_sents, size=100, window=10, min_count=15, sg=0, iter=20, negative=10)"
   ]
  },
  {
   "cell_type": "code",
   "execution_count": 129,
   "metadata": {},
   "outputs": [
    {
     "data": {
      "text/plain": [
       "2724"
      ]
     },
     "execution_count": 129,
     "metadata": {},
     "output_type": "execute_result"
    }
   ],
   "source": [
    "#learned vocabulary\n",
    "words = list(w2v_model.wv.vocab)\n",
    "len(words)"
   ]
  },
  {
   "cell_type": "code",
   "execution_count": 130,
   "metadata": {},
   "outputs": [
    {
     "data": {
      "text/plain": [
       "[('ew', 0.5396286845207214),\n",
       " ('hunting', 0.5264935493469238),\n",
       " ('written', 0.5156134963035583),\n",
       " ('ingonyama', 0.5088129639625549),\n",
       " ('shining', 0.5082613825798035),\n",
       " ('guilty', 0.4948311746120453),\n",
       " ('style', 0.49395573139190674),\n",
       " ('tales', 0.4845755398273468),\n",
       " ('lily', 0.48369863629341125),\n",
       " ('scary', 0.4798201322555542)]"
      ]
     },
     "execution_count": 130,
     "metadata": {},
     "output_type": "execute_result"
    }
   ],
   "source": [
    "w2v_model.wv.most_similar(['cinderella'])"
   ]
  },
  {
   "cell_type": "code",
   "execution_count": 131,
   "metadata": {},
   "outputs": [
    {
     "data": {
      "text/plain": [
       "[('hail', 0.6090978980064392),\n",
       " ('queen', 0.5984297394752502),\n",
       " ('aurora', 0.5797644257545471),\n",
       " ('gods', 0.5466465353965759),\n",
       " ('gift', 0.5256491303443909),\n",
       " ('kingdom', 0.4888436198234558),\n",
       " ('england', 0.48561951518058777),\n",
       " ('beloved', 0.48546746373176575),\n",
       " ('event', 0.48431873321533203),\n",
       " ('arendelle', 0.4765511453151703)]"
      ]
     },
     "execution_count": 131,
     "metadata": {},
     "output_type": "execute_result"
    }
   ],
   "source": [
    "w2v_model.wv.most_similar(['king', 'princess'], ['prince'])"
   ]
  },
  {
   "cell_type": "code",
   "execution_count": 132,
   "metadata": {},
   "outputs": [
    {
     "data": {
      "text/plain": [
       "0.41220662"
      ]
     },
     "execution_count": 132,
     "metadata": {},
     "output_type": "execute_result"
    }
   ],
   "source": [
    "w2v_model.wv.similarity('king', 'majesty')"
   ]
  },
  {
   "cell_type": "markdown",
   "metadata": {},
   "source": [
    "# Similarity matrix"
   ]
  },
  {
   "cell_type": "code",
   "execution_count": 133,
   "metadata": {},
   "outputs": [
    {
     "data": {
      "text/plain": [
       "2724"
      ]
     },
     "execution_count": 133,
     "metadata": {},
     "output_type": "execute_result"
    }
   ],
   "source": [
    "voc = set(w2v_model.wv.vocab)\n",
    "len(voc)"
   ]
  },
  {
   "cell_type": "code",
   "execution_count": 134,
   "metadata": {},
   "outputs": [
    {
     "data": {
      "text/plain": [
       "2543"
      ]
     },
     "execution_count": 134,
     "metadata": {},
     "output_type": "execute_result"
    }
   ],
   "source": [
    "voc = voc.difference(en_stopwords)\n",
    "voc = set([w for w in voc if len(w) > 2])\n",
    "len(voc)"
   ]
  },
  {
   "cell_type": "code",
   "execution_count": 149,
   "metadata": {},
   "outputs": [],
   "source": [
    "# from set to list in order to be usre about the order during the following iterations\n",
    "voc = list(sorted(voc))"
   ]
  },
  {
   "cell_type": "code",
   "execution_count": 151,
   "metadata": {},
   "outputs": [],
   "source": [
    "indici = dict()\n",
    "for index, key in enumerate(voc):\n",
    "    if key not in indici:\n",
    "        indici[key] = index\n",
    "        \n",
    "reverse_indici = dict()\n",
    "for term, termID in indici.items():\n",
    "    reverse_indici[termID] = term"
   ]
  },
  {
   "cell_type": "code",
   "execution_count": 152,
   "metadata": {},
   "outputs": [
    {
     "data": {
      "text/plain": [
       "2543"
      ]
     },
     "execution_count": 152,
     "metadata": {},
     "output_type": "execute_result"
    }
   ],
   "source": [
    "#costruzione matrice\n",
    "graph_matrix = np.zeros(shape=(len(voc), len(voc)), dtype=np.float32)\n",
    "\n",
    "for index1, key1 in enumerate(voc):\n",
    "    for index2, key2 in enumerate(voc):\n",
    "        graph_matrix[index1 ][index2] = w2v_model.wv.similarity(key1, key2)\n",
    "        \n",
    "len(graph_matrix)"
   ]
  },
  {
   "cell_type": "markdown",
   "metadata": {},
   "source": [
    "# Similarity graph"
   ]
  },
  {
   "cell_type": "code",
   "execution_count": 153,
   "metadata": {},
   "outputs": [
    {
     "name": "stdout",
     "output_type": "stream",
     "text": [
      "nodes: 314\n",
      "links: 434\n"
     ]
    }
   ],
   "source": [
    "#constructing the list of tuples\n",
    "graph_list = []\n",
    "nodes = set()\n",
    "for x in range(len(graph_matrix)):\n",
    "    for y in range(x+1, len(graph_matrix)):\n",
    "        if graph_matrix[x][y] >= 0.70:\n",
    "            nodes |= set([reverse_indici[x], reverse_indici[y]])\n",
    "            graph_list.append((reverse_indici[x],reverse_indici[y],graph_matrix[x][y]))      \n",
    "print('nodes:', len(nodes))\n",
    "print('links:', len(graph_list))"
   ]
  },
  {
   "cell_type": "code",
   "execution_count": 154,
   "metadata": {},
   "outputs": [],
   "source": [
    "graph = dict()\n",
    "graph[\"nodes\"] = [{\"id\": t} for t in nodes]\n",
    "graph[\"links\"] = [{\"source\":t[0], \"target\":t[1], \"value\":float(t[2])} for t in graph_list]\n",
    "with open('data.json', 'w') as outfile:\n",
    "    json.dump(graph, outfile)"
   ]
  }
 ],
 "metadata": {
  "kernelspec": {
   "display_name": "Python 3",
   "language": "python",
   "name": "python3"
  },
  "language_info": {
   "codemirror_mode": {
    "name": "ipython",
    "version": 3
   },
   "file_extension": ".py",
   "mimetype": "text/x-python",
   "name": "python",
   "nbconvert_exporter": "python",
   "pygments_lexer": "ipython3",
   "version": "3.7.6"
  }
 },
 "nbformat": 4,
 "nbformat_minor": 4
}
