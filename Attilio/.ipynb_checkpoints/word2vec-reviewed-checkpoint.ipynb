{
 "cells": [
  {
   "cell_type": "code",
   "execution_count": 1,
   "metadata": {
    "scrolled": true
   },
   "outputs": [
    {
     "name": "stderr",
     "output_type": "stream",
     "text": [
      "[nltk_data] Downloading package punkt to /home/angelo/nltk_data...\n",
      "[nltk_data]   Package punkt is already up-to-date!\n"
     ]
    }
   ],
   "source": [
    "import os\n",
    "import numpy as np\n",
    "import json\n",
    "\n",
    "import nltk\n",
    "nltk.download('punkt')\n",
    "\n",
    "from nltk import sent_tokenize, word_tokenize\n",
    "from nltk.corpus import stopwords\n",
    "en_stopwords = stopwords.words('english')  + ['shh', 'hoo', 'boo', 'uhoh', 'aah', 'heh', 'huh', 'ooh', 'yo']"
   ]
  },
  {
   "cell_type": "code",
   "execution_count": 2,
   "metadata": {},
   "outputs": [],
   "source": [
    "path = \"/home/angelo/Desktop/master_offline/progettone_github/Animation-studios-analysis/sottotitoli/clean_subtitles/Disney/Animation/\"\n",
    "\n",
    "all_text = []\n",
    "for r, d, files in os.walk(path):\n",
    "    for f in files:\n",
    "        filename = r+'/'+f\n",
    "        with open(filename, 'r', encoding ='utf-8', errors='ignore') as fh:\n",
    "            text = fh.read()\n",
    "            all_text.append(text)"
   ]
  },
  {
   "cell_type": "code",
   "execution_count": 3,
   "metadata": {},
   "outputs": [
    {
     "data": {
      "text/plain": [
       "88"
      ]
     },
     "execution_count": 3,
     "metadata": {},
     "output_type": "execute_result"
    }
   ],
   "source": [
    "len(all_text)"
   ]
  },
  {
   "cell_type": "markdown",
   "metadata": {},
   "source": [
    "# sentence splitting"
   ]
  },
  {
   "cell_type": "code",
   "execution_count": 4,
   "metadata": {},
   "outputs": [],
   "source": [
    "one_document = ' '.join(all_text).lower()\n",
    "one_document = one_document.replace('\\n', ' ')\n",
    "sentences = sent_tokenize(one_document)"
   ]
  },
  {
   "cell_type": "code",
   "execution_count": 5,
   "metadata": {},
   "outputs": [
    {
     "data": {
      "text/plain": [
       "111766"
      ]
     },
     "execution_count": 5,
     "metadata": {},
     "output_type": "execute_result"
    }
   ],
   "source": [
    "len(sentences)"
   ]
  },
  {
   "cell_type": "code",
   "execution_count": 6,
   "metadata": {},
   "outputs": [
    {
     "data": {
      "text/plain": [
       "'long ago, in the faraway land of ancient greece, there was a golden age of powerful gods and extraordinary heroes.'"
      ]
     },
     "execution_count": 6,
     "metadata": {},
     "output_type": "execute_result"
    }
   ],
   "source": [
    "sentences[0]"
   ]
  },
  {
   "cell_type": "code",
   "execution_count": 7,
   "metadata": {},
   "outputs": [],
   "source": [
    "tok_sents = [[word for word in word_tokenize(sentence) if (word.isalpha())] for sentence in sentences]"
   ]
  },
  {
   "cell_type": "code",
   "execution_count": 8,
   "metadata": {},
   "outputs": [
    {
     "data": {
      "text/plain": [
       "['long',\n",
       " 'ago',\n",
       " 'in',\n",
       " 'the',\n",
       " 'faraway',\n",
       " 'land',\n",
       " 'of',\n",
       " 'ancient',\n",
       " 'greece',\n",
       " 'there',\n",
       " 'was',\n",
       " 'a',\n",
       " 'golden',\n",
       " 'age',\n",
       " 'of',\n",
       " 'powerful',\n",
       " 'gods',\n",
       " 'and',\n",
       " 'extraordinary',\n",
       " 'heroes']"
      ]
     },
     "execution_count": 8,
     "metadata": {},
     "output_type": "execute_result"
    }
   ],
   "source": [
    "tok_sents[0]"
   ]
  },
  {
   "cell_type": "code",
   "execution_count": 9,
   "metadata": {},
   "outputs": [
    {
     "data": {
      "text/plain": [
       "[['long',\n",
       "  'ago',\n",
       "  'in',\n",
       "  'the',\n",
       "  'faraway',\n",
       "  'land',\n",
       "  'of',\n",
       "  'ancient',\n",
       "  'greece',\n",
       "  'there',\n",
       "  'was',\n",
       "  'a',\n",
       "  'golden',\n",
       "  'age',\n",
       "  'of',\n",
       "  'powerful',\n",
       "  'gods',\n",
       "  'and',\n",
       "  'extraordinary',\n",
       "  'heroes'],\n",
       " ['and',\n",
       "  'the',\n",
       "  'greatest',\n",
       "  'and',\n",
       "  'strongest',\n",
       "  'of',\n",
       "  'all',\n",
       "  'these',\n",
       "  'heroes',\n",
       "  'was',\n",
       "  'the',\n",
       "  'mighty',\n",
       "  'hercules'],\n",
       " ['but', 'what', 'is', 'the', 'measure', 'of', 'a', 'true', 'hero']]"
      ]
     },
     "execution_count": 9,
     "metadata": {},
     "output_type": "execute_result"
    }
   ],
   "source": [
    "tok_sents[0:3]"
   ]
  },
  {
   "cell_type": "code",
   "execution_count": 10,
   "metadata": {},
   "outputs": [
    {
     "data": {
      "text/plain": [
       "[(1, 12),\n",
       " (2, 18),\n",
       " (3, 2705),\n",
       " (4, 3954),\n",
       " (5, 5501),\n",
       " (6, 2962),\n",
       " (7, 3170),\n",
       " (8, 3179),\n",
       " (9, 3019),\n",
       " (10, 3871),\n",
       " (11, 3325),\n",
       " (12, 2894),\n",
       " (13, 3187),\n",
       " (14, 3268),\n",
       " (15, 3041),\n",
       " (16, 3059),\n",
       " (17, 3018),\n",
       " (18, 2894),\n",
       " (19, 3038),\n",
       " (20, 2616),\n",
       " (21, 2551),\n",
       " (22, 2410),\n",
       " (23, 2474),\n",
       " (24, 2262),\n",
       " (25, 2126),\n",
       " (26, 2046),\n",
       " (27, 2050),\n",
       " (28, 1838),\n",
       " (29, 1760),\n",
       " (30, 1680),\n",
       " (31, 1607),\n",
       " (32, 1473),\n",
       " (33, 1411),\n",
       " (34, 1392),\n",
       " (35, 1291),\n",
       " (36, 1160),\n",
       " (37, 1097),\n",
       " (38, 1077),\n",
       " (39, 989),\n",
       " (40, 923),\n",
       " (41, 894),\n",
       " (42, 854),\n",
       " (43, 787),\n",
       " (44, 727),\n",
       " (45, 677),\n",
       " (46, 721),\n",
       " (47, 675),\n",
       " (48, 562),\n",
       " (49, 549),\n",
       " (50, 538),\n",
       " (51, 533),\n",
       " (52, 483),\n",
       " (53, 464),\n",
       " (54, 438),\n",
       " (55, 454),\n",
       " (56, 440),\n",
       " (57, 372),\n",
       " (58, 369),\n",
       " (59, 354),\n",
       " (60, 314),\n",
       " (61, 337),\n",
       " (62, 282),\n",
       " (63, 266),\n",
       " (64, 275),\n",
       " (65, 257),\n",
       " (66, 245),\n",
       " (67, 248),\n",
       " (68, 217),\n",
       " (69, 211),\n",
       " (70, 233),\n",
       " (71, 216),\n",
       " (72, 229),\n",
       " (73, 203),\n",
       " (74, 183),\n",
       " (75, 174),\n",
       " (76, 184),\n",
       " (77, 137),\n",
       " (78, 138),\n",
       " (79, 136),\n",
       " (80, 113),\n",
       " (81, 133),\n",
       " (82, 116),\n",
       " (83, 109),\n",
       " (84, 101),\n",
       " (85, 85),\n",
       " (86, 91),\n",
       " (87, 92),\n",
       " (88, 104),\n",
       " (89, 93),\n",
       " (90, 90),\n",
       " (91, 74),\n",
       " (92, 71),\n",
       " (93, 68),\n",
       " (94, 71),\n",
       " (95, 80),\n",
       " (96, 71),\n",
       " (97, 54),\n",
       " (98, 77),\n",
       " (99, 58),\n",
       " (100, 59),\n",
       " (101, 57),\n",
       " (102, 49),\n",
       " (103, 56),\n",
       " (104, 67),\n",
       " (105, 51),\n",
       " (106, 49),\n",
       " (107, 50),\n",
       " (108, 41),\n",
       " (109, 35),\n",
       " (110, 35),\n",
       " (111, 28),\n",
       " (112, 28),\n",
       " (113, 42),\n",
       " (114, 36),\n",
       " (115, 39),\n",
       " (116, 38),\n",
       " (117, 27),\n",
       " (118, 32),\n",
       " (119, 38),\n",
       " (120, 33),\n",
       " (121, 33),\n",
       " (122, 28),\n",
       " (123, 20),\n",
       " (124, 31),\n",
       " (125, 28),\n",
       " (126, 17),\n",
       " (127, 21),\n",
       " (128, 22),\n",
       " (129, 26),\n",
       " (130, 22),\n",
       " (131, 17),\n",
       " (132, 17),\n",
       " (133, 21),\n",
       " (134, 11),\n",
       " (135, 21),\n",
       " (136, 15),\n",
       " (137, 21),\n",
       " (138, 10),\n",
       " (139, 14),\n",
       " (140, 16),\n",
       " (141, 8),\n",
       " (142, 10),\n",
       " (143, 14),\n",
       " (144, 13),\n",
       " (145, 10),\n",
       " (146, 11),\n",
       " (147, 6),\n",
       " (148, 8),\n",
       " (149, 9),\n",
       " (150, 10),\n",
       " (151, 6),\n",
       " (152, 9),\n",
       " (153, 8),\n",
       " (154, 11),\n",
       " (155, 12),\n",
       " (156, 7),\n",
       " (157, 6),\n",
       " (158, 13),\n",
       " (159, 12),\n",
       " (160, 7),\n",
       " (161, 7),\n",
       " (162, 6),\n",
       " (163, 4),\n",
       " (164, 8),\n",
       " (165, 6),\n",
       " (166, 8),\n",
       " (167, 11),\n",
       " (168, 11),\n",
       " (169, 3),\n",
       " (170, 6),\n",
       " (171, 6),\n",
       " (172, 9),\n",
       " (173, 8),\n",
       " (174, 11),\n",
       " (175, 6),\n",
       " (176, 6),\n",
       " (177, 8),\n",
       " (178, 7),\n",
       " (179, 4),\n",
       " (180, 6),\n",
       " (181, 5),\n",
       " (182, 9),\n",
       " (183, 5),\n",
       " (184, 6),\n",
       " (185, 2),\n",
       " (186, 8),\n",
       " (187, 7),\n",
       " (188, 4),\n",
       " (189, 2),\n",
       " (190, 1),\n",
       " (191, 4),\n",
       " (192, 4),\n",
       " (193, 7),\n",
       " (194, 3),\n",
       " (195, 3),\n",
       " (196, 4),\n",
       " (197, 1),\n",
       " (198, 6),\n",
       " (199, 3),\n",
       " (201, 3),\n",
       " (202, 5),\n",
       " (203, 7),\n",
       " (204, 5),\n",
       " (205, 6),\n",
       " (206, 4),\n",
       " (207, 5),\n",
       " (208, 6),\n",
       " (209, 4),\n",
       " (210, 3),\n",
       " (211, 3),\n",
       " (212, 2),\n",
       " (213, 3),\n",
       " (214, 1),\n",
       " (215, 4),\n",
       " (216, 3),\n",
       " (217, 3),\n",
       " (218, 1),\n",
       " (219, 2),\n",
       " (220, 3),\n",
       " (221, 1),\n",
       " (222, 4),\n",
       " (223, 4),\n",
       " (224, 2),\n",
       " (225, 2),\n",
       " (226, 3),\n",
       " (227, 4),\n",
       " (228, 1),\n",
       " (229, 5),\n",
       " (230, 7),\n",
       " (231, 3),\n",
       " (232, 1),\n",
       " (233, 1),\n",
       " (234, 5),\n",
       " (235, 1),\n",
       " (236, 2),\n",
       " (238, 1),\n",
       " (239, 4),\n",
       " (241, 1),\n",
       " (243, 2),\n",
       " (244, 3),\n",
       " (245, 1),\n",
       " (246, 3),\n",
       " (247, 3),\n",
       " (248, 3),\n",
       " (249, 5),\n",
       " (250, 1),\n",
       " (251, 4),\n",
       " (252, 2),\n",
       " (253, 2),\n",
       " (254, 4),\n",
       " (255, 2),\n",
       " (256, 1),\n",
       " (257, 2),\n",
       " (258, 3),\n",
       " (259, 1),\n",
       " (260, 1),\n",
       " (261, 2),\n",
       " (262, 1),\n",
       " (263, 5),\n",
       " (264, 4),\n",
       " (265, 2),\n",
       " (266, 1),\n",
       " (267, 4),\n",
       " (268, 1),\n",
       " (270, 1),\n",
       " (271, 1),\n",
       " (272, 2),\n",
       " (274, 4),\n",
       " (275, 4),\n",
       " (277, 2),\n",
       " (278, 3),\n",
       " (280, 3),\n",
       " (281, 1),\n",
       " (282, 2),\n",
       " (283, 2),\n",
       " (284, 1),\n",
       " (285, 2),\n",
       " (286, 2),\n",
       " (287, 1),\n",
       " (292, 3),\n",
       " (293, 4),\n",
       " (294, 3),\n",
       " (295, 1),\n",
       " (297, 2),\n",
       " (298, 4),\n",
       " (299, 1),\n",
       " (302, 2),\n",
       " (303, 2),\n",
       " (304, 2),\n",
       " (305, 4),\n",
       " (306, 1),\n",
       " (308, 1),\n",
       " (310, 2),\n",
       " (311, 3),\n",
       " (313, 3),\n",
       " (314, 1),\n",
       " (315, 1),\n",
       " (316, 1),\n",
       " (317, 1),\n",
       " (318, 3),\n",
       " (319, 2),\n",
       " (320, 2),\n",
       " (321, 1),\n",
       " (322, 1),\n",
       " (323, 1),\n",
       " (324, 4),\n",
       " (325, 1),\n",
       " (326, 1),\n",
       " (327, 1),\n",
       " (328, 1),\n",
       " (329, 1),\n",
       " (332, 1),\n",
       " (334, 1),\n",
       " (335, 1),\n",
       " (336, 3),\n",
       " (337, 1),\n",
       " (338, 1),\n",
       " (341, 1),\n",
       " (342, 1),\n",
       " (343, 2),\n",
       " (344, 1),\n",
       " (346, 1),\n",
       " (348, 1),\n",
       " (349, 1),\n",
       " (350, 2),\n",
       " (351, 1),\n",
       " (354, 1),\n",
       " (355, 1),\n",
       " (356, 2),\n",
       " (359, 1),\n",
       " (360, 1),\n",
       " (363, 2),\n",
       " (364, 2),\n",
       " (365, 2),\n",
       " (366, 1),\n",
       " (367, 1),\n",
       " (368, 1),\n",
       " (370, 2),\n",
       " (371, 3),\n",
       " (372, 1),\n",
       " (373, 1),\n",
       " (374, 1),\n",
       " (375, 1),\n",
       " (376, 1),\n",
       " (377, 2),\n",
       " (378, 1),\n",
       " (379, 1),\n",
       " (380, 2),\n",
       " (382, 2),\n",
       " (385, 1),\n",
       " (388, 2),\n",
       " (389, 2),\n",
       " (390, 2),\n",
       " (391, 1),\n",
       " (395, 3),\n",
       " (396, 2),\n",
       " (397, 1),\n",
       " (399, 1),\n",
       " (400, 1),\n",
       " (402, 1),\n",
       " (403, 1),\n",
       " (406, 2),\n",
       " (407, 1),\n",
       " (408, 1),\n",
       " (410, 2),\n",
       " (413, 1),\n",
       " (416, 3),\n",
       " (417, 1),\n",
       " (418, 1),\n",
       " (419, 1),\n",
       " (421, 2),\n",
       " (423, 3),\n",
       " (425, 3),\n",
       " (430, 1),\n",
       " (431, 2),\n",
       " (432, 1),\n",
       " (433, 1),\n",
       " (436, 2),\n",
       " (439, 1),\n",
       " (440, 1),\n",
       " (441, 1),\n",
       " (442, 1),\n",
       " (443, 1),\n",
       " (444, 1),\n",
       " (445, 2),\n",
       " (446, 1),\n",
       " (447, 2),\n",
       " (448, 1),\n",
       " (450, 3),\n",
       " (451, 2),\n",
       " (452, 1),\n",
       " (454, 1),\n",
       " (455, 1),\n",
       " (457, 1),\n",
       " (458, 1),\n",
       " (465, 2),\n",
       " (467, 1),\n",
       " (468, 1),\n",
       " (470, 1),\n",
       " (471, 3),\n",
       " (474, 1),\n",
       " (475, 1),\n",
       " (477, 2),\n",
       " (479, 1),\n",
       " (480, 2),\n",
       " (481, 1),\n",
       " (482, 1),\n",
       " (483, 3),\n",
       " (488, 1),\n",
       " (490, 1),\n",
       " (491, 1),\n",
       " (494, 1),\n",
       " (496, 2),\n",
       " (497, 1),\n",
       " (498, 2),\n",
       " (499, 2),\n",
       " (500, 1),\n",
       " (502, 1),\n",
       " (503, 2),\n",
       " (504, 1),\n",
       " (510, 1),\n",
       " (512, 1),\n",
       " (513, 1),\n",
       " (518, 3),\n",
       " (527, 1),\n",
       " (532, 1),\n",
       " (536, 2),\n",
       " (540, 1),\n",
       " (544, 1),\n",
       " (546, 2),\n",
       " (547, 3),\n",
       " (549, 1),\n",
       " (551, 1),\n",
       " (555, 2),\n",
       " (558, 1),\n",
       " (566, 2),\n",
       " (567, 1),\n",
       " (568, 1),\n",
       " (569, 1),\n",
       " (575, 1),\n",
       " (576, 1),\n",
       " (585, 1),\n",
       " (588, 1),\n",
       " (591, 1),\n",
       " (595, 2),\n",
       " (596, 1),\n",
       " (597, 1),\n",
       " (599, 1),\n",
       " (603, 1),\n",
       " (605, 1),\n",
       " (607, 1),\n",
       " (609, 1),\n",
       " (610, 1),\n",
       " (611, 1),\n",
       " (612, 1),\n",
       " (613, 1),\n",
       " (617, 1),\n",
       " (618, 1),\n",
       " (619, 1),\n",
       " (628, 1),\n",
       " (631, 1),\n",
       " (632, 1),\n",
       " (636, 1),\n",
       " (644, 2),\n",
       " (649, 1),\n",
       " (653, 1),\n",
       " (655, 2),\n",
       " (659, 1),\n",
       " (665, 1),\n",
       " (669, 1),\n",
       " (675, 1),\n",
       " (680, 1),\n",
       " (687, 2),\n",
       " (692, 1),\n",
       " (703, 1),\n",
       " (712, 1),\n",
       " (736, 1),\n",
       " (738, 1),\n",
       " (748, 1),\n",
       " (753, 1),\n",
       " (754, 1),\n",
       " (763, 1),\n",
       " (766, 1),\n",
       " (769, 1),\n",
       " (778, 1),\n",
       " (779, 1),\n",
       " (800, 2),\n",
       " (804, 1),\n",
       " (809, 1),\n",
       " (821, 1),\n",
       " (839, 1),\n",
       " (853, 1),\n",
       " (869, 1),\n",
       " (873, 1),\n",
       " (883, 1),\n",
       " (899, 1),\n",
       " (900, 1),\n",
       " (908, 1),\n",
       " (924, 1),\n",
       " (935, 1),\n",
       " (938, 1),\n",
       " (945, 1),\n",
       " (953, 1),\n",
       " (958, 1),\n",
       " (967, 1),\n",
       " (972, 1),\n",
       " (973, 1),\n",
       " (975, 1),\n",
       " (979, 1),\n",
       " (991, 1),\n",
       " (1006, 1),\n",
       " (1011, 1),\n",
       " (1036, 1),\n",
       " (1038, 1),\n",
       " (1046, 1),\n",
       " (1061, 1),\n",
       " (1068, 1),\n",
       " (1090, 1),\n",
       " (1142, 1),\n",
       " (1171, 1),\n",
       " (1184, 1),\n",
       " (1192, 1),\n",
       " (1208, 1),\n",
       " (1217, 1),\n",
       " (1225, 1),\n",
       " (1250, 1),\n",
       " (1256, 1),\n",
       " (1305, 1),\n",
       " (1324, 1),\n",
       " (1331, 1),\n",
       " (1361, 1),\n",
       " (1368, 1),\n",
       " (1369, 1),\n",
       " (1446, 1),\n",
       " (1486, 1),\n",
       " (1559, 1),\n",
       " (1588, 1),\n",
       " (1593, 1),\n",
       " (1668, 1),\n",
       " (1725, 1),\n",
       " (1726, 1),\n",
       " (1756, 1),\n",
       " (1837, 1),\n",
       " (2003, 1),\n",
       " (2742, 1),\n",
       " (2923, 1)]"
      ]
     },
     "execution_count": 10,
     "metadata": {},
     "output_type": "execute_result"
    }
   ],
   "source": [
    "from collections import Counter\n",
    "counter = Counter([len(s) for s in sentences])\n",
    "sorted(counter.items())"
   ]
  },
  {
   "cell_type": "code",
   "execution_count": 11,
   "metadata": {},
   "outputs": [
    {
     "data": {
      "text/plain": [
       "[\"you're jokin'  you're jokin'  i can't believe  my eyes  you're jokin' me  you gotta be  this can't be  the right guy  he's ancient  he's ugly  i don't know  which is worse  i might just split a seam now  if i don't die laughin' first  mr. oogie boogie says  there's trouble close at hand  you better  pay attention now  'cause i'm  the boogie man  and if you  aren't shakin'  there's somethin'  very wrong  'cause this may be the last time  you hear the boogie song  whoaoh  wahah  whoaho  ow  whoaoh  wow  i'm the oogie boogie man  release me now or you must  face the dire consequences  the children are expecting me  so please, come to your senses  ah, you're jokin'  you're jokin'  i can't believe  my ears  would someone  shut this fella up  i'm drownin'  in my tears  he's funny  i'm laughin'  you really are  too much  and now  with your permission  i'm goin' to do my stuff  what are you going to do?\"]"
      ]
     },
     "execution_count": 11,
     "metadata": {},
     "output_type": "execute_result"
    }
   ],
   "source": [
    "[s for s in sentences if len(s) == 908]"
   ]
  },
  {
   "cell_type": "markdown",
   "metadata": {},
   "source": [
    "# WORD2VEC"
   ]
  },
  {
   "cell_type": "code",
   "execution_count": 12,
   "metadata": {},
   "outputs": [],
   "source": [
    "import logging\n",
    "logging.basicConfig(format='%(asctime)s : %(levelname)s : %(message)s', level=logging.ERROR)"
   ]
  },
  {
   "cell_type": "code",
   "execution_count": 13,
   "metadata": {},
   "outputs": [],
   "source": [
    "from gensim.models import Word2Vec\n",
    "w2v_model = Word2Vec(tok_sents, size=200, window=10, min_count=15, sg=0, iter=20, negative=10)"
   ]
  },
  {
   "cell_type": "code",
   "execution_count": 14,
   "metadata": {},
   "outputs": [
    {
     "data": {
      "text/plain": [
       "2725"
      ]
     },
     "execution_count": 14,
     "metadata": {},
     "output_type": "execute_result"
    }
   ],
   "source": [
    "#learned vocabulary\n",
    "words = list(w2v_model.wv.vocab)\n",
    "len(words)"
   ]
  },
  {
   "cell_type": "code",
   "execution_count": 15,
   "metadata": {},
   "outputs": [
    {
     "data": {
      "text/plain": [
       "[('hail', 0.8734434247016907),\n",
       " ('atta', 0.7436292767524719),\n",
       " ('princess', 0.7379677891731262),\n",
       " ('queen', 0.7312297224998474),\n",
       " ('health', 0.7117342352867126),\n",
       " ('gift', 0.6559451818466187),\n",
       " ('beloved', 0.6418209671974182),\n",
       " ('yudhishtir', 0.610481858253479),\n",
       " ('arendelle', 0.6002275943756104),\n",
       " ('king', 0.59516841173172)]"
      ]
     },
     "execution_count": 15,
     "metadata": {},
     "output_type": "execute_result"
    }
   ],
   "source": [
    "w2v_model.wv.most_similar(['aurora'])"
   ]
  },
  {
   "cell_type": "code",
   "execution_count": 16,
   "metadata": {},
   "outputs": [
    {
     "data": {
      "text/plain": [
       "[('queen', 0.6415515542030334),\n",
       " ('aurora', 0.6103020310401917),\n",
       " ('hail', 0.5977053642272949),\n",
       " ('england', 0.5353997349739075),\n",
       " ('gods', 0.5154109597206116),\n",
       " ('kingdom', 0.5104103088378906),\n",
       " ('gift', 0.4848730266094208),\n",
       " ('health', 0.47159403562545776),\n",
       " ('racer', 0.4565645456314087),\n",
       " ('arendelle', 0.4518205523490906)]"
      ]
     },
     "execution_count": 16,
     "metadata": {},
     "output_type": "execute_result"
    }
   ],
   "source": [
    "w2v_model.wv.most_similar(['king', 'princess'], ['prince'])"
   ]
  },
  {
   "cell_type": "code",
   "execution_count": 17,
   "metadata": {},
   "outputs": [
    {
     "data": {
      "text/plain": [
       "0.39351386"
      ]
     },
     "execution_count": 17,
     "metadata": {},
     "output_type": "execute_result"
    }
   ],
   "source": [
    "w2v_model.wv.similarity('king', 'majesty')"
   ]
  },
  {
   "cell_type": "markdown",
   "metadata": {},
   "source": [
    "# constructin matrix for graph"
   ]
  },
  {
   "cell_type": "code",
   "execution_count": 18,
   "metadata": {},
   "outputs": [
    {
     "data": {
      "text/plain": [
       "2725"
      ]
     },
     "execution_count": 18,
     "metadata": {},
     "output_type": "execute_result"
    }
   ],
   "source": [
    "voc = set(w2v_model.wv.vocab)\n",
    "len(voc)"
   ]
  },
  {
   "cell_type": "code",
   "execution_count": 19,
   "metadata": {},
   "outputs": [
    {
     "data": {
      "text/plain": [
       "2591"
      ]
     },
     "execution_count": 19,
     "metadata": {},
     "output_type": "execute_result"
    }
   ],
   "source": [
    "voc = voc.difference(en_stopwords)\n",
    "len(voc)"
   ]
  },
  {
   "cell_type": "code",
   "execution_count": 20,
   "metadata": {},
   "outputs": [],
   "source": [
    "indici = dict()\n",
    "for index, key in enumerate(voc):\n",
    "    if key not in indici:\n",
    "        indici[key] = index\n",
    "        \n",
    "reverse_indici = dict()\n",
    "for term, termID in indici.items():\n",
    "    reverse_indici[termID] = term"
   ]
  },
  {
   "cell_type": "code",
   "execution_count": 21,
   "metadata": {},
   "outputs": [
    {
     "data": {
      "text/plain": [
       "2591"
      ]
     },
     "execution_count": 21,
     "metadata": {},
     "output_type": "execute_result"
    }
   ],
   "source": [
    "#costruzione matrice\n",
    "graph_matrix = np.zeros(shape=(len(voc), len(voc)), dtype=np.float32)\n",
    "\n",
    "for index1, key1 in enumerate(voc):\n",
    "    for index2, key2 in enumerate(voc):\n",
    "        graph_matrix[index1 ][index2] = w2v_model.wv.similarity(key1, key2)\n",
    "        \n",
    "len(graph_matrix)"
   ]
  },
  {
   "cell_type": "code",
   "execution_count": 35,
   "metadata": {},
   "outputs": [
    {
     "name": "stdout",
     "output_type": "stream",
     "text": [
      "nodes: 279\n",
      "links: 253\n"
     ]
    }
   ],
   "source": [
    "#constructing the list of tuples\n",
    "graph_list = []\n",
    "nodes = set() # <-- NUOVO\n",
    "for x in range(len(graph_matrix)):\n",
    "    for y in range(x+1, len(graph_matrix)):\n",
    "        if graph_matrix[x][y] >= 0.7 and x != y:\n",
    "            nodes |= set([reverse_indici[x], reverse_indici[y]])\n",
    "            graph_list.append((reverse_indici[x],reverse_indici[y],graph_matrix[x][y]))      \n",
    "print('nodes:', len(nodes))\n",
    "print('links:', len(graph_list))"
   ]
  },
  {
   "cell_type": "code",
   "execution_count": 36,
   "metadata": {},
   "outputs": [],
   "source": [
    "# NUOVO\n",
    "graph = dict()\n",
    "graph[\"nodes\"] = [{\"id\": t} for t in nodes]\n",
    "graph[\"links\"] = [{\"source\":t[0], \"target\":t[1], \"value\":float(t[2])} for t in graph_list]\n",
    "with open('data.json', 'w') as outfile:\n",
    "    json.dump(graph, outfile)"
   ]
  },
  {
   "cell_type": "markdown",
   "metadata": {},
   "source": [
    "## FastText"
   ]
  },
  {
   "cell_type": "code",
   "execution_count": 24,
   "metadata": {},
   "outputs": [],
   "source": [
    "from gensim.models import FastText\n",
    "fast_model = FastText(tok_sents,size=100, window=10, min_count=5, sg=1, iter=20, negative=10)"
   ]
  },
  {
   "cell_type": "code",
   "execution_count": 25,
   "metadata": {},
   "outputs": [
    {
     "data": {
      "text/plain": [
       "[('applause', 0.6684627532958984),\n",
       " ('example', 0.6109883785247803),\n",
       " ('triple', 0.6024612784385681),\n",
       " ('butch', 0.5653321146965027),\n",
       " ('pie', 0.5465620160102844),\n",
       " ('purple', 0.5435370206832886),\n",
       " ('profile', 0.5335412621498108),\n",
       " ('juicy', 0.532211184501648),\n",
       " ('diet', 0.5283253788948059),\n",
       " ('dimple', 0.526831328868866)]"
      ]
     },
     "execution_count": 25,
     "metadata": {},
     "output_type": "execute_result"
    }
   ],
   "source": [
    "fast_model.wv.most_similar(['apple'])"
   ]
  },
  {
   "cell_type": "code",
   "execution_count": 26,
   "metadata": {},
   "outputs": [
    {
     "data": {
      "text/plain": [
       "[('richard', 0.7180807590484619),\n",
       " ('viking', 0.6615813970565796),\n",
       " ('hastinapur', 0.6610158681869507),\n",
       " ('kingdom', 0.644915759563446),\n",
       " ('england', 0.6400753855705261),\n",
       " ('arthur', 0.6266749501228333),\n",
       " ('stefan', 0.5838980674743652),\n",
       " ('horned', 0.581543505191803),\n",
       " ('yudhishtir', 0.571908175945282),\n",
       " ('skeleton', 0.5635082125663757)]"
      ]
     },
     "execution_count": 26,
     "metadata": {},
     "output_type": "execute_result"
    }
   ],
   "source": [
    "fast_model.wv.most_similar(['king'])"
   ]
  },
  {
   "cell_type": "code",
   "execution_count": 27,
   "metadata": {},
   "outputs": [
    {
     "data": {
      "text/plain": [
       "[('symbol', 0.5950874090194702),\n",
       " ('thunderbolt', 0.5921159386634827),\n",
       " ('tragic', 0.5835063457489014),\n",
       " ('hideout', 0.5819932818412781),\n",
       " ('newspaper', 0.5803345441818237),\n",
       " ('dinosaur', 0.5791431069374084),\n",
       " ('greeneyed', 0.5747506618499756),\n",
       " ('triumph', 0.5740880370140076),\n",
       " ('wondrous', 0.5735598206520081),\n",
       " ('oneeyed', 0.5681384205818176)]"
      ]
     },
     "execution_count": 27,
     "metadata": {},
     "output_type": "execute_result"
    }
   ],
   "source": [
    "fast_model.wv.most_similar(['mirror'])"
   ]
  },
  {
   "cell_type": "code",
   "execution_count": 28,
   "metadata": {},
   "outputs": [
    {
     "ename": "NameError",
     "evalue": "name 'test_file' is not defined",
     "output_type": "error",
     "traceback": [
      "\u001b[0;31m---------------------------------------------------------------------------\u001b[0m",
      "\u001b[0;31mNameError\u001b[0m                                 Traceback (most recent call last)",
      "\u001b[0;32m<ipython-input-28-fa89631733d0>\u001b[0m in \u001b[0;36m<module>\u001b[0;34m\u001b[0m\n\u001b[0;32m----> 1\u001b[0;31m \u001b[0mfasttext_wAp_analogy\u001b[0m \u001b[0;34m=\u001b[0m \u001b[0mfast_model\u001b[0m\u001b[0;34m.\u001b[0m\u001b[0mwv\u001b[0m\u001b[0;34m.\u001b[0m\u001b[0mevaluate_word_analogies\u001b[0m\u001b[0;34m(\u001b[0m\u001b[0mtest_file\u001b[0m\u001b[0;34m,\u001b[0m \u001b[0mdummy4unknown\u001b[0m\u001b[0;34m=\u001b[0m\u001b[0;32mTrue\u001b[0m\u001b[0;34m)\u001b[0m\u001b[0;34m\u001b[0m\u001b[0;34m\u001b[0m\u001b[0m\n\u001b[0m",
      "\u001b[0;31mNameError\u001b[0m: name 'test_file' is not defined"
     ]
    }
   ],
   "source": [
    "fasttext_wAp_analogy = fast_model.wv.evaluate_word_analogies(test_file, dummy4unknown=True)"
   ]
  },
  {
   "cell_type": "markdown",
   "metadata": {},
   "source": [
    "# google precomputed word embeddings"
   ]
  },
  {
   "cell_type": "code",
   "execution_count": null,
   "metadata": {},
   "outputs": [],
   "source": [
    "import gensim\n",
    "google_w2v_file = 'GoogleNews-vectors-negative300.bin'\n",
    "google_model = gensim.models.KeyedVectors.load_word2vec_format(google_w2v_file,binary=True)"
   ]
  },
  {
   "cell_type": "code",
   "execution_count": null,
   "metadata": {},
   "outputs": [],
   "source": [
    "google_model.most_similar(['king','female'],['male'])"
   ]
  },
  {
   "cell_type": "code",
   "execution_count": null,
   "metadata": {},
   "outputs": [],
   "source": [
    "w2v_large_analogy = google_model.wv.accuracy(test_file)"
   ]
  },
  {
   "cell_type": "code",
   "execution_count": null,
   "metadata": {},
   "outputs": [],
   "source": []
  }
 ],
 "metadata": {
  "kernelspec": {
   "display_name": "Python 3",
   "language": "python",
   "name": "python3"
  },
  "language_info": {
   "codemirror_mode": {
    "name": "ipython",
    "version": 3
   },
   "file_extension": ".py",
   "mimetype": "text/x-python",
   "name": "python",
   "nbconvert_exporter": "python",
   "pygments_lexer": "ipython3",
   "version": "3.7.6"
  }
 },
 "nbformat": 4,
 "nbformat_minor": 4
}
