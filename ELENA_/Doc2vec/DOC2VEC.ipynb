{
 "cells": [
  {
   "cell_type": "code",
   "execution_count": 1,
   "metadata": {},
   "outputs": [],
   "source": [
    "import pandas as pd\n",
    "import csv\n",
    "import re\n",
    "import os\n",
    "from gensim.test.utils import common_texts\n",
    "from gensim.models import Doc2Vec\n",
    "from gensim.models.doc2vec import TaggedDocument"
   ]
  },
  {
   "cell_type": "code",
   "execution_count": 2,
   "metadata": {},
   "outputs": [],
   "source": [
    "file='to_doc2vec.csv'"
   ]
  },
  {
   "cell_type": "code",
   "execution_count": 3,
   "metadata": {},
   "outputs": [],
   "source": [
    "df=pd.read_csv(file)"
   ]
  },
  {
   "cell_type": "code",
   "execution_count": 4,
   "metadata": {},
   "outputs": [
    {
     "data": {
      "text/html": [
       "<div>\n",
       "<style scoped>\n",
       "    .dataframe tbody tr th:only-of-type {\n",
       "        vertical-align: middle;\n",
       "    }\n",
       "\n",
       "    .dataframe tbody tr th {\n",
       "        vertical-align: top;\n",
       "    }\n",
       "\n",
       "    .dataframe thead th {\n",
       "        text-align: right;\n",
       "    }\n",
       "</style>\n",
       "<table border=\"1\" class=\"dataframe\">\n",
       "  <thead>\n",
       "    <tr style=\"text-align: right;\">\n",
       "      <th></th>\n",
       "      <th>Title</th>\n",
       "      <th>House</th>\n",
       "      <th>Decade</th>\n",
       "      <th>Year</th>\n",
       "      <th>Category</th>\n",
       "      <th>Text</th>\n",
       "    </tr>\n",
       "  </thead>\n",
       "  <tbody>\n",
       "    <tr>\n",
       "      <td>20</td>\n",
       "      <td>Snow White and the Seven Dwarfs</td>\n",
       "      <td>Disney</td>\n",
       "      <td>1930</td>\n",
       "      <td>1937</td>\n",
       "      <td>Animation</td>\n",
       "      <td>Slave in the Magic Mirror, come from the farth...</td>\n",
       "    </tr>\n",
       "    <tr>\n",
       "      <td>21</td>\n",
       "      <td>Bambi</td>\n",
       "      <td>Disney</td>\n",
       "      <td>1940</td>\n",
       "      <td>1942</td>\n",
       "      <td>Animation</td>\n",
       "      <td>Love is a song that never ends  Life may be sw...</td>\n",
       "    </tr>\n",
       "    <tr>\n",
       "      <td>22</td>\n",
       "      <td>Dumbo</td>\n",
       "      <td>Disney</td>\n",
       "      <td>1940</td>\n",
       "      <td>1941</td>\n",
       "      <td>Animation</td>\n",
       "      <td>Through the snow and sleet and hail... through...</td>\n",
       "    </tr>\n",
       "    <tr>\n",
       "      <td>23</td>\n",
       "      <td>Pinocchio</td>\n",
       "      <td>Disney</td>\n",
       "      <td>1940</td>\n",
       "      <td>1940</td>\n",
       "      <td>Animation</td>\n",
       "      <td>When you wish upon a star   Makes no differen...</td>\n",
       "    </tr>\n",
       "    <tr>\n",
       "      <td>24</td>\n",
       "      <td>The Adventures of Ichabod and Mr Toad</td>\n",
       "      <td>Disney</td>\n",
       "      <td>1940</td>\n",
       "      <td>1949</td>\n",
       "      <td>Animation</td>\n",
       "      <td>Ichabod and Mr Toad  Ichabod  Ichabod and Mr T...</td>\n",
       "    </tr>\n",
       "    <tr>\n",
       "      <td>...</td>\n",
       "      <td>...</td>\n",
       "      <td>...</td>\n",
       "      <td>...</td>\n",
       "      <td>...</td>\n",
       "      <td>...</td>\n",
       "      <td>...</td>\n",
       "    </tr>\n",
       "    <tr>\n",
       "      <td>324</td>\n",
       "      <td>The Sorcerer Apprentice</td>\n",
       "      <td>Disney</td>\n",
       "      <td>2010</td>\n",
       "      <td>2010</td>\n",
       "      <td>Live Action</td>\n",
       "      <td>The war between sorcerers was fought... in the...</td>\n",
       "    </tr>\n",
       "    <tr>\n",
       "      <td>325</td>\n",
       "      <td>Timmy Failure Mistakes Were Made</td>\n",
       "      <td>Disney</td>\n",
       "      <td>2010</td>\n",
       "      <td>2020</td>\n",
       "      <td>Live Action</td>\n",
       "      <td>Whether I'm right Or whether I'm wrong Whethe...</td>\n",
       "    </tr>\n",
       "    <tr>\n",
       "      <td>326</td>\n",
       "      <td>Togo</td>\n",
       "      <td>Disney</td>\n",
       "      <td>2010</td>\n",
       "      <td>2019</td>\n",
       "      <td>Live Action</td>\n",
       "      <td>Haw, Togo! Haw! Haw! Good dog! Good dog! Leav...</td>\n",
       "    </tr>\n",
       "    <tr>\n",
       "      <td>327</td>\n",
       "      <td>Tomorrowland</td>\n",
       "      <td>Disney</td>\n",
       "      <td>2010</td>\n",
       "      <td>2015</td>\n",
       "      <td>Live Action</td>\n",
       "      <td>Are they on? Yep. So, introduce yourself. Okay...</td>\n",
       "    </tr>\n",
       "    <tr>\n",
       "      <td>328</td>\n",
       "      <td>TRON Legacy</td>\n",
       "      <td>Disney</td>\n",
       "      <td>2010</td>\n",
       "      <td>2010</td>\n",
       "      <td>Live Action</td>\n",
       "      <td>A digital frontier. I tried to picture cluster...</td>\n",
       "    </tr>\n",
       "  </tbody>\n",
       "</table>\n",
       "<p>309 rows × 6 columns</p>\n",
       "</div>"
      ],
      "text/plain": [
       "                                     Title   House  Decade  Year     Category  \\\n",
       "20         Snow White and the Seven Dwarfs  Disney    1930  1937    Animation   \n",
       "21                                   Bambi  Disney    1940  1942    Animation   \n",
       "22                                   Dumbo  Disney    1940  1941    Animation   \n",
       "23                               Pinocchio  Disney    1940  1940    Animation   \n",
       "24   The Adventures of Ichabod and Mr Toad  Disney    1940  1949    Animation   \n",
       "..                                     ...     ...     ...   ...          ...   \n",
       "324                The Sorcerer Apprentice  Disney    2010  2010  Live Action   \n",
       "325       Timmy Failure Mistakes Were Made  Disney    2010  2020  Live Action   \n",
       "326                                   Togo  Disney    2010  2019  Live Action   \n",
       "327                           Tomorrowland  Disney    2010  2015  Live Action   \n",
       "328                            TRON Legacy  Disney    2010  2010  Live Action   \n",
       "\n",
       "                                                  Text  \n",
       "20   Slave in the Magic Mirror, come from the farth...  \n",
       "21   Love is a song that never ends  Life may be sw...  \n",
       "22   Through the snow and sleet and hail... through...  \n",
       "23    When you wish upon a star   Makes no differen...  \n",
       "24   Ichabod and Mr Toad  Ichabod  Ichabod and Mr T...  \n",
       "..                                                 ...  \n",
       "324  The war between sorcerers was fought... in the...  \n",
       "325   Whether I'm right Or whether I'm wrong Whethe...  \n",
       "326   Haw, Togo! Haw! Haw! Good dog! Good dog! Leav...  \n",
       "327  Are they on? Yep. So, introduce yourself. Okay...  \n",
       "328  A digital frontier. I tried to picture cluster...  \n",
       "\n",
       "[309 rows x 6 columns]"
      ]
     },
     "execution_count": 4,
     "metadata": {},
     "output_type": "execute_result"
    }
   ],
   "source": [
    "df[df['House']== 'Disney']"
   ]
  },
  {
   "cell_type": "code",
   "execution_count": 5,
   "metadata": {},
   "outputs": [],
   "source": [
    "text=df['Text'][1]"
   ]
  },
  {
   "cell_type": "code",
   "execution_count": 6,
   "metadata": {},
   "outputs": [
    {
     "data": {
      "text/plain": [
       "str"
      ]
     },
     "execution_count": 6,
     "metadata": {},
     "output_type": "execute_result"
    }
   ],
   "source": [
    "type(text)"
   ]
  },
  {
   "cell_type": "code",
   "execution_count": 7,
   "metadata": {},
   "outputs": [
    {
     "data": {
      "text/plain": [
       "'Car\\'s here! It\\'s 9:00! We\\'ll miss our flight! Traveler\\'s checks... You have the tickets? Tabitha, did you feed Roddy? Oops. I just know we\\'ve forgotten something. Roddy, where are you? We\\'ll be back in a few days, so here\\'s enough food for you. Here\\'s more. Tabitha! Here\\'s a little more. I hope you\\'re not overfeeding him. Of course not, Mum. Come on, Tabitha! Bye, Roddy. We don\\'t want to miss our holiday. I\\'m coming, I\\'m coming! When the cat\\'s away... ...the mice will play! The holiday starts now, everyone! Music, maestro! Hey, what are you all standing around for? I got a big day planned! Let\\'s go, people! Chopchop! Nope. Nope. Nope. Nope. Nope. Nope. Nope. Mm. Buckle up, everyone. Fore! Oops. Sorry. Game point. Service! We win! We win, team! We win! Perfect. Having a good time, darling? Thank you. See you tomorrow. Good night! Good night! Good night! Yeah, well. Good night then, Roddy. What was that? Who\\'s there? Wake up. I think there\\'s someone in the house. Sarge, wake up! Approaching enemy lines.  I\\'m armed and ready.  At ease, soldier. Give up your weapons of mass destruction.  Come get me, enemy of freedom! I\\'m armed and ready.  Tell Mom l...love...her.  Yeeha! They do not, repeat, not, have food like this in the sewer. A sewer rat! Who... What... How did you get here? I don\\'t know. One minute I\\'m in the pub. Next thing you know, whoosh! It\\'s a burst water main! Off I go, shooting up the pipes. And, well, here I am. I have a plunger. We can shoot you right back. Do you like seafood? Can I call you a cab? Blah! See food! Get it? Have you got a TV? Yes, but... Say no more! No. Leave that. Geronimo! No, don\\'t... touch anything. Would you look at the size of that monster?! Careful, mate. Those aren\\'t chocolate buttons. It\\'s the match of the century! The FlFA World Cup Final!  England. Germany.  Yes! Boo! Live this Sunday. Be there.  This place is great! I\\'m staying here forever! What? Game point. Service! We win, we win! You lose! In your face! Right, my friend. You don\\'t belong here. I\\'m afraid it\\'s time for you to leave. I would not do that if I was you, pal. Let me lay this out for you. This place is mine now. Sid says, \"Jump,\" you say, \"How high?\" Comprende? Fetch us some PopTarts from the kitchen, Jeeves. Be snappy about it. Yes, sir. Right away, sir. That\\'s more like it. But before breakfast is served... ...perhaps sir would care to take a whirl in the Jacuzzi. A Jacuzzi? You\\'re a real gent. After a hard day navigating sewer pipes, there\\'s nothing better than relaxing in a Jacuzzi whirlpool bath. That looks so inviting. Yes. The water looks perfect! Now you hop in, and I\\'ll press this lever to get the bubbles going. Right. In we go! Oh! Wait, wait, wait, wait, wait, wait. I know we got off on the wrong foot before, but I think we\\'re gonna get along, don\\'t you? Swimmingly. Be seeing you. You plonker! You think I don\\'t know a toilet when I see one? You were going to flush me down the loo. No! It\\'s a big Jacuzzi! Deluxe model! Then you won\\'t mind if I get the bubbles going. No! Not the lever! Have mercy! No, I can\\'t swim! Bon voyage, me old cream cracker! Hold your nose! You can\\'t do this! You were going to try to flush me. Let\\'s see how you like it. Have you seen my dad? Ah! Oh, no, I can\\'t swim! I can\\'t swim! I can\\'t... ...swim. I\\'m... in... the sewer! Hello? Help? I\\'m gonna open my eyes and be home. This is all a bad dream. I\\'m not home! I wanna go home! Shush! Stop it. Roddy! I want to go home! Pull yourself together! I can\\'t. I\\'m frightened. Stop it, stop it, stop it! All right, Roddy, old man, you can get yourself out of here, and you will. Never forget, the blood of the courageous James clan flows through your veins. Extra! Extra! Read all about it! A way out! Yes! Hey! That took me 3 years to draw! I\\'m terribly sorry. Three years? I just finished it this morning! Three years? Good grief! What is this place? Hold the bus! Feed the flies! Tuppence a bag! It\\'s a real city! My smalls! Is it a bird? Is it a plane? Is that guy wearing my underpants? Make him move, honey. Boy, you got a face like a frying pan! Come on! I don\\'t think he speaks English. He moved! Did you get it? Got it! Good. Sorry, sorry. It\\'s coming! What? Where? Who? The Great Flood! Those floodgates won\\'t hold forever, you know! We\\'re doomed! You think you can back away from the truth! \\'Ello, hello, hello. What\\'s all this then? Thank heavens! A policeman! This wacko has been chasing after me! \\'Morning, Harold. \\'Morning, Collin. How are you? Can\\'t complain. Keep an eye on this one. He\\'s a bit of a loony. We\\'re doomed! Are you kidding me? Right. Let\\'s give you a police escort home. Great! I live in Kensington. Up there. The surface. Up Top? Oh, no. No, no, no. The humans don\\'t like our sort. Speak for yourself. They like me very much up there. I don\\'t like your attitude. I\\'ve got my eye on you, sunshine. You\\'re trying to get Up Top, me hearty? Yes. There\\'s one person \\'round here might be able to help you. Might. Really? Shady customer. The captain of the Jammy Dodger. If you can find it. I know where it is! And remember, the name of the boat\\'s the Jammy Dodger. Thanks for bringing me this far. You\\'re welcome. See ya! Beware. Beware. Hello? Permission to come aboard? Ahoy there? Sorry. I didn\\'t mean to intrude, Mr. Captain, Skipper, Thingy. Hey! That\\'s Miss Captain Skipper Thingy to you. Oops. What are you doing in my boat? I\\'ve had a bad day and need your help. I was thrown out of my own home, flushed down my own toilet. Thank you, too much information. I have my own problems. She\\'s around here somewhere! Stay down. And keep quiet. Why? Who are we hiding from? I said quiet! There\\'s rats after me who\\'d like to kill me. Well, I\\'ll contain my amazement. All right, all right. Quiet as a mouse. Over there! You idiot! Sorry about that. I\\'ll be off then. Sorry. Ah! Sorry. Sorry. Sorry! We can\\'t let her get away! Come on, Jammy, me old mate, don\\'t do this to me! Let me go, you pinkeyed freak! I\\'m upset now. Whatever\\'s going on, I\\'m not involved. I\\'m an innocent bystander! Rita, Rita, Rita! You thought you could give us the slip. What are you looking at? Keep still! Come on, then! Right! Who have we got here? I believe he said his name was Millicent Bystander. Millicent! Actually, no... Now, then, where\\'s the ruby, Rita? The boss wants it back. I don\\'t have your stupid ruby. OK, are we going to do it the easy way... ...or the hard way? I think we should do it the easy way, don\\'t you, Spike? All right. Check the tin. Good girl. See, Whitey, this is how I do it. Watch and learn, my son. Watch and... Was it in there? Right! Rip it up, lads! Hey, you get your filthy paws off my stuff! It\\'s in here somewhere. I can feel it in me guts! That\\'ll be last night\\'s curry. I\\'m the same. I got a bum like the Japanese flag. Will you please tell them I\\'m not involved in this? Fine. All right, all right, listen up. This gentleman, he\\'s not from around here. Thank you. Just look how nicely he\\'s dressed. Thank you. And why? Because he\\'s an international jewel thief! Precisely. What? No, no! He stole the ruby from me! No, she\\'s lying! All right, all right! It\\'s time to bring out... ...the Persuader. Your choice, mate. You can talk now or you can talk later. Ain\\'t that right, Persuader? Yeah, in a much higher voice! The Persuader\\'s alive, Spike! You\\'ll be singing like a tea kettle. Good one, Persuader. I don\\'t even know her! I don\\'t know anything! Careful, miss. You\\'ll injure yourself. I know where it is! Come on, then. Spit it out! Don\\'t you dare! Look at her bottom. Is it me, or is it oddly shaped? You little snitch. The booty\\'s in the booty. Hey! Thanks, mate! The boss is gonna be so happy with us. You\\'re toast. So you\\'re from Up Top? I used to work in a laboratory Up Top. Yeah. Big shampoo job. I was dark grey when we started. Still, it cleared up me dandruff. The World Cup has become the most popular sporting event in the world.  Are you there, boss? We\\'re back. I\\'ve got it, boss. The ruby. I found it. Technically, Spike, it was Millicent that found it. Actually, the name\\'s Roddy. In exchange for my assistance, I was hoping you might... You might help me out of the pickle I\\'m in. Hello, Rita. Hello, handsome. And who is this? Is your new boyfriend a waiter? Boyfriend?! Waiter?! The prize returns to me. Did you imagine that I\\'d let you steal it from me? What?! That jewel belongs to my father, and you know it! Your father? A goodfornothing scavenger, just like his daughter! Excuse me. Actually, I\\'m the one that found your ruby. So... you... Perhaps you\\'d repay the favor and help me get home. Help me! Dispose of them. No, no, no, please! I just want to get home to Kensington! Kensington? The Royal Borough? Up Top? Yes. Up Top. Huzzah! A man of quality! Finally, somebody gets it. Finally, somebody gets it. Come, let me show you my private collection. I know you\\'ll find it diverting. My shrine to beauty. Works of high art crafted in tribute to our beloved Royal Family. Victoria\\'s bust, wrought in porcelain. Classy! Quite lifelike, wouldn\\'t you say? It\\'s as if she were here. Smooth to the touch. Easy, tiger. But come! Let us restore the heart and highlight of my collection... ...this ruby. Fallen from the very brow of ancient kings. A true crown jewel! Well, what do you think? He\\'s a madman! Run away! Pardon me. My fly\\'s undone. Well, your ruby certainly is a biggie. Indeed. How did it ever find me, here in the underbelly of the world? In this dark, low place. Yes. I\\'d love to see more of your collection. It\\'s very amusing, but l... Yes. I\\'d love to see more of your collection. It\\'s very amusing, but l... \"Amusing\"? Didn\\'t you say I\\'d find it amusing? I said you\\'d find it diverting, not amusing! When I said \"amusing\" I really meant it in the sense of the ancient Greek muse, the goddess of inspiration. Muse. Smashing. Heaven help me! Ice him! Ice them both! Let\\'s see if there\\'s anything good in the fridge. Former enemies, one and all. A catalogue of thieves, doublecrossers and dogooders. Prepare to meet your maker, your ice maker. Makes me laugh every time, that one. Shut that door. Liquid Nitrogen! That will freeze us instantly! There\\'s a paper clip in my back pocket. See if you can get it. In the pocket, in the pocket! Blimey, it\\'s cold. That\\'s why I wore me mittens. Hit men don\\'t wear mittens! Take them off! You\\'re embarrassing me. It\\'s all right for you. You\\'ve got little hands. Got it! They don\\'t get as cold. I ain\\'t got little hands! Yeah, you have. You got lady\\'s hands. They might be small, but they\\'re lethal weapons. You got your mother\\'s hands. Right. Put your hands together. You could have wiped your feet. Stop squirming! Goodbye, vermin. Now, let me see the latest addition to my cubist collection. What?! Impossible! Oi! Kermit! The prize returns to me! You big, fat, slimy airbag! After them! Why are you stopping? Don\\'t we have a plan? \"We\"? Who\\'s \"we\"? You can\\'t just leave me here! Faster, you idiots! They\\'re escaping! No! Not the master cable! We have a plan? Put that back! Wait, wait! That will never hold both of us. You\\'re right. Toodleoo. Wait! Ffffreeze! Oh, no! Don\\'t break! There are things I want to do, sights I want to see! That wasn\\'t on the list. Hey! Do something! Keep your legs straight when you hit the water! I kept me legs straight, Spike. Good grief, that\\'s high. Quite high. Rather high. So very, very high. Cool. See you! If she can do it... Here goes. Oh! And gently down. My ball. It\\'s my ball, it\\'s mine. Rita! Rita! Where is she? Rita! Target at twelve o\\'clock! Oh, come on! Careful, Whitey. That\\'s a banana skin. Rita! Over there! You look pretty ridiculous now, Millicent. Keep your legs straight! What are you, some kind of rat boomerang? Give me back my ruby! I haven\\'t got your ruby! OK. Well, now I\\'ve got your ruby. Please be careful. That ruby means a lot to me. It\\'s priceless! Hold on. It\\'s a fake. No, it\\'s blooming not. It\\'s real! No, no, no, look, it\\'s just glass. It\\'s real! Fake. Real! Fake. Real! Fake. Real! Fake. Real! Fake. Look, look, look. You can tell. Watch this. There, you see? You can\\'t break a real ruby. Right. I probably shouldn\\'t have done that. Look on the bright side. I saved your neck. Once The Toad knows it\\'s worthless, he\\'ll stop chasing you. Roddy St. James saves the day. Good grief! You try to do somebody a favor, and they... Ow! A favor?! That ruby was from Queen Elizabeth\\'s crown! It fell down the drain of Buckingham Palace! Maybe the Queen wears fake jewelry. Keep still! Can we just talk about this? Real or not, that ruby was going to change my life! Han Chin Chinese takeout.  A madwoman\\'s attacking me with crayons! One chicken chow mein. With wonton?  No, crayons! No wonton! You want rice? Fried or white?  Fried. No, wait! You want wonton or what?  Cancel that order. Rita? Just go away, please. I\\'m sorry. Sorry? Me and my dad worked these drains for years. He broke every bone in his body trying to get that ruby. It was going to be the answer to all our prayers. Now it turns out it was a stupid fake. Maybe I can make it up to you. Get stuffed. No, no, no. I mean it. Back at my place, we\\'ve got a jewelry box crammed with rubies and diamonds. Real ones. All you have to do is get me home to Kensington... ...and I\\'ll make you rich beyond your wildest dreams. How do I know this ain\\'t just a load of old rubbish? Well, I suppose you\\'ll just have to trust me. I must be out of my mind. All right. You\\'ve got yourself a deal. Go on. You too. Your own hand. Where are those idiots? It\\'s so hard to get good help these days, my boys. That\\'s right. Come on out, my lovelies. Cheer your old dad up. Poor Daddy, surrounded by filthy rats in this joyless, sunless void! But don\\'t worry, little men. Daddy will get rid of them all! He will. They\\'ll all be deadyweady. Did you find it? Did you find it? Well, we got most of it, boss. Forget the ruby! It\\'s the master cable that I want. The one that grubby creature Rita took. Oh! Without it, my plan is ruined! OK, chief. Forget the ruby. Ruby\\'s gone. See? See? Moving on. We are now your cable guys. Focused. Cablecentric, boss. You need to be back in time for the World Cup Final. Great! Are we watching the game together? Just get the cable! Keep your legs straight! Are you sure we should be stopping with goons after us? We aren\\'t gonna get far without a map, are we? Is that a house? Yes, and it\\'s very dangerous. So... Ah! ...why don\\'t you wait here. Waiting here. Excellent idea. Watch out for the piranha. Rita! Here you go, Annie. You, Shamus. Mimi, get your finger out of your nose. Fergus. Jojo, no biting. That is wild good! Rita! Tada! Rita\\'s back! Rita! Mum! Oh, Mum. Thank goodness you\\'re safe. Rita! Hello, Dad. Give us a hug, girl! Mom, there\\'s a peeping Tom outside! Tom?! Ohh, it\\'s Tom Jones! Mother, it\\'s not Tom Jones. That\\'s just my passenger. He\\'s very goodlooking. He is not coming in. Soup\\'s on! It\\'s lovely. Thanks, Mum. So how long have you been Rita\\'s boyfriend? He\\'s not my boyfriend. Will you make an honest woman of my daughter? Dad! We were thinking of a spring wedding, right, cream puff? Look, I want all of you to know he\\'s... Tom Jones! So your name is \"Roddy,\" is that right? Yes, that\\'s right. Roddy St. James. What a beautiful name. Hi, Roddy. Who might you be, little chap? They call me Shocky. Why do they call you that? Shocky! Yes! Got it. Rita, where are you taking this handsome young man? That\\'s why I need your maps, Dad. Because he\\'s from... Up Top. Kitchen. Now. Sing us a song, Tom! I\\'m not saying it isn\\'t risky. But it\\'s impossible, Rita. No one\\'s ever got past the rapids at Hyde Park. Dad, Dad! He\\'s gonna pay us. For the last time, we don\\'t need the money! A new stove might be nice. Talkin\\' about the little lady Go, Tom! Go! Sing to my heart! She\\'s a lady Talkin\\' about that old lady And the lady wears big undies Huge undies. Psst! Rita! It\\'s OK. It\\'s me, Liam. Quick, in the kitchen. Look at those moves! I love you, Tom! This bloke isn\\'t who he says he is. His real name is Millicent Bystander, an international jewel thief. A mastermind, a supercriminal. Looks like he crossed The Toad and got away with it. But I\\'m a thinker. I\\'ve got a plan. More! More! That was brilliant! Oh, it was nothing. So you\\'re from Up Top? Yes. I\\'ve met one of your lot before. Really? Used to be some old lady\\'s pet. That\\'s nice. Terribly lonely for him, though. He had no one to talk to. No one to cuddle with! No one to shocky. That\\'s no life, is it? I\\'d better get these dishes started. Please, permit me. Oh, you\\'re such a gentleman! Great! So I hand Roddy over to The Toad and claim the reward. Then we\\'re all sitting pretty for the rest of our lives. Is that it? The Toad will pay a fortune for him. He\\'s a bad one anyway, so that\\'s all right, isn\\'t it? You cheeky little monkey. I won\\'t have no son of mine acting the rat. We Malones never go back on our word. He\\'s gonna steal your boat. He won\\'t. He\\'s stealing your boat. He isn\\'t stealing... He stole your boat. What? He\\'s like Robin Hood in reverse. Oi! I thought we had a deal! So did l! This is an emergency! Get out of the way! Emergency! Keep clear! I\\'m coming, Mr. Jones, I\\'m coming! Marry me, Mr. Jones! Roddy! That doublecrossing little schemer. I don\\'t need her. That doublecrossing little schemer. I don\\'t need her. I mean, anyone can get out and sail. Look at me! All right, Sid, you\\'re in for a big surprise. Look out! Sorry! Sid\\'s Tattoo and Hot Dog Parlor. It\\'s Roddy. Remember me?  The butler?  Roddy! Listen, you! If you\\'re still there when I get back... Back? Back? How will you do that then, Roddy? What was that? Gotta go, Rodders.  If I find one thing out of place... Here\\'s a little song I wrote You might want to sing it note for note Don\\'t worry Be happy Don\\'t worry, be happy now Where are they hiding? Think. Think. To find a rat, you got to think like a rat. Hey, guys. I\\'ve had a tipoff. They\\'re heading west to Kensington. Bingo! Scrabble! Enough games. To the ratmobiles! OK, OK. We can fix it. Yes, we can. Obviously... Fairly major burn to the hand. Smell of burning flesh. Maybe I should just... That really hurt. Just start, you worthless old pile of rubbish! You useless, unreliable... Untrustworthy, doublecrossing, twofaced, conniving little toerag! So I\\'m the doublecrosser? Oh, yes, that\\'s rich! I overheard everything. Yes, you and your family were gonna sell me to The Toad! What? You dipstick! That was my stupid little brother\\'s plan. And no one listens to him. Must have missed that part. How could you think I\\'d sell you out? When I make a deal, I make a deal. Your hair\\'s on fire. What? Rita, look... ...I\\'m sorry. I was wrong. I think we should just put it behind us. OK. I suppose I can put it behind me. This is such an overreaction! Rita, you can\\'t just leave me here on a... On a duck! Up the creek without a... You\\'re getting everything you deserve. Sneaking around, eavesdropping on people\\'s conversations. I was not sneaking around. Right. I say, you can\\'t really intend to just strand me like this. You\\'re not that heartless. OK, maybe you are. If you\\'re trying to teach me a lesson, consider it taught! I\\'m on a duck, begging! Ice cold Rita Never did I meet a Girl who\\'s half so cruel I offered her a jewel But she left me stuck Stranded on a duck What a shoddy thing to do to Roddy Me That\\'s Roddy St. James of Kensington Poor, poor Roddy Flushed down his own potty Rita, can\\'t you find it in your heart To help him? How mean can one rat be? Ice cold Rita Won\\'t you be sweeter to me? Am I forgiven? No. I was just afraid you\\'d sing another verse. Rita, I wasn\\'t eavesdropping, I swear to you. Oh, really? What were you doing, then, Roddy? I was actually just watching you with your family... ...and... ...thinking how lucky you were. Lucky? Stuck with you? So our deal\\'s still on? Sure it is. Look, I really want to help out around here. Just give me a job. Anything... engineer, navigator. I could drive for a bit if you like. Pick on someone your own size! You heard the captain. Get lost! There\\'s no room for passengers on this boat. Let go, you sticky little... I\\'m the captain, and I say go left. Would that be port or starboard, Spike? There they are! Go get them, lads! Go get them, lads! Rita! Wait for it, wait for it... Now! Have another go if you think you\\'re fast enough! Hold on, Roddy! Get that cable, lads! You may now kiss the bride. Congratulations, by the way! Rita! Rita! Can we go a little faster, please? We don\\'t have to! Go, go, purple custard! End of the line, Millicent. Oh, yeah! Rita, try and go right! What? Just trust me! I hope you know what you\\'re doing! Now head for the rope! OK. Whoa! Oh, no. Well done, Roddy! We did it! We did it! We didn\\'t do it. Can you get me back on the boat? Thank you. You\\'re welcome. Are you sure about this, Spike? These things are supposed to be dangerous. Danger is my middle name. I thought it was Leslie. Just thought I\\'d drop in. Rita, do something quick! Hang on tight! Whoa! Uhoh. Any last requests? Yes. Could you fly quite suddenly off the boat, screaming like a girl? Oh, dear. Yes! Yes! Look out! You darn foreigners! Do you think the boss will be annoyed with us? You incompetent cheeseeaters! You let them escape? It\\'s obvious I should never have sent rodents to do an amphibian\\'s job. Where is he? Why is he always late? En garde! Droit! Parry! Thrust! Le Frog? Bonjour. You\\'re late, Le Frog. Fashionably late, my annoying English cousin. I know no other way. Now, listen. Rita and her new accomplice have stolen something irreplaceable. It\\'s all right, boss! We\\'ve got another one! A master cable of unique design and purpose. I want it back. Don\\'t worry. I\\'ll get it back for you. Once it is returned, my plan will be complete. To wash away, once and for all, the curse, the scourge of... ...rats. Forgive me, my warty English cousin, but this bizarre obsession with the rats, it is not good for you. You are becoming what we French call le fruitcake. Perhaps you forget that it was a rat who cast me from paradise! Oh, please. Not the scrapbook again! My memoirs. Volume one details the dire and tragic story of my youth. Oh, mon Dieu! Of all the pets in Buckingham Palace, young Prince Charles fancied me the best. We would frolic day after sunny day in royal abandon, sharing that sweet and magical bond between boy and toad. You\\'re gonna make me throw up. We were inseparable until... ...it arrived. That rat! While the poor boy\\'s head was turned, I was cruelly plunged into a whirlpool of despair. I know, I know. You were flushed away down the loo, right? Oi. Boohoohoo. It is so dark, so cold, so terrible! You find my pain funny? I find everyone\\'s pain funny but my own. I\\'m French. Just get the cable! Henchfrogs! We have a mission. Let nothing stand in our way. We leave immediately. What about dinner? We leave... in five hours. Love, love, love, love This is quite tasty. Thanks. Not too bad, considering I only had an apple, six raisins and a box of rice. Rice? What\\'s that urge from deep inside? The need to hurl won\\'t be denied That isn\\'t rice That\\'s maggots you\\'re eating Larva, larva, larva... That explains why it all ran to one side when I put the salt in. You know... ...I think we did pretty well today. I suppose maybe I misjudged you a bit. I mean, you\\'re not... Do I hear an actual compliment coming? Never mind. No, no, no, say it. You\\'re not the useless, whiny, stuckup, pompous, big girl\\'s blouse I thought. There. Was that so hard? We better get some rest if we\\'re gonna get you home tomorrow. Catch. Tell me about yourself, Roddy. Well, there\\'s not much to tell. You know all about me, warts and all. I don\\'t even know what you do. I\\'m... I\\'m in a boy band. Yeah. Yeah, I\\'m the posh one. I\\'m serious. Tell me about your life Up Top. Friends, family. You do have a family, don\\'t you? Of course I do. Brothers, sisters, cousins. We\\'re quite a clan. You wouldn\\'t believe the fun we have. Hanging out at the movies, playing golf, going skiing. It\\'s just so great! No wonder you want to get home. Yeah. Well, I guess tomorrow we\\'ll both get what we want. Good night. Good night, Roddy. Good night. Good night. Good night. Good night. Good night. Good night, Roddy. Don\\'t let the bedbugs bite. Wakeywakey! Getting close to Kensington. Tie down anything loose. It\\'ll be a bumpy ride. Aye, aye, captain. Thank you. You\\'re welcome. Bonjour! Bonjour! Bonjour! Bonjour! Bonjour! Who invited you onboard? Hop it. Hop it! The English little girly, she\\'s so aggressive. Le Frog. I like a woman with a little fire. You\\'re going to pay for that, my little chocolate croissant! But first, a word from our sponsor. Marcel? Ahh.  I should have known. Well done, Le Frog! I salute you, sir.  Now then, Rita, hand it over.  Hand what over? This dance of deception must end.  Return what you have stolen from me.  Enough dancing!  I don\\'t have it anymore. It was a fake anyway. What?  Oh, the ruby.  He\\'s cuckoo, but family. Oh, this is rich.  The ruby was a pretty thing.  Stop that.  But nothing when compared to the master cable.  The master what? The cab...  Turn.  The cable! The one you\\'re now wearing as a belt.  If that\\'s all he wants... Hang on. What do you want it for anyway? Oh, you\\'ll see, come the World Cup Final this afternoon.  The World Cup Final? OK, OK, cousin, take a breath. Leave it to me. We\\'ll get your cable, kill the rodents, then me and my team can settle down to a decent breakfast. OK, men, to action! We surrender! No, not that one, you idiots! The kung fu thing! Oh! I\\'ve got a plan. Go for it. Fly at twelve o\\'clock! Oh, bother. Fools! Grab them!  Le Frog! No! Get that cable!  Mon Dieu! You rats, this is not over yet!  Roddy! The rapids! Oh, no! En garde! Ha! Rita? We\\'re going over! Do something! No, no, no! Gotcha! Au revoir, mon ché§»i! Take your flippers off me! I have triumphed! You stupid English, with your Yorkshire puddings and chips and fish, you thought you could defeat Le Frog? Un... ...deux... ...trois! Nibble for your life! My belt, I think. You rodents! Goodbye, Jammy, me old mate. Whee! We\\'re OK, we\\'re OK, we\\'re OK, we\\'re OK. Try opening your eyes! We\\'re over Kensington! Yeah, only a terrifying 900foot drop between you and a nice comfortable bed. Where\\'s your house then? Right, now. Let me see... Inverness Gardens, Vicarage Gate, Kensington High Street. Try and go left. That\\'s it. Now go right. This is gonna be tricky. Yeah, and everything else has been a piece of cake. All right, here we go. Fortyfive, 47, 49... ...now! Well, I\\'ve had softer landings. We did it. I\\'m home. The crew of the Jammy Dodger survives! Yep. Rita? Oh, of course. I\\'m such an idiot. The Dodger. Wasn\\'t your fault, Rod. Quite an adventure, though, wasn\\'t it? Rita, I am so sorry. But I think I might be able to cheer you up. Tada! As promised, the Kensington jewels. A genuine starcut ruby. It\\'s just beautiful! And the best part? Unbreakable. I don\\'t know what to say. You think it will be enough? I mean, to take care of your family? And maybe this could be the Jammy Dodger Mark Two. Well... ...I suppose this is it. Thank you... for the lift. You\\'re welcome. Roddy? Yes. I don\\'t suppose you\\'d have time to give me a quick tour? Of course. I\\'d love to meet your family. Hello? Hello, hello, hello? Anybody home? Wouldn\\'t you know it? All out, every one of them. Wait. Wait, wait, wait. What is that? Oh, that. That\\'s my master bedroom. It\\'s a cage. No! It\\'s not, actually. Then why the lock and bars? That\\'s my... home security system. So much to see, so little time to see it in. Shall we? Roddy. You\\'re all alone up here, aren\\'t you? Goal! Who\\'s that? That would be... my brother! What a game! I can\\'t believe it! He shoots! He scores! Back of the net! Group hug. Oh, hello. Rita, this is... ...Rupert! What? Rupert, this is Rita. She\\'s been so looking forward to meeting my brother. Ah! Obviously, there\\'s not a huge family resemblance. I rather got the brains and... Well, actually, I got the looks too, but we\\'re very close, aren\\'t we, Rupert? Well, how time flies when you\\'re having fun! Still... On with the tour, shall we? Hello, Sid. Hello, Rita. How\\'s your dad? Better, yeah. Thanks for asking. Rupert? What was that all about? Come here, you poor little thing. Look at his little face. You ever seen anything so pathetic? Brothers? All Mr. Lonely has got is a couple of dolls and a little wheel to run around in his cage. This is too sweet! What a loooooooser! It\\'s OK, Roddy. OK? Look at this place, Rita. Look at my home. It\\'s a palace! I can do whatever I want whenever I want to. I\\'d say that\\'s a little more than OK, wouldn\\'t you? What do I need a family for? What do I need friends for? I\\'m sorry, but if you have everything you need, then... ...I really have to get going. I have a serious infestation to deal with. I\\'ll say goodbye, then... ...Roddy St. James... ...of Kensington. Lonely I\\'m Mr. Lonely I have nobody For my own Only ten minutes left until halftime.  And what an amazing match...  Come on, England! This is fantastic! A rare attack here by Germany, but it comes to very little.  Come here, bro! Rupert\\'s missing his RodsyWodsy. Here, have a cheese puff. Have another. Here you go. No! Duh. You\\'re supposed to eat them. Move... over. What? Move over! I\\'ll take some of that. Word of advice, mate. Take it easy with the drink, seriously, or you\\'ll never make it to halftime. What did you say? The bathroom. I\\'m waiting till halftime. I don\\'t want to miss any of the game. Halftime. He\\'s waiting till halftime! Those floodgates won\\'t hold forever! No! Not the master cable! What do you want it for anyway? Oh, you\\'ll see, come the World Cup Final this afternoon.  Half... time. Half... time. Of course. That\\'s The Toad\\'s plan! That\\'s why he needs the cable! When everyone goes to the toilet, the city will be flushed away! Come with me. What about the game? And what a game it is!  Oh, a nasty fall there for Ray Bowers.  Can you see all right, Fergus? Yes, thanks, Mum. Where\\'s your helmets? Which one\\'s the quarterback? Pick up the ball! Oh! These Brits don\\'t know the first thing about football. Enjoy your last moments, you egregious vermin. I\\'ve got Rita, boss! I\\'ve got Rita! Get off me, you lab reject! Ha! You missed. Ah, Rita. It\\'s so good of you to return the cable. Bonjour. Hey! At last! It\\'s mine! Just take it. Let there be light! Please don\\'t flush me, Roddy! I can\\'t survive down there! I\\'ve gone soft! Sid, I want you to flush me. I\\'m going back. Back? Rita\\'s in terrible danger. Everyone\\'s in terrible danger! Now, you like it here, don\\'t you? Oh, yes, Roddy. I like it here very much. And if I leave you, will you be good to Tabitha, the little girl? I\\'ll be as good as gold to her, Roddy. And I will be the best pet ever! Then the place is all yours. Sweet! Great. Let\\'s get the bubbles going. I\\'ve got a big job to do down there. Right away, sir! So long, Sid. So long, Rodnick Saint Something of Someplace or other. Geronimo! And, lo, a chosen one shall come down from above, and he shall be our savior from the Great Flood! I\\'m terribly sorry. Just two minutes left till halftime! Incredible!  It\\'s a fantasy start for England.  Rita! England leads Germany by three goals to one.  What an amazing game this is turning out to be!  The grand opening. And the referee again has to bring play to a halt.  Rita! Fans for the fans! Extra! Pied Piper lures thousands to their death! Balloons! Rita! Rita! Roddy! I\\'m sorry. I\\'ve been such a fool. You were right about me and everything. I should have admitted it, but I was afraid you wouldn\\'t like me anymore. Do you think we can talk about this after you rescue me? Of course. There\\'s no time. When that whistle blows and everyone Up Top goes to the toilet, it\\'ll flush away the city. I know. And my family are all down there. We\\'ve got to warn everyone. Stop them! Oh, dear. Whoa! Whitey! I saw an opportunity and I seized it. So you thought you could make a fool of The Toad, eh? You don\\'t need us for that. You think you\\'re so clever, don\\'t you? Well, I\\'ll be the one laughing when every last revolting rat is flushed away! For I shall repopulate the city... ...with these! Nasty. Is this the Glorious Amphibian Dawn? Anything for you. Can I have a pony? No. A puppy? We\\'ll talk about it. Can we talk about it now? No. Can I have a puppy? You can\\'t all have puppies! Please! Daddy\\'s working! We need to get down and pull out that cable. How? It\\'s impossible. England is winning. Anything\\'s possible. Turn it off, Whitey! Come on! They\\'re getting away! Oh. Hi, boss. Whitey! They\\'re biting my bottom! Help! I\\'m coming, Spike! You fools! Grab them! Top floor, lingerie, housewares and certain doom! Do I have to do everything myself?! There goes the whistle for halftime! We\\'ll be back in a few minutes.  You\\'re too late to do anything! You and your kind are finished! Oh, yeah? Well, come and get us then, you warty windbag. Oh, no! The gate. Back this way! Come on! Rita! If I\\'m going, you\\'re both coming with me! Just go, Roddy! That\\'s it. Roddy! Stop moving! Come and get me, you big, slimy airbag! Roddy, look out! Yes! Le Frog! Let\\'s finish this. Let me go! Goodbye, rat! Rita! Feeling a little tonguetied? Impossible! Toodleoo. No! Wave! Wave! England! No, giant wave! Please work. Please work. Please work! High five! Oh, yeah. Look! It\\'s Roddy and Rita! Good on you, girl! Hooray for Millicent Bystander! Millicent! Millicent! You\\'re a hero, Roddy. Big deal. You wretched vermin! I\\'ll make you pay for this! Give it a rest, cousin. And get your kids a puppy. Rita... ...I was wondering, if you do build a Jammy Dodger Mark Two... ...you wouldn\\'t happen to need a first mate, would you? Left a good job in the city Left a good job in the city Workin\\' for the man every night and day Rollin\\' Rollin\\' on the river Rollin\\' on the river The river OK. Hello, Tom! Give us a squeeze! All right, chaps. Big wheel keep on turnin\\' Proud Mary keep on burnin\\' Rollin\\', rollin\\' Rollin\\' on the river I love a happy ending. You\\'ve gone soft! I like unhappy endings, with lots of violence. Are you happy now, Spike? Shall we? Go for it. Big wheel keep on turnin\\' Proud Mary keep on burnin\\' Where are we going? I have no idea. But we\\'re gonna get there really fast! I\\'m coming, Mr. Jones! I\\'m coming! Ah, this is the life. Ah, this is the life. Roddy, I\\'m home! And I\\'ve brought you a new friend! '"
      ]
     },
     "execution_count": 7,
     "metadata": {},
     "output_type": "execute_result"
    }
   ],
   "source": [
    "text"
   ]
  },
  {
   "cell_type": "code",
   "execution_count": 8,
   "metadata": {},
   "outputs": [],
   "source": [
    "documents = [TaggedDocument(doc, [i]) for i, doc in enumerate(common_texts)]"
   ]
  },
  {
   "cell_type": "code",
   "execution_count": 9,
   "metadata": {},
   "outputs": [],
   "source": [
    "data=[]\n",
    "with open(file, encoding='utf-8', newline='') as handle:\n",
    "    reader = csv.reader(handle)\n",
    "    for row in reader:\n",
    "        data.append(TaggedDocument(re.split('[\\W\\d_]+',row[5].lower()),[row[0]]))"
   ]
  },
  {
   "cell_type": "code",
   "execution_count": 10,
   "metadata": {},
   "outputs": [
    {
     "data": {
      "text/plain": [
       "TaggedDocument(words=['i', 'm', 'stuck', 'get', 'back', 'mr', 'tweedy', 'what', 'is', 'that', 'chicken', 'doing', 'outside', 'the', 'fence', 'i', 'don', 't', 'know', 'luv', 'just', 'deal', 'with', 'it', 'now', 'i', 'll', 'teach', 'you', 'to', 'make', 'a', 'fool', 'out', 'of', 'me', 'let', 'that', 'be', 'a', 'lesson', 'to', 'you', 'no', 'chicken', 'escapes', 'from', 'tweedy', 's', 'farm', 'morning', 'ginger', 'back', 'from', 'holiday', 'i', 'wasn', 't', 'on', 'holiday', 'i', 'was', 'in', 'solitary', 'confinement', 'it', 's', 'nice', 'to', 'get', 'a', 'bit', 'of', 'time', 'to', 'yourself', 'isn', 't', 'it', 'roll', 'call', 'come', 'along', 'you', 'll', 'be', 'late', 'for', 'parade', 'pip', 'pip', 'quick', 'march', 'left', 'right', 'come', 'on', 'smarten', 'up', 'discipline', 'order', 'back', 'in', 'my', 'raf', 'days', 'when', 'an', 'officer', 'called', 'for', 'a', 'scramble', 'you', 'd', 'hop', 'in', 'the', 'old', 'crate', 'and', 'chocks', 'away', 'keep', 'over', 'you', 'old', 'fool', 'they', 'just', 'want', 'to', 'count', 'us', 'how', 'dare', 'you', 'talk', 'back', 'to', 'a', 'senior', 'ranking', 'officer', 'back', 'in', 'my', 'raf', 'days', 'fowler', 'they', 're', 'coming', 'right', 'right', 'there', 'll', 'be', 'a', 'reprimand', 'lad', 'you', 're', 'grounded', 'attention', 'welcome', 'back', 'hen', 'is', 'there', 'a', 'new', 'plan', 'we', 've', 'already', 'tried', 'going', 'under', 'over', 'right', 'how', 's', 'the', 'egg', 'count', 'i', 'laid', 'eggs', 'today', 'well', 'chuffed', 'with', 'that', 'i', 'was', 'oh', 'no', 'why', 'didn', 't', 'you', 'give', 'her', 'some', 'of', 'yours', 'she', 'didn', 't', 'tell', 'me', 'she', 'didn', 't', 'tell', 'anyone', 'is', 'edwina', 'off', 'on', 'holiday', 'we', 've', 'got', 'to', 'get', 'out', 'of', 'here', 'are', 'we', 'still', 'on', 'we', 're', 'on', 'all', 'right', 'spread', 'the', 'word', 'mac', 'meeting', 'tonight', 'in', 'hut', 'you', 'called', 'nick', 'and', 'fetcher', 'at', 'your', 'service', 'over', 'here', 'we', 'need', 'more', 'things', 'right', 'you', 'are', 'miss', 'how', 'about', 'this', 'quality', 'tea', 'set', 'a', 'lovely', 'necklace', 'and', 'pendant', 'or', 'this', 'number', 'all', 'the', 'rage', 'in', 'the', 'fashionable', 'paris', 'chicken', 'coops', 'simply', 'pop', 'it', 'on', 'and', 'as', 'the', 'french', 'say', 'voila', 'that', 'is', 'french', 'it', 's', 'two', 'hats', 'in', 'one', 'miss', 'for', 'parties', 'for', 'weddings', 'madame', 'you', 'look', 'like', 'a', 'vision', 'like', 'a', 'dream', 'like', 'a', 'duck', 'no', 'thank', 'you', 'we', 're', 'making', 'this', 'we', 'need', 'this', 'can', 'you', 'get', 'it', 'this', 'is', 'a', 'big', 'job', 'miss', 'bigger', 'than', 'the', 'others', 'this', 'will', 'cost', 'the', 'usual', 'one', 'bag', 'of', 'seed', 'you', 'call', 'this', 'pay', 'it', 's', 'chicken', 'feed', 'what', 'could', 'we', 'give', 'you', 'eggs', 'we', 'can', 't', 'our', 'eggs', 'are', 'too', 'valuable', 'so', 'are', 'we', 'after', 'you', 'fetcher', 'after', 'i', 'what', 'move', 'stupid', 'worthless', 'creatures', 'i', 'm', 'sick', 'and', 'tired', 'of', 'making', 'minuscule', 'profits', 'oh', 'yes', 'those', 'chickens', 'are', 'up', 'to', 'something', 'quiet', 'i', 'm', 'onto', 'something', 'they', 're', 'organized', 'quiet', 'that', 'ginger', 'one', 'is', 'their', 'leader', 'i', 'may', 'have', 'found', 'a', 'way', 'to', 'make', 'some', 'real', 'money', 'what', 'are', 'you', 'on', 'about', 'ridiculous', 'notions', 'of', 'escaping', 'chickens', 'it', 's', 'all', 'in', 'your', 'head', 'mr', 'tweedy', 'say', 'it', 'it', 's', 'all', 'in', 'my', 'head', 'now', 'you', 'keep', 'telling', 'yourself', 'that', 'because', 'i', 'won', 't', 'hear', 'another', 'word', 'about', 'it', 'is', 'that', 'clear', 'yes', 'luv', 'but', 'the', 'ginger', 'one', 'they', 're', 'chickens', 'you', 'dolt', 'apart', 'from', 'you', 'they', 're', 'the', 'most', 'stupid', 'creatures', 'on', 'the', 'planet', 'they', 'don', 't', 'plot', 'they', 'don', 't', 'scheme', 'and', 'they', 're', 'not', 'organized', 'order', 'order', 'quiet', 'everyone', 'settle', 'down', 'i', 'would', 'like', 'to', 'call', 'to', 'order', 'quiet', 'discipline', 'in', 'the', 'ranks', 'what', 'what', 'thank', 'you', 'fowler', 'in', 'my', 'raf', 'days', 'we', 'never', 'wasted', 'time', 'with', 'unnecessary', 'chitchat', 'yes', 'thank', 'you', 'fowler', 'right', 'carry', 'on', 'our', 'last', 'escape', 'attempt', 'was', 'a', 'bit', 'of', 'a', 'fiasco', 'but', 'mac', 'and', 'i', 'have', 'a', 'new', 'plan', 'show', 'them', 'mac', 'we', 'tried', 'going', 'under', 'that', 'wire', 'and', 'it', 'didn', 't', 'work', 'so', 'the', 'plan', 'is', 'we', 'go', 'over', 'it', 'this', 'is', 'us', 'right', 'we', 'get', 'in', 'like', 'this', 'and', 'wind', 'her', 'up', 'and', 'let', 'her', 'go', 'good', 'grief', 'the', 'turnip', 's', 'bought', 'it', 'farmer', 's', 'coming', 'operation', 'coverup', 'mr', 'tweedy', 'where', 'are', 'you', 'it', 's', 'all', 'in', 'your', 'head', 'think', 'everyone', 'what', 'haven', 't', 'we', 'tried', 'yet', 'we', 'haven', 't', 'tried', 'not', 'trying', 'to', 'escape', 'might', 'work', 'what', 'about', 'edwina', 'how', 'many', 'more', 'empty', 'nests', 'will', 'it', 'take', 'maybe', 'she', 'should', 'have', 'spent', 'more', 'time', 'laying', 'eggs', 'and', 'less', 'time', 'escaping', 'laying', 'eggs', 'then', 'getting', 'plucked', 'and', 'roasted', 'is', 'good', 'enough', 'for', 'you', 'it', 's', 'a', 'living', 'the', 'fences', 'aren', 't', 'just', 'around', 'the', 'farm', 'they', 're', 'up', 'here', 'in', 'your', 'heads', 'there', 'is', 'a', 'better', 'place', 'out', 'there', 'somewhere', 'beyond', 'that', 'hill', 'it', 'has', 'wide', 'open', 'spaces', 'and', 'lots', 'of', 'trees', 'and', 'grass', 'can', 'you', 'imagine', 'that', 'cool', 'green', 'grass', 'who', 'feeds', 'us', 'we', 'feed', 'ourselves', 'where', 's', 'the', 'farm', 'there', 'is', 'no', 'farm', 'then', 'where', 'does', 'the', 'farmer', 'live', 'there', 'is', 'no', 'farmer', 'is', 'he', 'on', 'holiday', 'he', 'isn', 't', 'anywhere', 'don', 't', 'you', 'get', 'it', 'no', 'egg', 'count', 'no', 'farmers', 'no', 'dogs', 'no', 'coops', 'and', 'keys', 'and', 'no', 'fences', 'in', 'all', 'my', 'life', 'i', 've', 'never', 'heard', 'such', 'a', 'fantastic', 'load', 'of', 'tripe', 'face', 'the', 'facts', 'ducks', 'the', 'chance', 'of', 'us', 'getting', 'out', 'are', 'a', 'million', 'to', 'one', 'then', 'there', 's', 'still', 'a', 'chance', 'oh', 'no', 'who', 'am', 'i', 'fooling', 'i', 'can', 't', 'lead', 'this', 'bunch', 'of', 'heaven', 'help', 'us', 'freedom', 'ladies', 'and', 'gentlemen', 'you', 've', 'been', 'a', 'wonderful', 'audience', 'that', 's', 'it', 'inside', 'quickly', 'here', 's', 'our', 'way', 'out', 'we', 'll', 'make', 'posters', 'what', 's', 'on', 'the', 'posters', 'babs', 'we', 'll', 'fly', 'out', 'must', 'be', 'important', 'to', 'be', 'on', 'a', 'poster', 'i', 'wonder', 'what', 'he', 'does', 'obviously', 'he', 's', 'a', 'professional', 'flying', 'rooster', 'flies', 'around', 'giving', 'demonstrations', 'do', 'you', 'suppose', 'absolutely', 'no', 'not', 'in', 'there', 'get', 'out', 'who', 'are', 'you', 'where', 'am', 'i', 'what', 'happened', 'to', 'my', 'wing', 'you', 'took', 'a', 'nasty', 'fall', 'spraining', 'the', 'anterior', 'tendon', 'connecting', 'the', 'radius', 'to', 'the', 'humerus', 'i', 'wrapped', 'it', 'was', 'that', 'english', 'she', 'fixed', 'your', 'wing', 'i', 'made', 'the', 'bandage', 'i', 'carried', 'you', 'in', 'back', 'up', 'and', 'start', 'from', 'the', 'top', 'where', 'am', 'i', 'how', 'rude', 'of', 'us', 'we', 're', 'just', 'excited', 'this', 'is', 'a', 'chicken', 'farm', 'and', 'we', 're', 'the', 'chickens', 'with', 'you', 'so', 'far', 'chicken', 'farm', 'chickens', 'i', 'don', 't', 'like', 'his', 'look', 'his', 'eyes', 'are', 'too', 'close', 'together', 'and', 'he', 's', 'a', 'yank', 'cockfighting', 's', 'illegal', 'where', 'i', 'come', 'from', 'where', 'is', 'that', 'a', 'place', 'i', 'call', 'home', 'of', 'the', 'free', 'land', 'of', 'the', 'brave', 'scotland', 'no', 'america', 'poppycock', 'pushy', 'americans', 'always', 'showing', 'up', 'late', 'for', 'every', 'war', 'overpaid', 'oversexed', 'and', 'over', 'here', 'what', 's', 'eating', 'grandpa', 'don', 't', 'mind', 'him', 'mister', 'my', 'name', 's', 'rocky', 'the', 'rhode', 'island', 'red', 'rhodes', 'for', 'short', 'rocky', 'rhodes', 'catchy', 'ain', 't', 'it', 'mr', 'rhodes', 'is', 'this', 'you', 'who', 'wants', 'to', 'know', 'a', 'group', 'of', 'desperate', 'chickens', 'if', 'it', 's', 'you', 'you', 'may', 'be', 'the', 'answer', 'to', 'our', 'prayers', 'then', 'call', 'me', 'a', 'miracle', 'dollface', 'cause', 'that', 's', 'me', 'what', 'brings', 'you', 'to', 'england', 'mr', 'rhodes', 'all', 'the', 'beautiful', 'english', 'chicks', 'of', 'course', 'give', 'over', 'i', 'm', 'a', 'traveler', 'i', 'did', 'that', 'barnyard', 'thing', 'for', 'a', 'while', 'but', 'couldn', 't', 'get', 'into', 'it', 'hi', 'how', 'are', 'you', 'nope', 'the', 'open', 'road', 'is', 'more', 'my', 'style', 'put', 'a', 'pack', 'on', 'my', 'back', 'and', 'point', 'me', 'where', 'the', 'wind', 'blows', 'know', 'what', 'they', 'call', 'me', 'back', 'home', 'you', 'll', 'love', 'this', 'the', 'lone', 'freeranger', 'isn', 't', 'that', 'great', 'i', 'knew', 'it', 'was', 'possible', 'it', 's', 'possible', 'the', 'answer', 'had', 'to', 'come', 'amen', 'we', 'll', 'fly', 'over', 'that', 'fence', 'and', 'mr', 'rhodes', 'will', 'show', 'us', 'how', 'right', 'that', 's', 'ri', 'what', 'did', 'you', 'say', 'fly', 'you', 'can', 'teach', 'us', 'no', 'i', 'can', 't', 'listen', 'you', 'hear', 'that', 'the', 'open', 'road', 's', 'calling', 'and', 'i', 'have', 'to', 'answer', 'bye', 'he', 'must', 'have', 'very', 'good', 'hearing', 'okay', 'where', 's', 'the', 'exit', 'this', 'way', 'mr', 'rhodes', 'perhaps', 'i', 'didn', 't', 'explain', 'our', 'situation', 'properly', 'we', 'lay', 'eggs', 'day', 'in', 'day', 'out', 'when', 'we', 'can', 't', 'lay', 'any', 'more', 'they', 'kill', 'us', 'it', 's', 'a', 'cruel', 'world', 'dollface', 'better', 'get', 'used', 'to', 'it', 'which', 'part', 'of', 'they', 'kill', 'us', 'don', 't', 'you', 'understand', 'i', 'got', 'my', 'own', 'set', 'of', 'problems', 'besides', 'it', 'can', 't', 'be', 'that', 'hard', 'to', 'bust', 'out', 'of', 'here', 'watch', 'me', 'it', 's', 'not', 'so', 'hard', 'for', 'a', 'chicken', 'or', 'two', 'to', 'get', 'out', 'but', 'it', 's', 'about', 'all', 'of', 'us', 'all', 'of', 'you', 'i', 've', 'been', 'trying', 'to', 'tell', 'you', 'let', 's', 'get', 'it', 'straight', 'you', 'want', 'to', 'get', 'every', 'chicken', 'out', 'of', 'here', 'at', 'once', 'of', 'course', 'you', 're', 'certifiable', 'you', 'can', 't', 'pull', 'that', 'off', 'where', 'there', 's', 'a', 'will', 'there', 's', 'a', 'way', 'couldn', 't', 'agree', 'more', 'and', 'i', 'will', 'be', 'leaving', 'that', 'way', 'mr', 'rhodes', 'please', 'so', 'that', 's', 'it', 'you', 're', 'from', 'the', 'circus', 'you', 're', 'on', 'the', 'run', 'aren', 't', 'you', 'keep', 'it', 'down', 'i', 'm', 'trying', 'to', 'lay', 'low', 'here', 'i', 'should', 'turn', 'you', 'in', 'right', 'now', 'you', 'wouldn', 't', 'would', 'you', 'why', 'not', 'because', 'i', 'm', 'cute', 'hey', 'hey', 'you', 'crazy', 'chick', 'you', 'know', 'what', 'll', 'happen', 'if', 'he', 'finds', 'me', 'it', 's', 'a', 'cruel', 'world', 'i', 'don', 't', 'like', 'you', 'i', 'don', 't', 'care', 'show', 'us', 'how', 'to', 'fly', 'with', 'this', 'wing', 'teach', 'us', 'then', 'he', 's', 'valuable', 'you', 'say', 'sure', 'get', 'the', 'torch', 'listen', 'here', 'sister', 'i', 'm', 'not', 'going', 'back', 'to', 'that', 'life', 'i', 'm', 'a', 'lone', 'freeranger', 'emphasis', 'on', 'free', 'and', 'that', 's', 'what', 'we', 'want', 'freedom', 'fancy', 'that', 'they', 're', 'coming', 'oh', 'no', 'they', 're', 'onto', 'me', 'teach', 'us', 'to', 'fly', 'we', 'll', 'hide', 'you', 'and', 'if', 'i', 'don', 't', 'was', 'your', 'father', 'by', 'any', 'chance', 'a', 'vulture', 'do', 'we', 'have', 'a', 'deal', 'time', 'to', 'make', 'good', 'on', 'that', 'deal', 'dollface', 'the', 'name', 'is', 'ginger', 'comfortable', 'not', 'really', 'maybe', 'this', 'will', 'help', 'nice', 'hideout', 'i', 'had', 'more', 'room', 'in', 'my', 'egg', 'we', 'held', 'up', 'our', 'end', 'of', 'it', 'tomorrow', 'you', 'hold', 'up', 'yours', 'what', 'deal', 'flying', 'oh', 'yeah', 'don', 't', 'worry', 'i', 'll', 'teach', 'you', 'everything', 'i', 'know', 'which', 'bunk', 'is', 'mine', 'absolutely', 'outrageous', 'asking', 'a', 'senior', 'officer', 'to', 'share', 'his', 'quarters', 'and', 'with', 'a', 'noncommissioned', 'yank', 'no', 'less', 'why', 'back', 'in', 'my', 'day', 'you', 'weren', 't', 'exactly', 'my', 'first', 'choice', 'either', 'scoot', 'over', 'your', 'wing', 's', 'on', 'my', 'side', 'of', 'the', 'bunk', 'your', 'side', 'of', 'the', 'bunk', 'the', 'whole', 'bunk', 'is', 'my', 'side', 'what', 'is', 'that', 'smell', 'is', 'that', 'your', 'breath', 'absolutely', 'outrageous', 'so', 'you', 'want', 'to', 'fly', 'huh', 'well', 'it', 'ain', 't', 'going', 'to', 'be', 'easy', 'and', 'it', 'ain', 't', 'going', 'to', 'happen', 'overnight', 'flying', 'takes', 'three', 'things', 'hard', 'work', 'perseverance', 'and', 'hard', 'work', 'you', 'said', 'hard', 'work', 'twice', 'because', 'it', 'takes', 'twice', 'as', 'much', 'hard', 'work', 'as', 'perseverance', 'codswallop', 'cocky', 'yanks', 'think', 'they', 'know', 'it', 'all', 'the', 'most', 'important', 'thing', 'is', 'we', 'have', 'to', 'work', 'as', 'a', 'team', 'which', 'means', 'you', 'do', 'everything', 'i', 'tell', 'you', 'let', 's', 'rock', 'n', 'roll', 'the', 'chickens', 'are', 'pecking', 'and', 'left', 'two', 'three', 'and', 'right', 'two', 'three', 'and', 'stop', 'right', 'there', 'yes', 'down', 'make', 'little', 'circles', 'faster', 'oh', 'that', 's', 'the', 'spot', 'i', 'thought', 'you', 'were', 'going', 'to', 'teach', 'us', 'to', 'fly', 'that', 's', 'what', 'i', 'm', 'doing', 'isn', 't', 'there', 'usually', 'some', 'flapping', 'involved', 'do', 'i', 'tell', 'you', 'how', 'to', 'lay', 'eggs', 'relax', 'we', 're', 'making', 'progress', 'really', 'i', 'can', 't', 'help', 'feeling', 'we', 're', 'going', 'around', 'in', 'circles', 'hey', 'cut', 'it', 'out', 'you', 're', 'making', 'me', 'dizzy', 'they', 're', 'ready', 'to', 'fly', 'now', 'good', 'cause', 'they', 'can', 't', 'walk', 'anymore', 'up', 'and', 'at', 'em', 'let', 's', 'flap', 'let', 's', 'see', 'if', 'old', 'attila', 'the', 'hen', 'has', 'come', 'to', 'her', 'senses', 'it', 's', 'raining', 'hen', 'what', 's', 'this', 'caper', 'luv', 'we', 're', 'flying', 'obviously', 'flipping', 'hell', 'look', 'at', 'this', 'they', 're', 'going', 'to', 'kill', 'themselves', 'want', 'to', 'watch', 'all', 'right', 'careful', 'of', 'those', 'eggs', 'sunnyside', 'up', 'now', 'over', 'easy', 'definitely', 'scrambled', 'poultry', 'in', 'motion', 'birds', 'of', 'a', 'feather', 'flop', 'together', 'great', 'work', 'ladies', 'the', 'pain', 'you', 're', 'feeling', 'is', 'a', 'good', 'thing', 'pain', 'is', 'your', 'friend', 'just', 'keep', 'the', 'faith', 'agnes', 'you', 'll', 'get', 'there', 'you', 'flew', 'four', 'feet', 'today', 'yeah', 'four', 'feet', 'from', 'the', 'roof', 'to', 'the', 'ground', 'all', 'part', 'of', 'the', 'process', 'don', 't', 'worry', 'you', 'cheesy', 'little', 'that', 'doesn', 't', 'sound', 'good', 'the', 'ground', 's', 'shaking', 'are', 'we', 'worried', 'are', 'we', 'worried', 'the', 'circus', 'quick', 'hide', 'me', 'hide', 'me', 'come', 'on', 'one', 'isn', 't', 'awarded', 'a', 'medal', 'for', 'flapping', 'about', 'like', 'a', 'lunatic', 'now', 'see', 'here', 'this', 'is', 'an', 'officer', 's', 'quarters', 'in', 'here', 'get', 'out', 'of', 'here', 'now', 'give', 'it', 'a', 'rest', 'pops', 'what', 'i', 'shall', 'have', 'you', 'on', 'charges', 'within', 'the', 'week', 'cheers', 'mate', 'it', 's', 'all', 'in', 'your', 'head', 'what', 's', 'all', 'this', 'this', 'is', 'our', 'future', 'mr', 'tweedy', 'no', 'more', 'wasting', 'time', 'with', 'petty', 'egg', 'collection', 'and', 'minuscule', 'profits', 'no', 'eggs', 'we', 've', 'always', 'been', 'egg', 'farmers', 'my', 'father', 'his', 'father', 'and', 'their', 'fathers', 'they', 'were', 'always', 'poor', 'worthless', 'nothings', 'but', 'that', 's', 'about', 'to', 'change', 'this', 'will', 'take', 'tweedy', 's', 'farm', 'out', 'of', 'the', 'dark', 'ages', 'and', 'into', 'fullscale', 'automated', 'production', 'melisha', 'tweedy', 'will', 'be', 'poor', 'no', 'longer', 'i', 'll', 'put', 'it', 'together', 'shall', 'i', 'that', 'isn', 't', 'good', 'whatever', 's', 'in', 'those', 'boxes', 'is', 'for', 'us', 'and', 'i', 'doubt', 'it', 's', 'softer', 'than', 'hay', 'i', 'hate', 'to', 'be', 'the', 'voice', 'of', 'doom', 'but', 'i', 've', 'been', 'calculating', 'i', 'don', 't', 'think', 'we', 're', 'built', 'for', 'flying', 'but', 'i', 'saw', 'him', 'he', 'flew', 'in', 'over', 'that', 'fence', 'i', 'believe', 'you', 'but', 'if', 'we', 'could', 'see', 'it', 'for', 'ourselves', 'it', 'might', 'answer', 'some', 'questions', 'you', 're', 'right', 'we', 've', 'been', 'at', 'this', 'all', 'week', 'we', 're', 'getting', 'nowhere', 'if', 'his', 'wing', 'were', 'better', 'i', 'll', 'talk', 'to', 'him', 'where', 'is', 'he', 'they', 'didn', 't', 'give', 'me', 'this', 'medal', 'for', 'being', 'a', 'yank', 'nanny', 'i', 'don', 't', 'know', 'would', 'suffice', 'beware', 'of', 'that', 'one', 'young', 'ginger', 'that', 'yank', 'is', 'not', 'to', 'be', 'trusted', 'that', 'yank', 'is', 'our', 'ticket', 'out', 'of', 'here', 'and', 'the', 'pig', 'says', 'to', 'the', 'horse', 'why', 'the', 'long', 'face', 'cocktail', 'give', 'over', 'so', 'anyway', 'remember', 'those', 'flying', 'tips', 'they', 're', 'very', 'important', 'and', 'think', 'flighty', 'thoughts', 'they', 're', 'swell', 'chicks', 'look', 'what', 'babs', 'made', 'me', 'a', 'beak', 'warmer', 'isn', 't', 'that', 'cute', 'and', 'that', 'bunty', 'she', 'really', 'packs', 'a', 'pun', 'a', 'problem', 'have', 'we', 'flown', 'over', 'the', 'fence', 'not', 'quite', 'there', 's', 'a', 'problem', 'good', 'things', 'come', 'to', 'those', 'who', 'wait', 'how', 'long', 'did', 'it', 'take', 'you', 'to', 'do', 'what', 'to', 'learn', 'to', 'fly', 'apples', 'and', 'oranges', 'i', 'm', 'gifted', 'they', 're', 'not', 'you', 'can', 't', 'compare', 'the', 'two', 'these', 'things', 'take', 'time', 'which', 'we', 're', 'running', 'out', 'of', 'why', 'haven', 't', 'we', 'lifted', 'off', 'yet', 'thrust', 'i', 'went', 'over', 'my', 'calculations', 'what', 'we', 're', 'missing', 'is', 'thrust', 'i', 'didn', 't', 'get', 'a', 'word', 'of', 'that', 'thrust', 'when', 'ducks', 'and', 'geese', 'take', 'off', 'what', 'do', 'they', 'have', 'she', 'ain', 't', 'using', 'real', 'words', 'she', 'said', 'we', 'need', 'more', 'thrust', 'thrust', 'sure', 'thrust', 'and', 'flying', 'are', 'like', 'this', 'flying', 'and', 'thrust', 'will', 'you', 'excuse', 'us', 'the', 'wing', 'no', 'results', 'by', 'tomorrow', 'and', 'the', 'deal', 's', 'off', 'no', 'more', 'hiding', 'the', 'farmers', 'll', 'find', 'you', 'and', 'back', 'to', 'the', 'circus', 'fly', 'boy', 'you', 're', 'the', 'first', 'chick', 'i', 'ever', 'met', 'with', 'the', 'shell', 'still', 'on', 'sleep', 'tight', 'angel', 'face', 'the', 'rock', 's', 'on', 'the', 'case', 'what', 'what', 'a', 'beaut', 'a', 'fine', 'piece', 'of', 'work', 'if', 'i', 'do', 'say', 'so', 'myself', 'i', 'say', 'so', 'myself', 'too', 'wish', 'i', 'd', 'seen', 'it', 'we', 'slipped', 'into', 'the', 'farmer', 's', 'room', 'like', 'a', 'fish', 'and', 'we', 'like', 'a', 'fish', 'you', 'stupid', 'idiot', 'anyway', 'here', 'it', 'is', 'el', 'merchandiso', 'that', 's', 'spanish', 'what', 're', 'these', 'two', 'crooks', 'doing', 'here', 'so', 'you', 'know', 'each', 'other', 'she', 'don', 't', 'think', 'we', 're', 'valuable', 'you', 'guys', 'are', 'the', 'sneakiest', 'thieving', 'parasites', 'i', 've', 'ever', 'met', 'don', 't', 'stop', 'it', 'i', 've', 'gone', 'bright', 'red', 'so', 'how', 'about', 'the', 'eggs', 'eggs', 'you', 'promised', 'them', 'yep', 'i', 'promised', 'them', 'every', 'egg', 'i', 'lay', 'this', 'month', 'when', 'can', 'we', 'expect', 'the', 'first', 'one', 'i', 'm', 'brewing', 'one', 'up', 'now', 'i', 'll', 'keep', 'you', 'posted', 'a', 'pleasure', 'doing', 'business', 'with', 'you', 'sucker', 'what', 'you', 'lied', 'to', 'them', 'i', 'didn', 't', 'lie', 'dollface', 'i', 'just', 'omitted', 'certain', 'truths', 'i', 'll', 'give', 'them', 'what', 'i', 'promised', 'nothing', 'which', 'they', 'll', 'get', 'and', 'what', 'will', 'you', 'give', 'us', 'thrust', 'you', 'okay', 'sweetheart', 'good', 'good', 'now', 'this', 'will', 'get', 'you', 'going', 'it', 's', 'a', 'thrust', 'exercise', 'the', 'tension', 's', 'killing', 'me', 'it', 's', 'gonna', 'kill', 'her', 'release', 'come', 'on', 'flap', 'you', 'can', 'do', 'it', 'flap', 'is', 'that', 'your', 'first', 'offence', 'roll', 'call', 'i', 'haven', 't', 'laid', 'any', 'eggs', 'three', 'days', 'not', 'one', 'why', 'didn', 't', 'you', 'tell', 'us', 'i', 'was', 'so', 'busy', 'flying', 'they', 're', 'coming', 'hide', 'me', 'hide', 'yourself', 'double', 'their', 'food', 'rations', 'i', 'want', 'them', 'all', 'as', 'fat', 'as', 'this', 'one', 'all', 'of', 'my', 'life', 'flashed', 'before', 'my', 'eyes', 'it', 'was', 'really', 'boring', 'chicken', 'feed', 'my', 'favorite', 'wait', 'no', 'wait', 'babs', 'please', 'bunty', 'stop', 'it', 'wait', 'stop', 'stop', 'it', 'something', 'is', 'wrong', 'here', 'can', 't', 'you', 'see', 'that', 'strange', 'boxes', 'arrive', 'babs', 'stops', 'laying', 'but', 'she', 'isn', 't', 'taken', 'to', 'the', 'chop', 'extra', 'food', 'don', 't', 'you', 'see', 'they', 're', 'fattening', 'us', 'up', 'they', 're', 'going', 'to', 'kill', 'us', 'all', 'heavy', 'alert', 'she', 'didn', 't', 'mean', 'that', 'gals', 'do', 'you', 'mind', 'save', 'some', 'for', 'me', 'what', 'are', 'you', 'doing', 'let', 'go', 'i', 've', 'met', 'some', 'hardboiled', 'eggs', 'before', 'but', 'you', 're', 'about', 'minutes', 'meaning', 'what', 'meaning', 'lighten', 'up', 'in', 'america', 'we', 'have', 'a', 'rule', 'to', 'motivate', 'someone', 'don', 't', 'mention', 'death', 'funny', 'over', 'here', 'the', 'rule', 'is', 'always', 'tell', 'the', 'truth', 'it', 's', 'been', 'working', 'like', 'a', 'charm', 'you', 'want', 'them', 'to', 'perform', 'tell', 'them', 'what', 'they', 'want', 'to', 'hear', 'you', 'mean', 'lie', 'here', 'we', 'go', 'again', 'know', 'what', 'your', 'problem', 'is', 'you', 're', 'difficult', 'why', 'because', 'i', 'm', 'honest', 'i', 'care', 'about', 'them', 'something', 'the', 'lone', 'freeranger', 'doesn', 't', 'know', 'about', 'then', 'i', 'hope', 'you', 'never', 'care', 'about', 'me', 'i', 'never', 'will', 'good', 'fine', 'what', 's', 'all', 'this', 'here', 'she', 'is', 'ask', 'and', 'you', 'shall', 'receive', 'that', 's', 'biblical', 'that', 's', 'real', 'craftsmanship', 'solid', 'as', 'a', 'rock', 'it', 's', 'supposed', 'to', 'do', 'that', 'perfect', 'guys', 'how', 's', 'that', 'egg', 'coming', 'this', 'is', 'a', 'double', 'yolker', 'i', 'don', 't', 'see', 'what', 'it', 'has', 'to', 'do', 'with', 'you', 'will', 'we', 've', 'been', 'working', 'hard', 'let', 's', 'relax', 'and', 'shake', 'those', 'tail', 'feathers', 'look', 'at', 'him', 'nellpodging', 'around', 'like', 'a', 'good', 'heavens', 'what', 's', 'happening', 'that', 's', 'called', 'a', 'beat', 'feel', 'it', 'pulsing', 'through', 'your', 'body', 'oh', 'yes', 'who', 'd', 'have', 'guessed', 'then', 'go', 'with', 'it', 'baby', 'look', 'i', 'm', 'going', 'with', 'it', 'bunty', 'what', 's', 'got', 'into', 'you', 'same', 'thing', 'that', 's', 'got', 'into', 'you', 'just', 'go', 'with', 'the', 'flow', 'i', 'don', 't', 'recall', 'authorizing', 'a', 'hop', 'shut', 'up', 'and', 'dance', 'what', 'are', 'you', 'sobbing', 'about', 'you', 'nancy', 'little', 'moments', 'like', 'this', 'it', 's', 'what', 'makes', 'the', 'job', 'all', 'worthwhile', 'want', 'to', 'dance', 'yeah', 'all', 'right', 'did', 'you', 'see', 'that', 'i', 'flew', 'atta', 'girl', 'babsy', 'atta', 'girl', 'your', 'wing', 'it', 's', 'better', 'how', 'about', 'that', 'fantastic', 'you', 'can', 'fly', 'for', 'us', 'tomorrow', 'yeah', 'so', 'it', 'seems', 'i', 'flew', 'i', 'owe', 'you', 'an', 'apology', 'i', 'didn', 't', 'think', 'you', 'cared', 'but', 'after', 'all', 'this', 'well', 'it', 'seems', 'i', 'was', 'wrong', 'easy', 'miss', 'hardboiled', 'i', 'might', 'think', 'you', 're', 'turning', 'soft', 'listen', 'i', 'have', 'to', 'tell', 'you', 'something', 'no', 'you', 'd', 'better', 'wait', 'that', 's', 'champion', 'what', 'is', 'it', 'a', 'pie', 'machine', 'you', 'idiot', 'chickens', 'go', 'in', 'pies', 'come', 'out', 'what', 'kind', 'of', 'pies', 'apple', 'my', 'favorite', 'chicken', 'pies', 'you', 'lummox', 'in', 'less', 'than', 'a', 'fortnight', 'every', 'grocer', 'will', 'be', 'stocked', 'with', 'boxes', 'of', 'mrs', 'tweedy', 's', 'homemade', 'chicken', 'pies', 'just', 'mrs', 'woman', 's', 'touch', 'makes', 'the', 'public', 'feel', 'comfortable', 'oh', 'right', 'how', 'does', 'it', 'work', 'get', 'me', 'a', 'chicken', 'and', 'i', 'll', 'show', 'you', 'i', 'know', 'just', 'the', 'one', 'i', 've', 'got', 'a', 'score', 'to', 'settle', 'with', 'you', 'bloomin', 'heck', 'they', 've', 'got', 'ginger', 'we', 'mustn', 't', 'panic', 'we', 'mustn', 't', 'panic', 'quiet', 'i', 'say', 'let', 's', 'have', 'some', 'discipline', 'the', 'enemy', 'has', 'a', 'prisoner', 'this', 'calls', 'for', 'retaliation', 'retaliation', 'what', 's', 'going', 'on', 'they', 'got', 'ginger', 'they', 're', 'taking', 'her', 'to', 'the', 'chop', 'what', 'are', 'you', 'waiting', 'for', 'laddie', 'fly', 'over', 'there', 'save', 'her', 'of', 'course', 'no', 'just', 'what', 'they', 'd', 'expect', 'give', 'them', 'the', 'old', 'element', 'of', 'surprise', 'and', 'catch', 'jerry', 'with', 'his', 'trousers', 'down', 'i', 'like', 'that', 'what', 's', 'the', 'plan', 'the', 'plan', 'the', 'plan', 'babs', 'give', 'me', 'that', 'thing', 'bunty', 'give', 'me', 'a', 'boost', 'look', 'at', 'the', 'size', 'of', 'that', 'thing', 'oh', 'no', 'chickens', 'go', 'in', 'pies', 'come', 'out', 'chicken', 'pies', 'not', 'apple', 'pies', 'chicken', 'great', 'brilliant', 'yo', 'baby', 'doll', 'i', 'm', 'coming', 'hurry', 'i', 'm', 'still', 'coming', 'come', 'on', 'stop', 'this', 'thing', 'i', 'm', 'getting', 'there', 'shoot', 'i', 'll', 'be', 'down', 'before', 'you', 'can', 'say', 'mixed', 'vegetables', 'd', 'oh', 'get', 'it', 'dough', 'i', 'm', 'stuck', 'nothing', 'to', 'it', 'hang', 'on', 'look', 'out', 'it', 's', 'like', 'an', 'oven', 'in', 'here', 'come', 'on', 'wait', 'go', 'over', 'to', 'the', 'the', 'door', 'come', 'on', 'she', 's', 'gonna', 'blow', 'run', 'what', 'did', 'you', 'do', 'you', 'great', 'pudding', 'nothing', 'turn', 'it', 'off', 'it', 'won', 't', 'turn', 'off', 'we', 've', 'got', 'to', 'show', 'the', 'others', 'come', 'on', 'look', 'i', 'fixed', 'it', 'chicken', 'pies', 'yes', 'but', 'i', 'don', 't', 'want', 'to', 'be', 'a', 'pie', 'i', 'don', 't', 'like', 'gravy', 'ladies', 'let', 's', 'not', 'lose', 'our', 'heads', 'lose', 'our', 'heads', 'what', 'i', 'meant', 'was', 'rocky', 'sabotaged', 'the', 'machine', 'and', 'bought', 'us', 'more', 'time', 'and', 'better', 'still', 'he', 's', 'going', 'to', 'fly', 'for', 'us', 'tomorrow', 'once', 'we', 'see', 'how', 'i', 'know', 'we', 'll', 'get', 'it', 'so', 'don', 't', 'worry', 'tomorrow', 'everything', 'is', 'going', 'to', 'go', 'much', 'smoother', 'alright', 'pops', 'what', 'did', 'i', 'do', 'now', 'a', 'very', 'brave', 'and', 'honorable', 'deed', 'in', 'the', 'light', 'of', 'your', 'action', 'today', 'i', 'dutifully', 'admit', 'that', 'i', 'misjudged', 'your', 'character', 'i', 'present', 'you', 'with', 'this', 'medal', 'for', 'bravery', 'and', 'i', 'salute', 'you', 'in', 'honor', 'of', 'this', 'occasion', 'i', 'surrender', 'the', 'bunk', 'entirely', 'i', 'shall', 'sleep', 'under', 'the', 'stars', 'i', 'await', 'tomorrow', 's', 'flying', 'demonstration', 'with', 'great', 'anticipation', 'you', 'and', 'me', 'both', 'pops', 'oh', 'were', 'you', 'is', 'this', 'your', 'since', 'you', 're', 'here', 'i', 'm', 'glad', 'you', 're', 'here', 'you', 'go', 'first', 'you', 'go', 'ahead', 'i', 'just', 'wanted', 'to', 'say', 'i', 'may', 'have', 'been', 'a', 'bit', 'harsh', 'at', 'first', 'what', 'i', 'really', 'mean', 'is', 'thank', 'you', 'for', 'saving', 'my', 'life', 'for', 'saving', 'our', 'lives', 'you', 'know', 'i', 'come', 'up', 'here', 'every', 'night', 'and', 'look', 'at', 'that', 'hill', 'imagining', 'what', 'it', 's', 'like', 'on', 'the', 'other', 'side', 'it', 's', 'funny', 'i', 've', 'never', 'actually', 'felt', 'grass', 'beneath', 'my', 'feet', 'i', 'm', 'sorry', 'i', 'm', 'rambling', 'on', 'about', 'grass', 'and', 'you', 'had', 'something', 'to', 'say', 'it', 's', 'just', 'that', 'life', 'as', 'i', 've', 'experienced', 'it', 'out', 'there', 'lone', 'freeranging', 'and', 'stuff', 'it', 's', 'full', 'of', 'disappointments', 'so', 'grass', 'isn', 't', 'all', 'it', 's', 'cracked', 'up', 'to', 'be', 'grass', 'exactly', 'it', 's', 'always', 'greener', 'on', 'the', 'other', 'side', 'and', 'then', 'you', 'get', 'there', 'and', 'it', 's', 'brown', 'and', 'prickly', 'see', 'what', 'i', 'm', 'saying', 'what', 'i', 'm', 'trying', 'to', 'say', 'is', 'you', 're', 'welcome', 'you', 'know', 'that', 'hill', 'is', 'looking', 'closer', 'tonight', 'than', 'it', 'ever', 'has', 'before', 'good', 'night', 'rocky', 'good', 'night', 'ginger', 'company', 'attention', 'today', 's', 'the', 'day', 'girls', 'we', 're', 'going', 'to', 'fly', 'i', 'can', 'feel', 'it', 'finally', 'we', 'get', 'to', 'see', 'a', 'professional', 'in', 'action', 'start', 'warming', 'up', 'i', 'll', 'go', 'get', 'him', 'rocky', 'knock', 'knock', 'everyone', 's', 'waiting', 'so', 'i', 'told', 'them', 'a', 'cannon', 'that', 'd', 'give', 'you', 'a', 'thrust', 'i', 'knew', 'he', 'was', 'fake', 'all', 'along', 'in', 'fact', 'i', 'm', 'not', 'even', 'sure', 'if', 'he', 'was', 'american', 'what', 's', 'the', 'next', 'plan', 'face', 'it', 'the', 'only', 'way', 'we', 'get', 'out', 'is', 'wrapped', 'in', 'pastry', 'perhaps', 'he', 'just', 'went', 'on', 'holiday', 'perhaps', 'he', 'left', 'to', 'get', 'away', 'from', 'your', 'infernal', 'knitting', 'you', 'always', 'hit', 'him', 'see', 'how', 'you', 'like', 'it', 'don', 't', 'push', 'me', 'foureyes', 'quiet', 'quiet', 'i', 'say', 'dissention', 'in', 'the', 'ranks', 'just', 'what', 'jerry', 'wants', 'the', 'old', 'divide', 'and', 'conquer', 'a', 'proper', 'squadron', 'work', 'together', 'just', 'like', 'we', 'did', 'in', 'my', 'raf', 'days', 'jocko', 'at', 'the', 'stick', 'flappy', 'at', 'the', 'map', 'and', 'whizzbang', 'at', 'the', 'tailend', 'charlie', 'wingco', 'would', 'give', 'the', 'call', 'hop', 'in', 'the', 'old', 'crate', 'chocks', 'away', 'that', 's', 'how', 'you', 'get', 'medals', 'will', 'you', 'shut', 'up', 'about', 'your', 'stupid', 'bloomin', 'medals', 'how', 'dare', 'you', 'forgive', 'me', 'as', 'an', 'officer', 'everyone', 'shut', 'up', 'what', 'exactly', 'is', 'the', 'raf', 'what', 'do', 'you', 'mean', 'the', 'royal', 'air', 'force', 'is', 'what', 'then', 'what', 's', 'the', 'old', 'crate', 'there', 'she', 'is', 'gorgeous', 'isn', 't', 'she', 'you', 'mean', 'you', 'flew', 'in', 'one', 'of', 'these', 'beautifully', 'built', 'in', 'fact', 'there', 's', 'a', 'bit', 'of', 'a', 'story', 'there', 'we', 'were', 'on', 'a', 'reconnaissance', 'flight', 'when', 'the', 'weather', 'duffed', 'up', 'yes', 'of', 'course', 'we', 'may', 'be', 'able', 'to', 'pull', 'this', 'off', 'we', 're', 'still', 'flying', 'out', 'of', 'here', 'fowler', 's', 'provided', 'the', 'answer', 'i', 'have', 'oh', 'yes', 'of', 'course', 'i', 'have', 'how', 'have', 'i', 'we', 'll', 'make', 'a', 'crate', 'mac', 'you', 'll', 'handle', 'engineering', 'babs', 'manufacturing', 'fowler', 'is', 'chief', 'aviation', 'adviser', 'bunty', 'eggs', 'eggs', 'right', 'like', 'the', 'ones', 'the', 'rooster', 'was', 'going', 'to', 'lay', 'only', 'roosters', 'don', 't', 'lay', 'eggs', 'do', 'they', 'don', 't', 'they', 'it', 's', 'a', 'lady', 'thing', 'apparently', 'ask', 'your', 'mum', 'one', 'egg', 'per', 'item', 'on', 'the', 'list', 'first', 'payment', 'in', 'advance', 'right', 'when', 'do', 'we', 'start', 'what', 'the', 'dickens', 'oh', 'gnomes', 'now', 'eggs', 'from', 'heaven', 'no', 'from', 'her', 'bum', 'idiot', 'that', 'was', 'close', 'too', 'close', 'we', 'can', 't', 'stop', 'now', 'everyone', 'go', 'for', 'it', 'go', 'go', 'mac', 'we', 'need', 'the', 'calculations', 'quick', 'agnes', 'that', 'has', 'to', 'be', 'really', 'secure', 'careful', 'up', 'there', 'fowler', 'bunty', 'give', 'him', 'a', 'hand', 'well', 'done', 'babs', 'keep', 'it', 'up', 'no', 'problem', 'dollface', 'ah', 'boy', 'come', 'on', 'please', 'oh', 'no', 'he', 's', 'fixed', 'it', 'get', 'the', 'chickens', 'which', 'ones', 'all', 'of', 'them', 'my', 'tools', 'thieving', 'little', 'buggers', 'what', 's', 'the', 'plan', 'attack', 'nice', 'plan', 'the', 'chickens', 'are', 'revolting', 'finally', 'something', 'we', 'agree', 'on', 'help', 'under', 'the', 'hut', 'what', 'have', 'we', 'done', 'this', 'is', 'it', 'we', 're', 'escaping', 'what', 'now', 'now', 'but', 'she', 's', 'not', 'ready', 'listen', 'we', 'either', 'die', 'free', 'chickens', 'or', 'die', 'trying', 'are', 'those', 'the', 'only', 'choices', 'let', 's', 'do', 'it', 'scramble', 'the', 'exits', 'are', 'located', 'here', 'and', 'here', 'in', 'the', 'likely', 'event', 'of', 'an', 'emergency', 'put', 'your', 'head', 'between', 'your', 'knees', 'and', 'kiss', 'your', 'bum', 'goodbye', 'okay', 'fowler', 'ready', 'for', 'takeoff', 'behind', 'you', 'all', 'the', 'way', 'you', 're', 'supposed', 'to', 'be', 'up', 'there', 'you', 're', 'the', 'pilot', 'don', 't', 'be', 'ridiculous', 'i', 'can', 't', 'fly', 'this', 'contraption', 'but', 'back', 'in', 'your', 'day', 'the', 'royal', 'air', 'force', 'squadron', 'poultry', 'division', 'we', 'were', 'the', 'mascots', 'you', 'mean', 'you', 'never', 'flew', 'the', 'plane', 'good', 'heavens', 'no', 'i', 'm', 'a', 'chicken', 'the', 'royal', 'air', 'force', 'doesn', 't', 'let', 'chickens', 'fly', 'a', 'complex', 'aircraft', 'we', 're', 'all', 'gonna', 'die', 'fowler', 'you', 'have', 'to', 'fly', 'it', 'you', 'always', 'talk', 'about', 'back', 'in', 'your', 'day', 'well', 'today', 'is', 'your', 'day', 'you', 'can', 'do', 'it', 'you', 'old', 'sausage', 'wing', 'commander', 't', 'l', 'fowler', 'reporting', 'for', 'duty', 'what', 're', 'you', 'waiting', 'for', 'let', 's', 'get', 'this', 'crate', 'off', 'the', 'ground', 'fowler', 'now', 'roger', 'contact', 'cleared', 'for', 'takeoff', 'chocks', 'away', 'full', 'throttle', 'we', 'need', 'more', 'power', 'i', 'can', 't', 'work', 'miracles', 'we', 're', 'givin', 'her', 'all', 'she', 's', 'got', 'gotcha', 'hard', 'right', 'oh', 'mother', 'turn', 'her', 'around', 'i', 'll', 'get', 'the', 'ramp', 'put', 'the', 'ramp', 'down', 'you', 'are', 'going', 'to', 'be', 'a', 'pie', 'look', 'out', 'clear', 'the', 'runway', 'let', 's', 'go', 'we', 're', 'flying', 'that', 's', 'for', 'leaving', 'and', 'this', 'is', 'for', 'coming', 'back', 'great', 'scott', 'what', 'was', 'that', 'a', 'clingon', 'the', 'engines', 'can', 't', 'take', 'it', 'my', 'goodness', 'babs', 'scissors', 'lower', 'me', 'down', 'but', 'just', 'do', 'it', 'increase', 'velocity', 'what', 's', 'that', 'mean', 'pedal', 'your', 'flippin', 'giblets', 'out', 'lower', 'i', 'm', 'trying', 'look', 'out', 'fire', 'fire', 'my', 'eggs', 'more', 'ammo', 'hurry', 'we', 'got', 'no', 'more', 'eggs', 'look', 'out', 'no', 'bombs', 'away', 'mr', 'tweedy', 'that', 'was', 'good', 'that', 'was', 'good', 'the', 'old', 'bird', 'bought', 'it', 'i', 'told', 'you', 'they', 'was', 'organized', 'we', 'did', 'it', 'everyone', 'keep', 'pedaling', 'we', 're', 'not', 'there', 'yet', 'you', 'can', 't', 'see', 'paradise', 'if', 'you', 'don', 't', 'pedal', 'put', 'your', 'drumsticks', 'into', 'it', 'that', 's', 'what', 'i', 'told', 'them', 'we', 'were', 'losing', 'altitude', 'heading', 'for', 'a', 'lovely', 'holiday', 'i', 'll', 'be', 'sad', 'to', 'go', 'back', 'safety', 'at', 'all', 'times', 'is', 'imperative', 'wind', 'her', 'up', 'and', 'let', 'her', 'go', 'so', 'is', 'it', 'as', 'good', 'as', 'you', 'imagined', 'no', 'it', 's', 'better', 'i', 'll', 'show', 'you', 'how', 'to', 'play', 'cricket', 'here', 's', 'a', 'thought', 'let', 's', 'get', 'an', 'egg', 'and', 'start', 'our', 'own', 'chicken', 'farm', 'we', 'll', 'have', 'all', 'the', 'eggs', 'we', 'can', 'eat', 'right', 'we', 'll', 'need', 'a', 'chicken', 'then', 'no', 'an', 'egg', 'first', 'that', 's', 'where', 'the', 'chicken', 'comes', 'from', 'no', 'without', 'the', 'chicken', 'where', 'do', 'you', 'get', 'the', 'egg', 'from', 'a', 'chicken', 'that', 'comes', 'from', 'the', 'egg', 'but', 'you', 'need', 'an', 'egg', 'to', 'have', 'a', 'chicken', 'you', 'got', 'to', 'get', 'the', 'chicken', 'first', 'to', 'get', 'the', 'egg', 'then', 'you', 'get', 'the', 'chicken', 'hang', 'on', 'let', 's', 'go', 'over', 'this', 'again', 'he', 'gets', 'everything', 'everything', 'you', 'said', 'it', 'mate', 'i', 'know', 'the', 'egg', 'obviously', 'rolling', 'along', 'happily', 'then', 'crack', 'it', 'hatches', 'the', 'first', 'chicken', 'but', 'where', 'd', 'the', 'egg', 'come', 'from', 'what', 'do', 'you', 'mean', 'egg', 'comes', 'rolling', 'along', 'happily', 'and', 'wonders', 'where', 'd', 'it', 'come', 'from', 'without', 'a', 'chicken', 'no', 'eggs', 'come', 'rolling', 'along', 'without', 'an', 'egg', 'to', 'hatch', 'the', 'chicken', 'there', 'll', 'be', 'no', 'chicken', 'to', 'lay', 'the', 'first', 'egg', 'have', 'we', 'got', 'eggs', 'now', 'no', 'still', 'the', 'first', 'egg', 'what', 'about', 'the', 'first', 'chicken', 'it', 's', 'in', 'the', 'very', 'first', 'egg', 'guys', 'i', 'm', 'trying', 'to', 'enjoy', 'paradise', 'sorry', 'guv', 'won', 't', 'happen', 'again', 'thanks', 'gitface', 'pillock', 'thinks', 'he', 's', 'such', 'a', 'big', 'shot', 'cause', 'his', 'name', 's', 'on', 'a', 'poster', 'they', 're', 'all', 'the', 'same', 'the', 'rats', 'are', 'the', 'stars', 'yes', 'we', 'do', 'all', 'the', 'hard', 'work', 'and', 'he', 'gets', 'all', 'the', 'credit', ''], tags=['Chicken Run'])"
      ]
     },
     "execution_count": 10,
     "metadata": {},
     "output_type": "execute_result"
    }
   ],
   "source": [
    "data[1]"
   ]
  },
  {
   "cell_type": "code",
   "execution_count": 11,
   "metadata": {},
   "outputs": [],
   "source": [
    "import logging\n",
    "logging.basicConfig(format='%(asctime)s : %(levelname)s : %(message)s', level=logging.INFO)"
   ]
  },
  {
   "cell_type": "code",
   "execution_count": 12,
   "metadata": {},
   "outputs": [
    {
     "name": "stderr",
     "output_type": "stream",
     "text": [
      "2020-06-24 11:55:29,353 : INFO : collecting all words and their counts\n",
      "2020-06-24 11:55:29,363 : INFO : PROGRESS: at example #0, processed 0 words (0/s), 0 word types, 0 tags\n",
      "2020-06-24 11:55:30,470 : INFO : collected 51585 word types and 417 unique tags from a corpus of 433 examples and 3298744 words\n",
      "2020-06-24 11:55:30,472 : INFO : Loading a fresh vocabulary\n",
      "2020-06-24 11:55:30,680 : INFO : effective_min_count=5 retains 17501 unique words (33% of original 51585, drops 34084)\n",
      "2020-06-24 11:55:30,682 : INFO : effective_min_count=5 leaves 3242056 word corpus (98% of original 3298744, drops 56688)\n",
      "2020-06-24 11:55:30,788 : INFO : deleting the raw counts dictionary of 51585 items\n",
      "2020-06-24 11:55:30,793 : INFO : sample=0.001 downsamples 68 most-common words\n",
      "2020-06-24 11:55:30,795 : INFO : downsampling leaves estimated 2315188 word corpus (71.4% of prior 3242056)\n",
      "2020-06-24 11:55:30,897 : INFO : estimated required memory for 17501 words and 100 dimensions: 23001500 bytes\n",
      "2020-06-24 11:55:30,899 : INFO : resetting layer weights\n",
      "2020-06-24 11:55:31,329 : INFO : training model with 3 workers on 17501 vocabulary and 100 features, using sg=0 hs=0 sample=0.001 negative=5 window=10\n",
      "2020-06-24 11:55:32,337 : INFO : EPOCH 1 - PROGRESS: at 24.94% examples, 521013 words/s, in_qsize 5, out_qsize 0\n",
      "2020-06-24 11:55:33,342 : INFO : EPOCH 1 - PROGRESS: at 47.34% examples, 543919 words/s, in_qsize 5, out_qsize 0\n",
      "2020-06-24 11:55:34,343 : INFO : EPOCH 1 - PROGRESS: at 69.05% examples, 549756 words/s, in_qsize 5, out_qsize 0\n",
      "2020-06-24 11:55:35,354 : INFO : EPOCH 1 - PROGRESS: at 94.69% examples, 555279 words/s, in_qsize 5, out_qsize 0\n",
      "2020-06-24 11:55:35,470 : INFO : worker thread finished; awaiting finish of 2 more threads\n",
      "2020-06-24 11:55:35,481 : INFO : worker thread finished; awaiting finish of 1 more threads\n",
      "2020-06-24 11:55:35,489 : INFO : worker thread finished; awaiting finish of 0 more threads\n",
      "2020-06-24 11:55:35,491 : INFO : EPOCH - 1 : training on 3298744 raw words (2311474 effective words) took 4.2s, 556061 effective words/s\n",
      "2020-06-24 11:55:36,518 : INFO : EPOCH 2 - PROGRESS: at 26.33% examples, 541912 words/s, in_qsize 5, out_qsize 0\n",
      "2020-06-24 11:55:37,526 : INFO : EPOCH 2 - PROGRESS: at 48.04% examples, 546609 words/s, in_qsize 5, out_qsize 0\n",
      "2020-06-24 11:55:38,525 : INFO : EPOCH 2 - PROGRESS: at 68.59% examples, 542049 words/s, in_qsize 5, out_qsize 0\n",
      "2020-06-24 11:55:39,527 : INFO : EPOCH 2 - PROGRESS: at 93.53% examples, 550171 words/s, in_qsize 5, out_qsize 0\n",
      "2020-06-24 11:55:39,683 : INFO : worker thread finished; awaiting finish of 2 more threads\n",
      "2020-06-24 11:55:39,693 : INFO : worker thread finished; awaiting finish of 1 more threads\n",
      "2020-06-24 11:55:39,699 : INFO : worker thread finished; awaiting finish of 0 more threads\n",
      "2020-06-24 11:55:39,702 : INFO : EPOCH - 2 : training on 3298744 raw words (2310800 effective words) took 4.2s, 550358 effective words/s\n",
      "2020-06-24 11:55:40,718 : INFO : EPOCH 3 - PROGRESS: at 26.33% examples, 544102 words/s, in_qsize 5, out_qsize 0\n",
      "2020-06-24 11:55:41,720 : INFO : EPOCH 3 - PROGRESS: at 48.96% examples, 556977 words/s, in_qsize 5, out_qsize 0\n",
      "2020-06-24 11:55:42,723 : INFO : EPOCH 3 - PROGRESS: at 70.44% examples, 560094 words/s, in_qsize 5, out_qsize 0\n",
      "2020-06-24 11:55:43,728 : INFO : EPOCH 3 - PROGRESS: at 96.30% examples, 561155 words/s, in_qsize 5, out_qsize 0\n",
      "2020-06-24 11:55:43,805 : INFO : worker thread finished; awaiting finish of 2 more threads\n",
      "2020-06-24 11:55:43,817 : INFO : worker thread finished; awaiting finish of 1 more threads\n",
      "2020-06-24 11:55:43,823 : INFO : worker thread finished; awaiting finish of 0 more threads\n",
      "2020-06-24 11:55:43,825 : INFO : EPOCH - 3 : training on 3298744 raw words (2310956 effective words) took 4.1s, 561431 effective words/s\n",
      "2020-06-24 11:55:44,838 : INFO : EPOCH 4 - PROGRESS: at 26.56% examples, 542904 words/s, in_qsize 5, out_qsize 0\n",
      "2020-06-24 11:55:45,843 : INFO : EPOCH 4 - PROGRESS: at 48.96% examples, 556617 words/s, in_qsize 5, out_qsize 0\n",
      "2020-06-24 11:55:46,853 : INFO : EPOCH 4 - PROGRESS: at 68.59% examples, 542162 words/s, in_qsize 5, out_qsize 0\n",
      "2020-06-24 11:55:47,859 : INFO : EPOCH 4 - PROGRESS: at 91.92% examples, 541035 words/s, in_qsize 5, out_qsize 0\n",
      "2020-06-24 11:55:48,070 : INFO : worker thread finished; awaiting finish of 2 more threads\n",
      "2020-06-24 11:55:48,077 : INFO : worker thread finished; awaiting finish of 1 more threads\n",
      "2020-06-24 11:55:48,086 : INFO : worker thread finished; awaiting finish of 0 more threads\n",
      "2020-06-24 11:55:48,087 : INFO : EPOCH - 4 : training on 3298744 raw words (2311473 effective words) took 4.3s, 542870 effective words/s\n",
      "2020-06-24 11:55:49,104 : INFO : EPOCH 5 - PROGRESS: at 26.56% examples, 541262 words/s, in_qsize 5, out_qsize 0\n",
      "2020-06-24 11:55:50,125 : INFO : EPOCH 5 - PROGRESS: at 48.96% examples, 551224 words/s, in_qsize 5, out_qsize 0\n",
      "2020-06-24 11:55:51,139 : INFO : EPOCH 5 - PROGRESS: at 69.28% examples, 545282 words/s, in_qsize 4, out_qsize 1\n",
      "2020-06-24 11:55:52,144 : INFO : EPOCH 5 - PROGRESS: at 92.61% examples, 542394 words/s, in_qsize 5, out_qsize 0\n",
      "2020-06-24 11:55:52,343 : INFO : worker thread finished; awaiting finish of 2 more threads\n",
      "2020-06-24 11:55:52,346 : INFO : worker thread finished; awaiting finish of 1 more threads\n",
      "2020-06-24 11:55:52,357 : INFO : worker thread finished; awaiting finish of 0 more threads\n",
      "2020-06-24 11:55:52,359 : INFO : EPOCH - 5 : training on 3298744 raw words (2310868 effective words) took 4.3s, 541722 effective words/s\n",
      "2020-06-24 11:55:52,360 : INFO : training on a 16493720 raw words (11555571 effective words) took 21.0s, 549476 effective words/s\n"
     ]
    }
   ],
   "source": [
    "model = Doc2Vec(data, vector_size=100, window=10, min_count=5)"
   ]
  },
  {
   "cell_type": "code",
   "execution_count": 13,
   "metadata": {},
   "outputs": [
    {
     "name": "stderr",
     "output_type": "stream",
     "text": [
      "2020-06-24 11:55:52,372 : INFO : precomputing L2-norms of word weight vectors\n"
     ]
    },
    {
     "data": {
      "text/plain": [
       "[('queen', 0.8303049206733704),\n",
       " ('fiona', 0.7263976335525513),\n",
       " ('prince', 0.7210876941680908),\n",
       " ('mia', 0.7186498045921326),\n",
       " ('mary', 0.7152402400970459),\n",
       " ('clarisse', 0.6835178136825562),\n",
       " ('maleficent', 0.6778792142868042),\n",
       " ('mombi', 0.6756469011306763),\n",
       " ('aurora', 0.6751433610916138),\n",
       " ('elizabeth', 0.6677564382553101)]"
      ]
     },
     "execution_count": 13,
     "metadata": {},
     "output_type": "execute_result"
    }
   ],
   "source": [
    "model.wv.most_similar(['princess'])"
   ]
  },
  {
   "cell_type": "code",
   "execution_count": 14,
   "metadata": {},
   "outputs": [
    {
     "data": {
      "text/plain": [
       "[('ali', 0.7609744668006897),\n",
       " ('king', 0.7285929918289185),\n",
       " ('queen', 0.7234300374984741),\n",
       " ('princess', 0.7210876941680908),\n",
       " ('maleficent', 0.712914228439331),\n",
       " ('charming', 0.7073873281478882),\n",
       " ('lord', 0.7068966627120972),\n",
       " ('stefan', 0.7059444189071655),\n",
       " ('throne', 0.7024616599082947),\n",
       " ('child', 0.6990921497344971)]"
      ]
     },
     "execution_count": 14,
     "metadata": {},
     "output_type": "execute_result"
    }
   ],
   "source": [
    "model.wv.most_similar(['prince'])"
   ]
  },
  {
   "cell_type": "code",
   "execution_count": 15,
   "metadata": {},
   "outputs": [
    {
     "data": {
      "text/plain": [
       "[('lady', 0.7509048581123352),\n",
       " ('woman', 0.7349532842636108),\n",
       " ('she', 0.6014357805252075),\n",
       " ('eboshi', 0.5994483828544617),\n",
       " ('tricia', 0.5824992060661316),\n",
       " ('sister', 0.5745203495025635),\n",
       " ('witch', 0.5569777488708496),\n",
       " ('governess', 0.5556817650794983),\n",
       " ('shrek', 0.5535836219787598),\n",
       " ('fella', 0.5463157892227173)]"
      ]
     },
     "execution_count": 15,
     "metadata": {},
     "output_type": "execute_result"
    }
   ],
   "source": [
    "model.wv.most_similar(['girl'])"
   ]
  },
  {
   "cell_type": "code",
   "execution_count": 16,
   "metadata": {},
   "outputs": [
    {
     "data": {
      "text/plain": [
       "[('dances', 0.8323328495025635),\n",
       " ('sigh', 0.8308320045471191),\n",
       " ('strumming', 0.8259280920028687),\n",
       " ('cheree', 0.8258260488510132),\n",
       " ('goodwill', 0.8134447336196899),\n",
       " ('maestro', 0.8095118403434753),\n",
       " ('harmony', 0.8091412782669067),\n",
       " ('presenting', 0.8053244352340698),\n",
       " ('anaheim', 0.802537202835083),\n",
       " ('dancers', 0.8017275333404541)]"
      ]
     },
     "execution_count": 16,
     "metadata": {},
     "output_type": "execute_result"
    }
   ],
   "source": [
    "model.wv.most_similar(['gay'])"
   ]
  },
  {
   "cell_type": "code",
   "execution_count": 17,
   "metadata": {},
   "outputs": [
    {
     "data": {
      "text/plain": [
       "[('depths', 0.7017567157745361),\n",
       " ('itch', 0.6828211545944214),\n",
       " ('crooked', 0.6608413457870483),\n",
       " ('salt', 0.64825439453125),\n",
       " ('commoner', 0.6454104781150818),\n",
       " ('rage', 0.6427534818649292),\n",
       " ('mystery', 0.6405385732650757),\n",
       " ('wrist', 0.630344033241272),\n",
       " ('burial', 0.6294381618499756),\n",
       " ('supple', 0.6271909475326538)]"
      ]
     },
     "execution_count": 17,
     "metadata": {},
     "output_type": "execute_result"
    }
   ],
   "source": [
    "model.wv.most_similar(['dwarf'])"
   ]
  },
  {
   "cell_type": "code",
   "execution_count": 18,
   "metadata": {},
   "outputs": [],
   "source": [
    "lista=list(model.docvecs.doctags.keys())"
   ]
  },
  {
   "cell_type": "code",
   "execution_count": 19,
   "metadata": {},
   "outputs": [
    {
     "data": {
      "text/plain": [
       "['Title',\n",
       " 'Chicken Run',\n",
       " 'Flushed Away',\n",
       " 'Wallace And Gromit In The Curse Of The Were-Rabbit',\n",
       " 'Arthur Christmas',\n",
       " 'Early Man',\n",
       " 'Shaun the Sheep Movie',\n",
       " 'The Pirates In An Adventure With Scientists',\n",
       " 'Horton Hears a Who',\n",
       " 'Ice Age 2-The Meltdown',\n",
       " 'Ice Age Dawn of the Dinosaurs',\n",
       " 'Ice Age',\n",
       " 'Epic',\n",
       " 'Ferdinand',\n",
       " 'Ice Age 3 Continental Drift',\n",
       " 'Ice Age Collision Course',\n",
       " 'Rio 2',\n",
       " 'Rio',\n",
       " 'Robots',\n",
       " 'Spies in Disguise',\n",
       " 'The Peanuts Movie',\n",
       " 'Snow White and the Seven Dwarfs',\n",
       " 'Bambi',\n",
       " 'Dumbo',\n",
       " 'Pinocchio',\n",
       " 'The Adventures of Ichabod and Mr Toad',\n",
       " 'Alice in Wonderland',\n",
       " 'Cinderella',\n",
       " 'Lady and the Tramp',\n",
       " 'Peter Pan',\n",
       " 'Sleeping Beauty',\n",
       " 'One Hundred and One Dalmatians',\n",
       " 'The Jungle Book',\n",
       " 'The Sword in the Stone',\n",
       " 'Robin Hood',\n",
       " 'The AristoCats',\n",
       " 'The Rescuers',\n",
       " 'Winnie the Pooh',\n",
       " 'Oliver and Company',\n",
       " 'The Black Cauldrion',\n",
       " 'The Fox And The Hound',\n",
       " 'The Great Mouse Detective',\n",
       " 'The Little Mermaid',\n",
       " \"A Bug's Life\",\n",
       " 'A Goofy Movie',\n",
       " 'Aladdin',\n",
       " 'Beauty and the Beast',\n",
       " 'DuckTales The Movie - Treasure of the Lost Lamp',\n",
       " 'Hercules',\n",
       " 'Mulan',\n",
       " 'Pocahontas',\n",
       " 'Tarzan',\n",
       " 'The Hunchback of Notre Dame',\n",
       " 'The Lion King',\n",
       " 'The Nightmare Before Christmas',\n",
       " 'The Rescuers Down Under',\n",
       " 'Toy Story 2',\n",
       " 'Toy Story',\n",
       " 'A Christmas Carol',\n",
       " 'Atlantis-The Lost Empire',\n",
       " 'Bolt',\n",
       " 'Brother Bear',\n",
       " 'Cars',\n",
       " 'Chicken Little',\n",
       " 'Dinosaur',\n",
       " 'Finding Nemo',\n",
       " 'Home on the Range',\n",
       " 'Lilo And Stitch',\n",
       " 'Meet the Robinsons',\n",
       " 'Monsters Inc',\n",
       " 'Piglets Big Movie',\n",
       " 'Ratatouille',\n",
       " 'Recess Schools Out',\n",
       " 'Return to Never Land',\n",
       " 'The Emperors New Groove',\n",
       " 'The Incredibles',\n",
       " 'The Jungle Book 2',\n",
       " 'The Princess And The Frog',\n",
       " 'The Tigger Movie',\n",
       " 'The Wild',\n",
       " 'Treasure Planet',\n",
       " 'Up',\n",
       " 'Valiant',\n",
       " 'WALL-E',\n",
       " 'Arjun The Warrior Prince',\n",
       " 'Big Hero 6',\n",
       " 'Brave',\n",
       " 'Cars 2',\n",
       " 'Cars 3',\n",
       " 'Coco',\n",
       " 'Finding Dory',\n",
       " 'Frankenweenie',\n",
       " 'Frozen 2',\n",
       " 'Frozen',\n",
       " 'Incredibles 2',\n",
       " 'Inside Out',\n",
       " 'Mars Needs Moms',\n",
       " 'Moana',\n",
       " 'Monsters University',\n",
       " 'Planes Fire and Rescue',\n",
       " 'Planes',\n",
       " 'Ralph Breaks The Internet',\n",
       " 'Tangled',\n",
       " 'The Good Dinosaur',\n",
       " 'Toy Story 3',\n",
       " 'Toy Story 4',\n",
       " 'Wreck it Ralph',\n",
       " 'Zootopia',\n",
       " 'Fantasia',\n",
       " 'Melody Time',\n",
       " 'Saludos Amigos',\n",
       " 'So Dear To My Heart',\n",
       " 'Song of the South',\n",
       " 'The Reluctant Dragon',\n",
       " 'The Three Caballeros',\n",
       " 'Mary Poppins',\n",
       " 'Bedknobs and Broomsticks',\n",
       " \"Pete's Dragon\",\n",
       " 'Tron',\n",
       " 'Fantasia 2000',\n",
       " 'James and the Giant Peach',\n",
       " 'G-Force',\n",
       " 'Mary Poppins Returns',\n",
       " 'Davy Crockett and the River Pirates',\n",
       " 'Johnny Tremain',\n",
       " 'Old Yeller',\n",
       " 'The Shaggy Dog',\n",
       " 'The Sword and the Rose',\n",
       " 'Third Man On the Mountain',\n",
       " 'Treasure Island',\n",
       " 'Westward Ho the Wagons',\n",
       " 'Almost Angels',\n",
       " 'Babes In Toyland',\n",
       " 'Big Red',\n",
       " 'Blackbeards Ghost',\n",
       " 'Bon Voyage',\n",
       " 'Emil and the Detectives',\n",
       " 'Follow Me Boys',\n",
       " 'Greyfriars Bobby The True Story of a Dog',\n",
       " 'In Search of the Castaways',\n",
       " 'Kidnapped',\n",
       " 'Monkeys Go Home',\n",
       " 'Moon Pilot',\n",
       " 'Multiply That Darn Cat',\n",
       " 'Pollyanna',\n",
       " 'Rascal',\n",
       " 'Robin Crusoe',\n",
       " 'Savage Sam',\n",
       " 'Smith',\n",
       " 'Son of Flubber',\n",
       " 'Summer Magic',\n",
       " 'Swiss Family Robinson',\n",
       " 'The Absent Minded Professor',\n",
       " 'The Adventures of Bullwhip Griffin',\n",
       " 'The Computer Wore Tennis Shoes',\n",
       " 'The Gnome-Mobile',\n",
       " 'The Happiest Millonaire',\n",
       " 'The Horse In Grey Flannel Suit',\n",
       " 'The Incredible Journey',\n",
       " 'The Legend of Lobo',\n",
       " 'The Love Bug',\n",
       " 'The Monkeys Uncle',\n",
       " 'The Moon-Spinners',\n",
       " 'The Parent Trap',\n",
       " 'The Sign of Zorro',\n",
       " 'Thomasina',\n",
       " 'Toby Tyler, or Ten Weeks with a Circus',\n",
       " 'Apple Dumpling Gang',\n",
       " 'Charley and the Angel',\n",
       " 'Escape to Witch Mountain',\n",
       " 'Freaky Friday',\n",
       " 'Gus',\n",
       " 'Herbie Rides Again',\n",
       " 'Hot Lead And Cold Feet',\n",
       " 'Napoleon and Samantha',\n",
       " 'No Deposit No Return',\n",
       " 'One Little Indian',\n",
       " 'Return from Witch Mountain',\n",
       " 'Shaggy DA',\n",
       " 'The Barefoot Executive',\n",
       " 'The Black Hole',\n",
       " 'The Cat From Outer Space',\n",
       " 'The Island At The Top Of The World',\n",
       " 'The Littlest Horse Thieves',\n",
       " 'The Million Dollar Duck',\n",
       " 'The North Avenue Irregulars',\n",
       " 'The Strongest Man in the World',\n",
       " 'Treasure Of Matecumbe',\n",
       " 'Cheetah',\n",
       " 'Condorman',\n",
       " 'Flight of the Navigator',\n",
       " 'Herbie Goes Bananas',\n",
       " 'Honey I Shrunk the Kids',\n",
       " 'Midnight Madness',\n",
       " 'Never Cry Wolf',\n",
       " 'Night Crossing',\n",
       " 'One Magic Christmas',\n",
       " 'Popeye',\n",
       " 'Return to Oz',\n",
       " 'Return to Snowy River',\n",
       " 'Something Wicked This Way Comes',\n",
       " 'Tex',\n",
       " 'The Devil and Max Devlin',\n",
       " 'The Journey of Natty Gann',\n",
       " 'The Last Flight of Noahs Ark',\n",
       " 'The Watcher In The Woods',\n",
       " '101 Dalmatians',\n",
       " 'A Far Off Place',\n",
       " 'A Kid In King Arthurs Court',\n",
       " 'Air Bud 2 Golden Receiver',\n",
       " 'Air Bud',\n",
       " 'Angels In The Outfield',\n",
       " 'Blank Check',\n",
       " 'Cool Runnings',\n",
       " 'D2 The Mighty Ducks',\n",
       " 'D3 The Mighty Ducks',\n",
       " 'First Kid',\n",
       " 'Flubber',\n",
       " 'George of the Jungle',\n",
       " 'Heavyweights',\n",
       " 'Hocus Pocus',\n",
       " 'Home For Christmas',\n",
       " 'Homeward Bound 2 Lost In San Francisco',\n",
       " 'Homeward Bound The Incredible Journey',\n",
       " 'Honey I Blew Up the Kids',\n",
       " \"I'll be Home for Christmas\",\n",
       " 'Inspector Gadget',\n",
       " 'Iron Will',\n",
       " 'Jungle 2 Jungle',\n",
       " 'Man of the House',\n",
       " 'Mighty Joe Young',\n",
       " 'Mr Magoo',\n",
       " 'Muppet Treasure Island',\n",
       " 'My Favorite Martian',\n",
       " 'Newsies',\n",
       " 'Operation Dumbo Drop',\n",
       " 'RocketMan',\n",
       " 'Squanto A Warriors Tale',\n",
       " 'Tall Tale',\n",
       " 'That Darn Cat',\n",
       " 'The Adventures of Huck Finn',\n",
       " 'The Big Green',\n",
       " 'The Mighty Ducks',\n",
       " 'The Muppet Christmas Carol',\n",
       " 'The Rocketeer',\n",
       " 'The Santa Clause',\n",
       " 'The Straight Storys',\n",
       " 'The Three Musketeers',\n",
       " 'Tom and Huck',\n",
       " 'White Fang 2',\n",
       " 'White Fang',\n",
       " 'Wild Hearts Cant Be Broken',\n",
       " '102 Dalmatians',\n",
       " 'Around the World in 80 Days',\n",
       " 'Confessions Of A Teenage Drama Queen',\n",
       " 'Eight Below',\n",
       " 'Glory Road',\n",
       " 'Herbie Fully Loaded',\n",
       " 'Holes',\n",
       " 'Ice Princess',\n",
       " 'Max Keebles Big Move',\n",
       " 'Miracle',\n",
       " 'National Treasure',\n",
       " \"Pirates of the Caribbean - Dead Man's Chest\",\n",
       " 'Pirates of the Caribbean 1 Curse of the Black Pearl',\n",
       " 'Princess Diaries',\n",
       " 'Remember the Titans',\n",
       " 'Sky High',\n",
       " 'Snow Dogs',\n",
       " 'The Chronicles Of Narnia-The Lion The Witch And The Wardrobe',\n",
       " 'The Country Bears',\n",
       " 'The Greatest Game Ever Played',\n",
       " 'The Haunted Mansion',\n",
       " 'The Kid',\n",
       " 'The Lizzie McGuire Movie',\n",
       " 'The Pacifier',\n",
       " 'The Princess Diaries 2 Royal Engagement',\n",
       " 'The Rookie',\n",
       " 'The Santa Clause 2',\n",
       " 'The Young Black Stallion',\n",
       " 'Tuck Everlasting',\n",
       " 'A Wrinkle in Time',\n",
       " 'Alexander And The Terrible Horrible No Good Very Bad Day',\n",
       " 'Alice Through the Looking Glass',\n",
       " 'Bad Boys for Life',\n",
       " 'Beauty And The Beast',\n",
       " 'Christopher Robin',\n",
       " 'Dangal',\n",
       " 'Do Dooni Chaar',\n",
       " 'Into the Woods',\n",
       " 'Jagga Jasoos',\n",
       " 'Khoobsurat',\n",
       " 'Maleficent Mistress of Evil',\n",
       " 'Maleficent',\n",
       " 'McFarland, USA',\n",
       " 'Million Dollar Arm',\n",
       " 'Muppets Most Wanted',\n",
       " 'Noelle',\n",
       " 'Oz the Great and Powerful',\n",
       " \"Pirates of the Caribbean 5 Salazar's Revenge\",\n",
       " 'Pirates of the Caribbean On Stranger Tides',\n",
       " 'Prince of Persia, The Sands of Time',\n",
       " 'Prom',\n",
       " 'Queen of Katwe',\n",
       " 'Saving Mr Banks',\n",
       " 'Secretariat',\n",
       " 'Stargirl',\n",
       " 'The BFG',\n",
       " 'The Finest Hours',\n",
       " 'The Lone Ranger',\n",
       " 'The Muppets',\n",
       " 'The Nutcracker And The Four Realms',\n",
       " 'The Odd Life of Timothy Green',\n",
       " 'The Sorcerer Apprentice',\n",
       " 'Timmy Failure Mistakes Were Made',\n",
       " 'Togo',\n",
       " 'Tomorrowland',\n",
       " 'TRON Legacy',\n",
       " 'Antz',\n",
       " 'The Prince of Egypt',\n",
       " 'Madagascar',\n",
       " 'Monsters Vs Aliens',\n",
       " 'Over the Hedge',\n",
       " 'Shanghai Knights',\n",
       " 'Shark Tale',\n",
       " 'Shrek 2',\n",
       " 'Sinbad Legend of the Seven Seas',\n",
       " 'The Road to El Dorado',\n",
       " 'Home',\n",
       " 'How to Train Your Dragon',\n",
       " 'Kung Fu Panda 2',\n",
       " 'Kung Fu Panda 3',\n",
       " 'Madagascar 2 Escape 2 Africa',\n",
       " \"Madagascar 3 Europe's Most Wanted\",\n",
       " 'Megamind 3D',\n",
       " 'Mr Peabody Sherman',\n",
       " 'Penguins Of Madagascar',\n",
       " 'Puss in Boots 3D',\n",
       " 'Rise of the Guardians',\n",
       " 'The Boss Baby',\n",
       " 'The Croods',\n",
       " 'Trolls',\n",
       " 'Turbo',\n",
       " 'Despicable Me 2',\n",
       " 'Despicable Me 3',\n",
       " 'Despicable Me',\n",
       " 'Hop',\n",
       " 'Minions',\n",
       " 'Sing',\n",
       " 'The Grinch',\n",
       " 'The Lorax',\n",
       " 'The Secret Life of Pets 2',\n",
       " 'The Secret Life of Pets',\n",
       " 'Monster Trucks',\n",
       " 'Sherlock Gnomes',\n",
       " 'The SpongeBob Movie Sponge Out of Water',\n",
       " 'Wonder Park',\n",
       " 'Cloudy With A Chance Of Meatballs',\n",
       " 'Open Season',\n",
       " \"Surf's Up\",\n",
       " 'Angry Birds 2',\n",
       " 'Cloudy with a Chance of Meatballs 2',\n",
       " 'Goosebumps Haunted Halloween',\n",
       " 'Goosebumps',\n",
       " 'Hotel Transylvania 2',\n",
       " 'Hotel Transylvania 3 Summer Vacation',\n",
       " 'Hotel Transylvania',\n",
       " 'Peter Rabbit',\n",
       " 'Smurfs The Lost Village',\n",
       " 'SpiderMan Into the Spider-Verse',\n",
       " 'The Emoji Movie',\n",
       " 'The Pirates-Band of Misfits',\n",
       " 'The Smurfs 2',\n",
       " 'The Smurfs',\n",
       " 'The Star',\n",
       " 'Castle In The Sky',\n",
       " 'Grave of the Fireflies',\n",
       " 'Kikis Delivery Service',\n",
       " 'My Neighbor Totoro',\n",
       " 'My Neighbors the Yamadas',\n",
       " 'Only Yesterday',\n",
       " 'Pom Poko',\n",
       " 'Porco Rosso',\n",
       " 'Princess Mononoke',\n",
       " 'The Ocean Waves',\n",
       " 'Whisper of the Heart',\n",
       " 'Howls Moving Castle',\n",
       " 'Ponyo',\n",
       " 'Spirited Away',\n",
       " 'Tales From Earthsea',\n",
       " 'The Cat Returns',\n",
       " 'Arrietty',\n",
       " 'From Up on Poppy Hill',\n",
       " 'The Tale of The Princess Kaguya',\n",
       " 'The Wind Rises',\n",
       " 'When Marnie Was There',\n",
       " 'The Land Before Time II-The Great Valley Adventure',\n",
       " 'The Land Before Time III-The Time of The Great Giving',\n",
       " 'The Land Before Time IV-Journey Through the Mists',\n",
       " 'The Land Before Time V-The Mysterious Island',\n",
       " 'The Land Before Time VI-The Secret of Saurus Rock',\n",
       " 'Balto II Wolf Quest',\n",
       " 'Balto III Wings of Change',\n",
       " 'Curious George 2 Follow That Monkey',\n",
       " 'The Chronicles Of Riddick-Dark Fury',\n",
       " 'The Land Before Time IX-Journey to Big Water',\n",
       " 'The Land Before Time VII-The Stone of Cold Fire',\n",
       " 'The Land Before Time VIII-The Big Freeze',\n",
       " 'The Land Before Time X-The Great Longneck Migration',\n",
       " 'The Land Before Time XI',\n",
       " 'The Land Before Time XII-The Great Day Of The Flyers',\n",
       " 'The Land Before Time XIII -The Wisdom of Friends',\n",
       " 'Van Helsing The London Assignment',\n",
       " 'Curious George 3 Back to the Jungle',\n",
       " 'Curious George Royal Monkey',\n",
       " 'The Land Before Time XIV-Journey Of The Brave',\n",
       " 'The Little Engine That Could']"
      ]
     },
     "execution_count": 19,
     "metadata": {},
     "output_type": "execute_result"
    }
   ],
   "source": [
    "lista"
   ]
  },
  {
   "cell_type": "code",
   "execution_count": 20,
   "metadata": {},
   "outputs": [
    {
     "data": {
      "text/plain": [
       "0.5193469"
      ]
     },
     "execution_count": 20,
     "metadata": {},
     "output_type": "execute_result"
    }
   ],
   "source": [
    "model.docvecs.similarity('Moana', 'Sleeping Beauty')"
   ]
  },
  {
   "cell_type": "code",
   "execution_count": 21,
   "metadata": {},
   "outputs": [
    {
     "name": "stderr",
     "output_type": "stream",
     "text": [
      "2020-06-24 11:55:54,676 : INFO : precomputing L2-norms of doc weight vectors\n"
     ]
    },
    {
     "data": {
      "text/plain": [
       "[('Frozen 2', 0.7260875701904297),\n",
       " ('Maleficent', 0.7037692666053772),\n",
       " ('Prince of Persia, The Sands of Time', 0.6980410814285278),\n",
       " ('Sinbad Legend of the Seven Seas', 0.6933670043945312),\n",
       " ('Into the Woods', 0.692581057548523),\n",
       " ('Maleficent Mistress of Evil', 0.6784457564353943),\n",
       " ('The Island At The Top Of The World', 0.6758855581283569),\n",
       " ('Pocahontas', 0.6587002277374268),\n",
       " ('The Legend of Lobo', 0.6554663777351379),\n",
       " ('Princess Mononoke', 0.6498169302940369)]"
      ]
     },
     "execution_count": 21,
     "metadata": {},
     "output_type": "execute_result"
    }
   ],
   "source": [
    "model.docvecs.most_similar(\"Moana\")"
   ]
  },
  {
   "cell_type": "code",
   "execution_count": 22,
   "metadata": {},
   "outputs": [
    {
     "data": {
      "text/plain": [
       "[('Stargirl', 0.7076626420021057),\n",
       " ('Prom', 0.6634348630905151),\n",
       " ('Honey I Shrunk the Kids', 0.6513394713401794),\n",
       " ('Rio 2', 0.6390658020973206),\n",
       " ('The Big Green', 0.6382961869239807),\n",
       " ('Chicken Little', 0.6155173778533936),\n",
       " ('Ice Age Collision Course', 0.6125141978263855),\n",
       " ('Wonder Park', 0.6071749925613403),\n",
       " ('The Land Before Time XII-The Great Day Of The Flyers', 0.5972674489021301),\n",
       " ('The Mighty Ducks', 0.595159649848938)]"
      ]
     },
     "execution_count": 22,
     "metadata": {},
     "output_type": "execute_result"
    }
   ],
   "source": [
    "model.docvecs.most_similar(\"Inside Out\")"
   ]
  },
  {
   "cell_type": "code",
   "execution_count": 23,
   "metadata": {},
   "outputs": [
    {
     "data": {
      "text/plain": [
       "[('Bambi', 0.7498948574066162),\n",
       " ('Hocus Pocus', 0.7465342283248901),\n",
       " ('Return to Never Land', 0.7369140982627869),\n",
       " ('Beauty And The Beast', 0.7175267934799194),\n",
       " ('Brave', 0.7152527570724487),\n",
       " ('Dumbo', 0.7033535242080688),\n",
       " ('The Little Mermaid', 0.69877028465271),\n",
       " ('Frozen', 0.6864252686500549),\n",
       " ('Sleeping Beauty', 0.6845309734344482),\n",
       " ('Beauty and the Beast', 0.678303599357605)]"
      ]
     },
     "execution_count": 23,
     "metadata": {},
     "output_type": "execute_result"
    }
   ],
   "source": [
    "model.docvecs.most_similar(\"Snow White and the Seven Dwarfs\")"
   ]
  },
  {
   "cell_type": "code",
   "execution_count": 24,
   "metadata": {},
   "outputs": [
    {
     "data": {
      "text/plain": [
       "[('Cinderella', 0.8835923075675964),\n",
       " ('Maleficent', 0.8687595129013062),\n",
       " ('Brave', 0.8434524536132812),\n",
       " ('The Nutcracker And The Four Realms', 0.8392280340194702),\n",
       " ('Maleficent Mistress of Evil', 0.8350979089736938),\n",
       " ('The Princess Diaries 2 Royal Engagement', 0.8344851732254028),\n",
       " ('Tangled', 0.8091224431991577),\n",
       " ('Beauty And The Beast', 0.8050042986869812),\n",
       " ('The Tale of The Princess Kaguya', 0.7935473918914795),\n",
       " ('Beauty and the Beast', 0.7798484563827515)]"
      ]
     },
     "execution_count": 24,
     "metadata": {},
     "output_type": "execute_result"
    }
   ],
   "source": [
    "model.docvecs.most_similar(\"Sleeping Beauty\")"
   ]
  },
  {
   "cell_type": "code",
   "execution_count": 25,
   "metadata": {},
   "outputs": [
    {
     "data": {
      "text/plain": [
       "[('rapunzel', 0.7602893114089966),\n",
       " ('maleficent', 0.736372709274292),\n",
       " ('aurora', 0.7283514738082886),\n",
       " ('draupadi', 0.7250028848648071),\n",
       " ('stefan', 0.7100568413734436),\n",
       " ('jasmine', 0.6985435485839844),\n",
       " ('beauty', 0.6935915946960449),\n",
       " ('cursed', 0.6870296001434326),\n",
       " ('cruel', 0.686643660068512),\n",
       " ('yudhishtir', 0.6839868426322937)]"
      ]
     },
     "execution_count": 25,
     "metadata": {},
     "output_type": "execute_result"
    }
   ],
   "source": [
    "model.wv.most_similar([model.docvecs[\"Tangled\"]])"
   ]
  },
  {
   "cell_type": "code",
   "execution_count": null,
   "metadata": {},
   "outputs": [],
   "source": []
  },
  {
   "cell_type": "code",
   "execution_count": 26,
   "metadata": {},
   "outputs": [],
   "source": [
    "data2=[]\n",
    "with open(file, encoding='utf-8', newline='') as handle:\n",
    "    reader = csv.reader(handle)\n",
    "    for row in reader:\n",
    "        data2.append(TaggedDocument(re.split('[\\W\\d_]+',row[5].lower()),[row[1]]))"
   ]
  },
  {
   "cell_type": "code",
   "execution_count": 27,
   "metadata": {},
   "outputs": [
    {
     "data": {
      "text/plain": [
       "TaggedDocument(words=['i', 'm', 'stuck', 'get', 'back', 'mr', 'tweedy', 'what', 'is', 'that', 'chicken', 'doing', 'outside', 'the', 'fence', 'i', 'don', 't', 'know', 'luv', 'just', 'deal', 'with', 'it', 'now', 'i', 'll', 'teach', 'you', 'to', 'make', 'a', 'fool', 'out', 'of', 'me', 'let', 'that', 'be', 'a', 'lesson', 'to', 'you', 'no', 'chicken', 'escapes', 'from', 'tweedy', 's', 'farm', 'morning', 'ginger', 'back', 'from', 'holiday', 'i', 'wasn', 't', 'on', 'holiday', 'i', 'was', 'in', 'solitary', 'confinement', 'it', 's', 'nice', 'to', 'get', 'a', 'bit', 'of', 'time', 'to', 'yourself', 'isn', 't', 'it', 'roll', 'call', 'come', 'along', 'you', 'll', 'be', 'late', 'for', 'parade', 'pip', 'pip', 'quick', 'march', 'left', 'right', 'come', 'on', 'smarten', 'up', 'discipline', 'order', 'back', 'in', 'my', 'raf', 'days', 'when', 'an', 'officer', 'called', 'for', 'a', 'scramble', 'you', 'd', 'hop', 'in', 'the', 'old', 'crate', 'and', 'chocks', 'away', 'keep', 'over', 'you', 'old', 'fool', 'they', 'just', 'want', 'to', 'count', 'us', 'how', 'dare', 'you', 'talk', 'back', 'to', 'a', 'senior', 'ranking', 'officer', 'back', 'in', 'my', 'raf', 'days', 'fowler', 'they', 're', 'coming', 'right', 'right', 'there', 'll', 'be', 'a', 'reprimand', 'lad', 'you', 're', 'grounded', 'attention', 'welcome', 'back', 'hen', 'is', 'there', 'a', 'new', 'plan', 'we', 've', 'already', 'tried', 'going', 'under', 'over', 'right', 'how', 's', 'the', 'egg', 'count', 'i', 'laid', 'eggs', 'today', 'well', 'chuffed', 'with', 'that', 'i', 'was', 'oh', 'no', 'why', 'didn', 't', 'you', 'give', 'her', 'some', 'of', 'yours', 'she', 'didn', 't', 'tell', 'me', 'she', 'didn', 't', 'tell', 'anyone', 'is', 'edwina', 'off', 'on', 'holiday', 'we', 've', 'got', 'to', 'get', 'out', 'of', 'here', 'are', 'we', 'still', 'on', 'we', 're', 'on', 'all', 'right', 'spread', 'the', 'word', 'mac', 'meeting', 'tonight', 'in', 'hut', 'you', 'called', 'nick', 'and', 'fetcher', 'at', 'your', 'service', 'over', 'here', 'we', 'need', 'more', 'things', 'right', 'you', 'are', 'miss', 'how', 'about', 'this', 'quality', 'tea', 'set', 'a', 'lovely', 'necklace', 'and', 'pendant', 'or', 'this', 'number', 'all', 'the', 'rage', 'in', 'the', 'fashionable', 'paris', 'chicken', 'coops', 'simply', 'pop', 'it', 'on', 'and', 'as', 'the', 'french', 'say', 'voila', 'that', 'is', 'french', 'it', 's', 'two', 'hats', 'in', 'one', 'miss', 'for', 'parties', 'for', 'weddings', 'madame', 'you', 'look', 'like', 'a', 'vision', 'like', 'a', 'dream', 'like', 'a', 'duck', 'no', 'thank', 'you', 'we', 're', 'making', 'this', 'we', 'need', 'this', 'can', 'you', 'get', 'it', 'this', 'is', 'a', 'big', 'job', 'miss', 'bigger', 'than', 'the', 'others', 'this', 'will', 'cost', 'the', 'usual', 'one', 'bag', 'of', 'seed', 'you', 'call', 'this', 'pay', 'it', 's', 'chicken', 'feed', 'what', 'could', 'we', 'give', 'you', 'eggs', 'we', 'can', 't', 'our', 'eggs', 'are', 'too', 'valuable', 'so', 'are', 'we', 'after', 'you', 'fetcher', 'after', 'i', 'what', 'move', 'stupid', 'worthless', 'creatures', 'i', 'm', 'sick', 'and', 'tired', 'of', 'making', 'minuscule', 'profits', 'oh', 'yes', 'those', 'chickens', 'are', 'up', 'to', 'something', 'quiet', 'i', 'm', 'onto', 'something', 'they', 're', 'organized', 'quiet', 'that', 'ginger', 'one', 'is', 'their', 'leader', 'i', 'may', 'have', 'found', 'a', 'way', 'to', 'make', 'some', 'real', 'money', 'what', 'are', 'you', 'on', 'about', 'ridiculous', 'notions', 'of', 'escaping', 'chickens', 'it', 's', 'all', 'in', 'your', 'head', 'mr', 'tweedy', 'say', 'it', 'it', 's', 'all', 'in', 'my', 'head', 'now', 'you', 'keep', 'telling', 'yourself', 'that', 'because', 'i', 'won', 't', 'hear', 'another', 'word', 'about', 'it', 'is', 'that', 'clear', 'yes', 'luv', 'but', 'the', 'ginger', 'one', 'they', 're', 'chickens', 'you', 'dolt', 'apart', 'from', 'you', 'they', 're', 'the', 'most', 'stupid', 'creatures', 'on', 'the', 'planet', 'they', 'don', 't', 'plot', 'they', 'don', 't', 'scheme', 'and', 'they', 're', 'not', 'organized', 'order', 'order', 'quiet', 'everyone', 'settle', 'down', 'i', 'would', 'like', 'to', 'call', 'to', 'order', 'quiet', 'discipline', 'in', 'the', 'ranks', 'what', 'what', 'thank', 'you', 'fowler', 'in', 'my', 'raf', 'days', 'we', 'never', 'wasted', 'time', 'with', 'unnecessary', 'chitchat', 'yes', 'thank', 'you', 'fowler', 'right', 'carry', 'on', 'our', 'last', 'escape', 'attempt', 'was', 'a', 'bit', 'of', 'a', 'fiasco', 'but', 'mac', 'and', 'i', 'have', 'a', 'new', 'plan', 'show', 'them', 'mac', 'we', 'tried', 'going', 'under', 'that', 'wire', 'and', 'it', 'didn', 't', 'work', 'so', 'the', 'plan', 'is', 'we', 'go', 'over', 'it', 'this', 'is', 'us', 'right', 'we', 'get', 'in', 'like', 'this', 'and', 'wind', 'her', 'up', 'and', 'let', 'her', 'go', 'good', 'grief', 'the', 'turnip', 's', 'bought', 'it', 'farmer', 's', 'coming', 'operation', 'coverup', 'mr', 'tweedy', 'where', 'are', 'you', 'it', 's', 'all', 'in', 'your', 'head', 'think', 'everyone', 'what', 'haven', 't', 'we', 'tried', 'yet', 'we', 'haven', 't', 'tried', 'not', 'trying', 'to', 'escape', 'might', 'work', 'what', 'about', 'edwina', 'how', 'many', 'more', 'empty', 'nests', 'will', 'it', 'take', 'maybe', 'she', 'should', 'have', 'spent', 'more', 'time', 'laying', 'eggs', 'and', 'less', 'time', 'escaping', 'laying', 'eggs', 'then', 'getting', 'plucked', 'and', 'roasted', 'is', 'good', 'enough', 'for', 'you', 'it', 's', 'a', 'living', 'the', 'fences', 'aren', 't', 'just', 'around', 'the', 'farm', 'they', 're', 'up', 'here', 'in', 'your', 'heads', 'there', 'is', 'a', 'better', 'place', 'out', 'there', 'somewhere', 'beyond', 'that', 'hill', 'it', 'has', 'wide', 'open', 'spaces', 'and', 'lots', 'of', 'trees', 'and', 'grass', 'can', 'you', 'imagine', 'that', 'cool', 'green', 'grass', 'who', 'feeds', 'us', 'we', 'feed', 'ourselves', 'where', 's', 'the', 'farm', 'there', 'is', 'no', 'farm', 'then', 'where', 'does', 'the', 'farmer', 'live', 'there', 'is', 'no', 'farmer', 'is', 'he', 'on', 'holiday', 'he', 'isn', 't', 'anywhere', 'don', 't', 'you', 'get', 'it', 'no', 'egg', 'count', 'no', 'farmers', 'no', 'dogs', 'no', 'coops', 'and', 'keys', 'and', 'no', 'fences', 'in', 'all', 'my', 'life', 'i', 've', 'never', 'heard', 'such', 'a', 'fantastic', 'load', 'of', 'tripe', 'face', 'the', 'facts', 'ducks', 'the', 'chance', 'of', 'us', 'getting', 'out', 'are', 'a', 'million', 'to', 'one', 'then', 'there', 's', 'still', 'a', 'chance', 'oh', 'no', 'who', 'am', 'i', 'fooling', 'i', 'can', 't', 'lead', 'this', 'bunch', 'of', 'heaven', 'help', 'us', 'freedom', 'ladies', 'and', 'gentlemen', 'you', 've', 'been', 'a', 'wonderful', 'audience', 'that', 's', 'it', 'inside', 'quickly', 'here', 's', 'our', 'way', 'out', 'we', 'll', 'make', 'posters', 'what', 's', 'on', 'the', 'posters', 'babs', 'we', 'll', 'fly', 'out', 'must', 'be', 'important', 'to', 'be', 'on', 'a', 'poster', 'i', 'wonder', 'what', 'he', 'does', 'obviously', 'he', 's', 'a', 'professional', 'flying', 'rooster', 'flies', 'around', 'giving', 'demonstrations', 'do', 'you', 'suppose', 'absolutely', 'no', 'not', 'in', 'there', 'get', 'out', 'who', 'are', 'you', 'where', 'am', 'i', 'what', 'happened', 'to', 'my', 'wing', 'you', 'took', 'a', 'nasty', 'fall', 'spraining', 'the', 'anterior', 'tendon', 'connecting', 'the', 'radius', 'to', 'the', 'humerus', 'i', 'wrapped', 'it', 'was', 'that', 'english', 'she', 'fixed', 'your', 'wing', 'i', 'made', 'the', 'bandage', 'i', 'carried', 'you', 'in', 'back', 'up', 'and', 'start', 'from', 'the', 'top', 'where', 'am', 'i', 'how', 'rude', 'of', 'us', 'we', 're', 'just', 'excited', 'this', 'is', 'a', 'chicken', 'farm', 'and', 'we', 're', 'the', 'chickens', 'with', 'you', 'so', 'far', 'chicken', 'farm', 'chickens', 'i', 'don', 't', 'like', 'his', 'look', 'his', 'eyes', 'are', 'too', 'close', 'together', 'and', 'he', 's', 'a', 'yank', 'cockfighting', 's', 'illegal', 'where', 'i', 'come', 'from', 'where', 'is', 'that', 'a', 'place', 'i', 'call', 'home', 'of', 'the', 'free', 'land', 'of', 'the', 'brave', 'scotland', 'no', 'america', 'poppycock', 'pushy', 'americans', 'always', 'showing', 'up', 'late', 'for', 'every', 'war', 'overpaid', 'oversexed', 'and', 'over', 'here', 'what', 's', 'eating', 'grandpa', 'don', 't', 'mind', 'him', 'mister', 'my', 'name', 's', 'rocky', 'the', 'rhode', 'island', 'red', 'rhodes', 'for', 'short', 'rocky', 'rhodes', 'catchy', 'ain', 't', 'it', 'mr', 'rhodes', 'is', 'this', 'you', 'who', 'wants', 'to', 'know', 'a', 'group', 'of', 'desperate', 'chickens', 'if', 'it', 's', 'you', 'you', 'may', 'be', 'the', 'answer', 'to', 'our', 'prayers', 'then', 'call', 'me', 'a', 'miracle', 'dollface', 'cause', 'that', 's', 'me', 'what', 'brings', 'you', 'to', 'england', 'mr', 'rhodes', 'all', 'the', 'beautiful', 'english', 'chicks', 'of', 'course', 'give', 'over', 'i', 'm', 'a', 'traveler', 'i', 'did', 'that', 'barnyard', 'thing', 'for', 'a', 'while', 'but', 'couldn', 't', 'get', 'into', 'it', 'hi', 'how', 'are', 'you', 'nope', 'the', 'open', 'road', 'is', 'more', 'my', 'style', 'put', 'a', 'pack', 'on', 'my', 'back', 'and', 'point', 'me', 'where', 'the', 'wind', 'blows', 'know', 'what', 'they', 'call', 'me', 'back', 'home', 'you', 'll', 'love', 'this', 'the', 'lone', 'freeranger', 'isn', 't', 'that', 'great', 'i', 'knew', 'it', 'was', 'possible', 'it', 's', 'possible', 'the', 'answer', 'had', 'to', 'come', 'amen', 'we', 'll', 'fly', 'over', 'that', 'fence', 'and', 'mr', 'rhodes', 'will', 'show', 'us', 'how', 'right', 'that', 's', 'ri', 'what', 'did', 'you', 'say', 'fly', 'you', 'can', 'teach', 'us', 'no', 'i', 'can', 't', 'listen', 'you', 'hear', 'that', 'the', 'open', 'road', 's', 'calling', 'and', 'i', 'have', 'to', 'answer', 'bye', 'he', 'must', 'have', 'very', 'good', 'hearing', 'okay', 'where', 's', 'the', 'exit', 'this', 'way', 'mr', 'rhodes', 'perhaps', 'i', 'didn', 't', 'explain', 'our', 'situation', 'properly', 'we', 'lay', 'eggs', 'day', 'in', 'day', 'out', 'when', 'we', 'can', 't', 'lay', 'any', 'more', 'they', 'kill', 'us', 'it', 's', 'a', 'cruel', 'world', 'dollface', 'better', 'get', 'used', 'to', 'it', 'which', 'part', 'of', 'they', 'kill', 'us', 'don', 't', 'you', 'understand', 'i', 'got', 'my', 'own', 'set', 'of', 'problems', 'besides', 'it', 'can', 't', 'be', 'that', 'hard', 'to', 'bust', 'out', 'of', 'here', 'watch', 'me', 'it', 's', 'not', 'so', 'hard', 'for', 'a', 'chicken', 'or', 'two', 'to', 'get', 'out', 'but', 'it', 's', 'about', 'all', 'of', 'us', 'all', 'of', 'you', 'i', 've', 'been', 'trying', 'to', 'tell', 'you', 'let', 's', 'get', 'it', 'straight', 'you', 'want', 'to', 'get', 'every', 'chicken', 'out', 'of', 'here', 'at', 'once', 'of', 'course', 'you', 're', 'certifiable', 'you', 'can', 't', 'pull', 'that', 'off', 'where', 'there', 's', 'a', 'will', 'there', 's', 'a', 'way', 'couldn', 't', 'agree', 'more', 'and', 'i', 'will', 'be', 'leaving', 'that', 'way', 'mr', 'rhodes', 'please', 'so', 'that', 's', 'it', 'you', 're', 'from', 'the', 'circus', 'you', 're', 'on', 'the', 'run', 'aren', 't', 'you', 'keep', 'it', 'down', 'i', 'm', 'trying', 'to', 'lay', 'low', 'here', 'i', 'should', 'turn', 'you', 'in', 'right', 'now', 'you', 'wouldn', 't', 'would', 'you', 'why', 'not', 'because', 'i', 'm', 'cute', 'hey', 'hey', 'you', 'crazy', 'chick', 'you', 'know', 'what', 'll', 'happen', 'if', 'he', 'finds', 'me', 'it', 's', 'a', 'cruel', 'world', 'i', 'don', 't', 'like', 'you', 'i', 'don', 't', 'care', 'show', 'us', 'how', 'to', 'fly', 'with', 'this', 'wing', 'teach', 'us', 'then', 'he', 's', 'valuable', 'you', 'say', 'sure', 'get', 'the', 'torch', 'listen', 'here', 'sister', 'i', 'm', 'not', 'going', 'back', 'to', 'that', 'life', 'i', 'm', 'a', 'lone', 'freeranger', 'emphasis', 'on', 'free', 'and', 'that', 's', 'what', 'we', 'want', 'freedom', 'fancy', 'that', 'they', 're', 'coming', 'oh', 'no', 'they', 're', 'onto', 'me', 'teach', 'us', 'to', 'fly', 'we', 'll', 'hide', 'you', 'and', 'if', 'i', 'don', 't', 'was', 'your', 'father', 'by', 'any', 'chance', 'a', 'vulture', 'do', 'we', 'have', 'a', 'deal', 'time', 'to', 'make', 'good', 'on', 'that', 'deal', 'dollface', 'the', 'name', 'is', 'ginger', 'comfortable', 'not', 'really', 'maybe', 'this', 'will', 'help', 'nice', 'hideout', 'i', 'had', 'more', 'room', 'in', 'my', 'egg', 'we', 'held', 'up', 'our', 'end', 'of', 'it', 'tomorrow', 'you', 'hold', 'up', 'yours', 'what', 'deal', 'flying', 'oh', 'yeah', 'don', 't', 'worry', 'i', 'll', 'teach', 'you', 'everything', 'i', 'know', 'which', 'bunk', 'is', 'mine', 'absolutely', 'outrageous', 'asking', 'a', 'senior', 'officer', 'to', 'share', 'his', 'quarters', 'and', 'with', 'a', 'noncommissioned', 'yank', 'no', 'less', 'why', 'back', 'in', 'my', 'day', 'you', 'weren', 't', 'exactly', 'my', 'first', 'choice', 'either', 'scoot', 'over', 'your', 'wing', 's', 'on', 'my', 'side', 'of', 'the', 'bunk', 'your', 'side', 'of', 'the', 'bunk', 'the', 'whole', 'bunk', 'is', 'my', 'side', 'what', 'is', 'that', 'smell', 'is', 'that', 'your', 'breath', 'absolutely', 'outrageous', 'so', 'you', 'want', 'to', 'fly', 'huh', 'well', 'it', 'ain', 't', 'going', 'to', 'be', 'easy', 'and', 'it', 'ain', 't', 'going', 'to', 'happen', 'overnight', 'flying', 'takes', 'three', 'things', 'hard', 'work', 'perseverance', 'and', 'hard', 'work', 'you', 'said', 'hard', 'work', 'twice', 'because', 'it', 'takes', 'twice', 'as', 'much', 'hard', 'work', 'as', 'perseverance', 'codswallop', 'cocky', 'yanks', 'think', 'they', 'know', 'it', 'all', 'the', 'most', 'important', 'thing', 'is', 'we', 'have', 'to', 'work', 'as', 'a', 'team', 'which', 'means', 'you', 'do', 'everything', 'i', 'tell', 'you', 'let', 's', 'rock', 'n', 'roll', 'the', 'chickens', 'are', 'pecking', 'and', 'left', 'two', 'three', 'and', 'right', 'two', 'three', 'and', 'stop', 'right', 'there', 'yes', 'down', 'make', 'little', 'circles', 'faster', 'oh', 'that', 's', 'the', 'spot', 'i', 'thought', 'you', 'were', 'going', 'to', 'teach', 'us', 'to', 'fly', 'that', 's', 'what', 'i', 'm', 'doing', 'isn', 't', 'there', 'usually', 'some', 'flapping', 'involved', 'do', 'i', 'tell', 'you', 'how', 'to', 'lay', 'eggs', 'relax', 'we', 're', 'making', 'progress', 'really', 'i', 'can', 't', 'help', 'feeling', 'we', 're', 'going', 'around', 'in', 'circles', 'hey', 'cut', 'it', 'out', 'you', 're', 'making', 'me', 'dizzy', 'they', 're', 'ready', 'to', 'fly', 'now', 'good', 'cause', 'they', 'can', 't', 'walk', 'anymore', 'up', 'and', 'at', 'em', 'let', 's', 'flap', 'let', 's', 'see', 'if', 'old', 'attila', 'the', 'hen', 'has', 'come', 'to', 'her', 'senses', 'it', 's', 'raining', 'hen', 'what', 's', 'this', 'caper', 'luv', 'we', 're', 'flying', 'obviously', 'flipping', 'hell', 'look', 'at', 'this', 'they', 're', 'going', 'to', 'kill', 'themselves', 'want', 'to', 'watch', 'all', 'right', 'careful', 'of', 'those', 'eggs', 'sunnyside', 'up', 'now', 'over', 'easy', 'definitely', 'scrambled', 'poultry', 'in', 'motion', 'birds', 'of', 'a', 'feather', 'flop', 'together', 'great', 'work', 'ladies', 'the', 'pain', 'you', 're', 'feeling', 'is', 'a', 'good', 'thing', 'pain', 'is', 'your', 'friend', 'just', 'keep', 'the', 'faith', 'agnes', 'you', 'll', 'get', 'there', 'you', 'flew', 'four', 'feet', 'today', 'yeah', 'four', 'feet', 'from', 'the', 'roof', 'to', 'the', 'ground', 'all', 'part', 'of', 'the', 'process', 'don', 't', 'worry', 'you', 'cheesy', 'little', 'that', 'doesn', 't', 'sound', 'good', 'the', 'ground', 's', 'shaking', 'are', 'we', 'worried', 'are', 'we', 'worried', 'the', 'circus', 'quick', 'hide', 'me', 'hide', 'me', 'come', 'on', 'one', 'isn', 't', 'awarded', 'a', 'medal', 'for', 'flapping', 'about', 'like', 'a', 'lunatic', 'now', 'see', 'here', 'this', 'is', 'an', 'officer', 's', 'quarters', 'in', 'here', 'get', 'out', 'of', 'here', 'now', 'give', 'it', 'a', 'rest', 'pops', 'what', 'i', 'shall', 'have', 'you', 'on', 'charges', 'within', 'the', 'week', 'cheers', 'mate', 'it', 's', 'all', 'in', 'your', 'head', 'what', 's', 'all', 'this', 'this', 'is', 'our', 'future', 'mr', 'tweedy', 'no', 'more', 'wasting', 'time', 'with', 'petty', 'egg', 'collection', 'and', 'minuscule', 'profits', 'no', 'eggs', 'we', 've', 'always', 'been', 'egg', 'farmers', 'my', 'father', 'his', 'father', 'and', 'their', 'fathers', 'they', 'were', 'always', 'poor', 'worthless', 'nothings', 'but', 'that', 's', 'about', 'to', 'change', 'this', 'will', 'take', 'tweedy', 's', 'farm', 'out', 'of', 'the', 'dark', 'ages', 'and', 'into', 'fullscale', 'automated', 'production', 'melisha', 'tweedy', 'will', 'be', 'poor', 'no', 'longer', 'i', 'll', 'put', 'it', 'together', 'shall', 'i', 'that', 'isn', 't', 'good', 'whatever', 's', 'in', 'those', 'boxes', 'is', 'for', 'us', 'and', 'i', 'doubt', 'it', 's', 'softer', 'than', 'hay', 'i', 'hate', 'to', 'be', 'the', 'voice', 'of', 'doom', 'but', 'i', 've', 'been', 'calculating', 'i', 'don', 't', 'think', 'we', 're', 'built', 'for', 'flying', 'but', 'i', 'saw', 'him', 'he', 'flew', 'in', 'over', 'that', 'fence', 'i', 'believe', 'you', 'but', 'if', 'we', 'could', 'see', 'it', 'for', 'ourselves', 'it', 'might', 'answer', 'some', 'questions', 'you', 're', 'right', 'we', 've', 'been', 'at', 'this', 'all', 'week', 'we', 're', 'getting', 'nowhere', 'if', 'his', 'wing', 'were', 'better', 'i', 'll', 'talk', 'to', 'him', 'where', 'is', 'he', 'they', 'didn', 't', 'give', 'me', 'this', 'medal', 'for', 'being', 'a', 'yank', 'nanny', 'i', 'don', 't', 'know', 'would', 'suffice', 'beware', 'of', 'that', 'one', 'young', 'ginger', 'that', 'yank', 'is', 'not', 'to', 'be', 'trusted', 'that', 'yank', 'is', 'our', 'ticket', 'out', 'of', 'here', 'and', 'the', 'pig', 'says', 'to', 'the', 'horse', 'why', 'the', 'long', 'face', 'cocktail', 'give', 'over', 'so', 'anyway', 'remember', 'those', 'flying', 'tips', 'they', 're', 'very', 'important', 'and', 'think', 'flighty', 'thoughts', 'they', 're', 'swell', 'chicks', 'look', 'what', 'babs', 'made', 'me', 'a', 'beak', 'warmer', 'isn', 't', 'that', 'cute', 'and', 'that', 'bunty', 'she', 'really', 'packs', 'a', 'pun', 'a', 'problem', 'have', 'we', 'flown', 'over', 'the', 'fence', 'not', 'quite', 'there', 's', 'a', 'problem', 'good', 'things', 'come', 'to', 'those', 'who', 'wait', 'how', 'long', 'did', 'it', 'take', 'you', 'to', 'do', 'what', 'to', 'learn', 'to', 'fly', 'apples', 'and', 'oranges', 'i', 'm', 'gifted', 'they', 're', 'not', 'you', 'can', 't', 'compare', 'the', 'two', 'these', 'things', 'take', 'time', 'which', 'we', 're', 'running', 'out', 'of', 'why', 'haven', 't', 'we', 'lifted', 'off', 'yet', 'thrust', 'i', 'went', 'over', 'my', 'calculations', 'what', 'we', 're', 'missing', 'is', 'thrust', 'i', 'didn', 't', 'get', 'a', 'word', 'of', 'that', 'thrust', 'when', 'ducks', 'and', 'geese', 'take', 'off', 'what', 'do', 'they', 'have', 'she', 'ain', 't', 'using', 'real', 'words', 'she', 'said', 'we', 'need', 'more', 'thrust', 'thrust', 'sure', 'thrust', 'and', 'flying', 'are', 'like', 'this', 'flying', 'and', 'thrust', 'will', 'you', 'excuse', 'us', 'the', 'wing', 'no', 'results', 'by', 'tomorrow', 'and', 'the', 'deal', 's', 'off', 'no', 'more', 'hiding', 'the', 'farmers', 'll', 'find', 'you', 'and', 'back', 'to', 'the', 'circus', 'fly', 'boy', 'you', 're', 'the', 'first', 'chick', 'i', 'ever', 'met', 'with', 'the', 'shell', 'still', 'on', 'sleep', 'tight', 'angel', 'face', 'the', 'rock', 's', 'on', 'the', 'case', 'what', 'what', 'a', 'beaut', 'a', 'fine', 'piece', 'of', 'work', 'if', 'i', 'do', 'say', 'so', 'myself', 'i', 'say', 'so', 'myself', 'too', 'wish', 'i', 'd', 'seen', 'it', 'we', 'slipped', 'into', 'the', 'farmer', 's', 'room', 'like', 'a', 'fish', 'and', 'we', 'like', 'a', 'fish', 'you', 'stupid', 'idiot', 'anyway', 'here', 'it', 'is', 'el', 'merchandiso', 'that', 's', 'spanish', 'what', 're', 'these', 'two', 'crooks', 'doing', 'here', 'so', 'you', 'know', 'each', 'other', 'she', 'don', 't', 'think', 'we', 're', 'valuable', 'you', 'guys', 'are', 'the', 'sneakiest', 'thieving', 'parasites', 'i', 've', 'ever', 'met', 'don', 't', 'stop', 'it', 'i', 've', 'gone', 'bright', 'red', 'so', 'how', 'about', 'the', 'eggs', 'eggs', 'you', 'promised', 'them', 'yep', 'i', 'promised', 'them', 'every', 'egg', 'i', 'lay', 'this', 'month', 'when', 'can', 'we', 'expect', 'the', 'first', 'one', 'i', 'm', 'brewing', 'one', 'up', 'now', 'i', 'll', 'keep', 'you', 'posted', 'a', 'pleasure', 'doing', 'business', 'with', 'you', 'sucker', 'what', 'you', 'lied', 'to', 'them', 'i', 'didn', 't', 'lie', 'dollface', 'i', 'just', 'omitted', 'certain', 'truths', 'i', 'll', 'give', 'them', 'what', 'i', 'promised', 'nothing', 'which', 'they', 'll', 'get', 'and', 'what', 'will', 'you', 'give', 'us', 'thrust', 'you', 'okay', 'sweetheart', 'good', 'good', 'now', 'this', 'will', 'get', 'you', 'going', 'it', 's', 'a', 'thrust', 'exercise', 'the', 'tension', 's', 'killing', 'me', 'it', 's', 'gonna', 'kill', 'her', 'release', 'come', 'on', 'flap', 'you', 'can', 'do', 'it', 'flap', 'is', 'that', 'your', 'first', 'offence', 'roll', 'call', 'i', 'haven', 't', 'laid', 'any', 'eggs', 'three', 'days', 'not', 'one', 'why', 'didn', 't', 'you', 'tell', 'us', 'i', 'was', 'so', 'busy', 'flying', 'they', 're', 'coming', 'hide', 'me', 'hide', 'yourself', 'double', 'their', 'food', 'rations', 'i', 'want', 'them', 'all', 'as', 'fat', 'as', 'this', 'one', 'all', 'of', 'my', 'life', 'flashed', 'before', 'my', 'eyes', 'it', 'was', 'really', 'boring', 'chicken', 'feed', 'my', 'favorite', 'wait', 'no', 'wait', 'babs', 'please', 'bunty', 'stop', 'it', 'wait', 'stop', 'stop', 'it', 'something', 'is', 'wrong', 'here', 'can', 't', 'you', 'see', 'that', 'strange', 'boxes', 'arrive', 'babs', 'stops', 'laying', 'but', 'she', 'isn', 't', 'taken', 'to', 'the', 'chop', 'extra', 'food', 'don', 't', 'you', 'see', 'they', 're', 'fattening', 'us', 'up', 'they', 're', 'going', 'to', 'kill', 'us', 'all', 'heavy', 'alert', 'she', 'didn', 't', 'mean', 'that', 'gals', 'do', 'you', 'mind', 'save', 'some', 'for', 'me', 'what', 'are', 'you', 'doing', 'let', 'go', 'i', 've', 'met', 'some', 'hardboiled', 'eggs', 'before', 'but', 'you', 're', 'about', 'minutes', 'meaning', 'what', 'meaning', 'lighten', 'up', 'in', 'america', 'we', 'have', 'a', 'rule', 'to', 'motivate', 'someone', 'don', 't', 'mention', 'death', 'funny', 'over', 'here', 'the', 'rule', 'is', 'always', 'tell', 'the', 'truth', 'it', 's', 'been', 'working', 'like', 'a', 'charm', 'you', 'want', 'them', 'to', 'perform', 'tell', 'them', 'what', 'they', 'want', 'to', 'hear', 'you', 'mean', 'lie', 'here', 'we', 'go', 'again', 'know', 'what', 'your', 'problem', 'is', 'you', 're', 'difficult', 'why', 'because', 'i', 'm', 'honest', 'i', 'care', 'about', 'them', 'something', 'the', 'lone', 'freeranger', 'doesn', 't', 'know', 'about', 'then', 'i', 'hope', 'you', 'never', 'care', 'about', 'me', 'i', 'never', 'will', 'good', 'fine', 'what', 's', 'all', 'this', 'here', 'she', 'is', 'ask', 'and', 'you', 'shall', 'receive', 'that', 's', 'biblical', 'that', 's', 'real', 'craftsmanship', 'solid', 'as', 'a', 'rock', 'it', 's', 'supposed', 'to', 'do', 'that', 'perfect', 'guys', 'how', 's', 'that', 'egg', 'coming', 'this', 'is', 'a', 'double', 'yolker', 'i', 'don', 't', 'see', 'what', 'it', 'has', 'to', 'do', 'with', 'you', 'will', 'we', 've', 'been', 'working', 'hard', 'let', 's', 'relax', 'and', 'shake', 'those', 'tail', 'feathers', 'look', 'at', 'him', 'nellpodging', 'around', 'like', 'a', 'good', 'heavens', 'what', 's', 'happening', 'that', 's', 'called', 'a', 'beat', 'feel', 'it', 'pulsing', 'through', 'your', 'body', 'oh', 'yes', 'who', 'd', 'have', 'guessed', 'then', 'go', 'with', 'it', 'baby', 'look', 'i', 'm', 'going', 'with', 'it', 'bunty', 'what', 's', 'got', 'into', 'you', 'same', 'thing', 'that', 's', 'got', 'into', 'you', 'just', 'go', 'with', 'the', 'flow', 'i', 'don', 't', 'recall', 'authorizing', 'a', 'hop', 'shut', 'up', 'and', 'dance', 'what', 'are', 'you', 'sobbing', 'about', 'you', 'nancy', 'little', 'moments', 'like', 'this', 'it', 's', 'what', 'makes', 'the', 'job', 'all', 'worthwhile', 'want', 'to', 'dance', 'yeah', 'all', 'right', 'did', 'you', 'see', 'that', 'i', 'flew', 'atta', 'girl', 'babsy', 'atta', 'girl', 'your', 'wing', 'it', 's', 'better', 'how', 'about', 'that', 'fantastic', 'you', 'can', 'fly', 'for', 'us', 'tomorrow', 'yeah', 'so', 'it', 'seems', 'i', 'flew', 'i', 'owe', 'you', 'an', 'apology', 'i', 'didn', 't', 'think', 'you', 'cared', 'but', 'after', 'all', 'this', 'well', 'it', 'seems', 'i', 'was', 'wrong', 'easy', 'miss', 'hardboiled', 'i', 'might', 'think', 'you', 're', 'turning', 'soft', 'listen', 'i', 'have', 'to', 'tell', 'you', 'something', 'no', 'you', 'd', 'better', 'wait', 'that', 's', 'champion', 'what', 'is', 'it', 'a', 'pie', 'machine', 'you', 'idiot', 'chickens', 'go', 'in', 'pies', 'come', 'out', 'what', 'kind', 'of', 'pies', 'apple', 'my', 'favorite', 'chicken', 'pies', 'you', 'lummox', 'in', 'less', 'than', 'a', 'fortnight', 'every', 'grocer', 'will', 'be', 'stocked', 'with', 'boxes', 'of', 'mrs', 'tweedy', 's', 'homemade', 'chicken', 'pies', 'just', 'mrs', 'woman', 's', 'touch', 'makes', 'the', 'public', 'feel', 'comfortable', 'oh', 'right', 'how', 'does', 'it', 'work', 'get', 'me', 'a', 'chicken', 'and', 'i', 'll', 'show', 'you', 'i', 'know', 'just', 'the', 'one', 'i', 've', 'got', 'a', 'score', 'to', 'settle', 'with', 'you', 'bloomin', 'heck', 'they', 've', 'got', 'ginger', 'we', 'mustn', 't', 'panic', 'we', 'mustn', 't', 'panic', 'quiet', 'i', 'say', 'let', 's', 'have', 'some', 'discipline', 'the', 'enemy', 'has', 'a', 'prisoner', 'this', 'calls', 'for', 'retaliation', 'retaliation', 'what', 's', 'going', 'on', 'they', 'got', 'ginger', 'they', 're', 'taking', 'her', 'to', 'the', 'chop', 'what', 'are', 'you', 'waiting', 'for', 'laddie', 'fly', 'over', 'there', 'save', 'her', 'of', 'course', 'no', 'just', 'what', 'they', 'd', 'expect', 'give', 'them', 'the', 'old', 'element', 'of', 'surprise', 'and', 'catch', 'jerry', 'with', 'his', 'trousers', 'down', 'i', 'like', 'that', 'what', 's', 'the', 'plan', 'the', 'plan', 'the', 'plan', 'babs', 'give', 'me', 'that', 'thing', 'bunty', 'give', 'me', 'a', 'boost', 'look', 'at', 'the', 'size', 'of', 'that', 'thing', 'oh', 'no', 'chickens', 'go', 'in', 'pies', 'come', 'out', 'chicken', 'pies', 'not', 'apple', 'pies', 'chicken', 'great', 'brilliant', 'yo', 'baby', 'doll', 'i', 'm', 'coming', 'hurry', 'i', 'm', 'still', 'coming', 'come', 'on', 'stop', 'this', 'thing', 'i', 'm', 'getting', 'there', 'shoot', 'i', 'll', 'be', 'down', 'before', 'you', 'can', 'say', 'mixed', 'vegetables', 'd', 'oh', 'get', 'it', 'dough', 'i', 'm', 'stuck', 'nothing', 'to', 'it', 'hang', 'on', 'look', 'out', 'it', 's', 'like', 'an', 'oven', 'in', 'here', 'come', 'on', 'wait', 'go', 'over', 'to', 'the', 'the', 'door', 'come', 'on', 'she', 's', 'gonna', 'blow', 'run', 'what', 'did', 'you', 'do', 'you', 'great', 'pudding', 'nothing', 'turn', 'it', 'off', 'it', 'won', 't', 'turn', 'off', 'we', 've', 'got', 'to', 'show', 'the', 'others', 'come', 'on', 'look', 'i', 'fixed', 'it', 'chicken', 'pies', 'yes', 'but', 'i', 'don', 't', 'want', 'to', 'be', 'a', 'pie', 'i', 'don', 't', 'like', 'gravy', 'ladies', 'let', 's', 'not', 'lose', 'our', 'heads', 'lose', 'our', 'heads', 'what', 'i', 'meant', 'was', 'rocky', 'sabotaged', 'the', 'machine', 'and', 'bought', 'us', 'more', 'time', 'and', 'better', 'still', 'he', 's', 'going', 'to', 'fly', 'for', 'us', 'tomorrow', 'once', 'we', 'see', 'how', 'i', 'know', 'we', 'll', 'get', 'it', 'so', 'don', 't', 'worry', 'tomorrow', 'everything', 'is', 'going', 'to', 'go', 'much', 'smoother', 'alright', 'pops', 'what', 'did', 'i', 'do', 'now', 'a', 'very', 'brave', 'and', 'honorable', 'deed', 'in', 'the', 'light', 'of', 'your', 'action', 'today', 'i', 'dutifully', 'admit', 'that', 'i', 'misjudged', 'your', 'character', 'i', 'present', 'you', 'with', 'this', 'medal', 'for', 'bravery', 'and', 'i', 'salute', 'you', 'in', 'honor', 'of', 'this', 'occasion', 'i', 'surrender', 'the', 'bunk', 'entirely', 'i', 'shall', 'sleep', 'under', 'the', 'stars', 'i', 'await', 'tomorrow', 's', 'flying', 'demonstration', 'with', 'great', 'anticipation', 'you', 'and', 'me', 'both', 'pops', 'oh', 'were', 'you', 'is', 'this', 'your', 'since', 'you', 're', 'here', 'i', 'm', 'glad', 'you', 're', 'here', 'you', 'go', 'first', 'you', 'go', 'ahead', 'i', 'just', 'wanted', 'to', 'say', 'i', 'may', 'have', 'been', 'a', 'bit', 'harsh', 'at', 'first', 'what', 'i', 'really', 'mean', 'is', 'thank', 'you', 'for', 'saving', 'my', 'life', 'for', 'saving', 'our', 'lives', 'you', 'know', 'i', 'come', 'up', 'here', 'every', 'night', 'and', 'look', 'at', 'that', 'hill', 'imagining', 'what', 'it', 's', 'like', 'on', 'the', 'other', 'side', 'it', 's', 'funny', 'i', 've', 'never', 'actually', 'felt', 'grass', 'beneath', 'my', 'feet', 'i', 'm', 'sorry', 'i', 'm', 'rambling', 'on', 'about', 'grass', 'and', 'you', 'had', 'something', 'to', 'say', 'it', 's', 'just', 'that', 'life', 'as', 'i', 've', 'experienced', 'it', 'out', 'there', 'lone', 'freeranging', 'and', 'stuff', 'it', 's', 'full', 'of', 'disappointments', 'so', 'grass', 'isn', 't', 'all', 'it', 's', 'cracked', 'up', 'to', 'be', 'grass', 'exactly', 'it', 's', 'always', 'greener', 'on', 'the', 'other', 'side', 'and', 'then', 'you', 'get', 'there', 'and', 'it', 's', 'brown', 'and', 'prickly', 'see', 'what', 'i', 'm', 'saying', 'what', 'i', 'm', 'trying', 'to', 'say', 'is', 'you', 're', 'welcome', 'you', 'know', 'that', 'hill', 'is', 'looking', 'closer', 'tonight', 'than', 'it', 'ever', 'has', 'before', 'good', 'night', 'rocky', 'good', 'night', 'ginger', 'company', 'attention', 'today', 's', 'the', 'day', 'girls', 'we', 're', 'going', 'to', 'fly', 'i', 'can', 'feel', 'it', 'finally', 'we', 'get', 'to', 'see', 'a', 'professional', 'in', 'action', 'start', 'warming', 'up', 'i', 'll', 'go', 'get', 'him', 'rocky', 'knock', 'knock', 'everyone', 's', 'waiting', 'so', 'i', 'told', 'them', 'a', 'cannon', 'that', 'd', 'give', 'you', 'a', 'thrust', 'i', 'knew', 'he', 'was', 'fake', 'all', 'along', 'in', 'fact', 'i', 'm', 'not', 'even', 'sure', 'if', 'he', 'was', 'american', 'what', 's', 'the', 'next', 'plan', 'face', 'it', 'the', 'only', 'way', 'we', 'get', 'out', 'is', 'wrapped', 'in', 'pastry', 'perhaps', 'he', 'just', 'went', 'on', 'holiday', 'perhaps', 'he', 'left', 'to', 'get', 'away', 'from', 'your', 'infernal', 'knitting', 'you', 'always', 'hit', 'him', 'see', 'how', 'you', 'like', 'it', 'don', 't', 'push', 'me', 'foureyes', 'quiet', 'quiet', 'i', 'say', 'dissention', 'in', 'the', 'ranks', 'just', 'what', 'jerry', 'wants', 'the', 'old', 'divide', 'and', 'conquer', 'a', 'proper', 'squadron', 'work', 'together', 'just', 'like', 'we', 'did', 'in', 'my', 'raf', 'days', 'jocko', 'at', 'the', 'stick', 'flappy', 'at', 'the', 'map', 'and', 'whizzbang', 'at', 'the', 'tailend', 'charlie', 'wingco', 'would', 'give', 'the', 'call', 'hop', 'in', 'the', 'old', 'crate', 'chocks', 'away', 'that', 's', 'how', 'you', 'get', 'medals', 'will', 'you', 'shut', 'up', 'about', 'your', 'stupid', 'bloomin', 'medals', 'how', 'dare', 'you', 'forgive', 'me', 'as', 'an', 'officer', 'everyone', 'shut', 'up', 'what', 'exactly', 'is', 'the', 'raf', 'what', 'do', 'you', 'mean', 'the', 'royal', 'air', 'force', 'is', 'what', 'then', 'what', 's', 'the', 'old', 'crate', 'there', 'she', 'is', 'gorgeous', 'isn', 't', 'she', 'you', 'mean', 'you', 'flew', 'in', 'one', 'of', 'these', 'beautifully', 'built', 'in', 'fact', 'there', 's', 'a', 'bit', 'of', 'a', 'story', 'there', 'we', 'were', 'on', 'a', 'reconnaissance', 'flight', 'when', 'the', 'weather', 'duffed', 'up', 'yes', 'of', 'course', 'we', 'may', 'be', 'able', 'to', 'pull', 'this', 'off', 'we', 're', 'still', 'flying', 'out', 'of', 'here', 'fowler', 's', 'provided', 'the', 'answer', 'i', 'have', 'oh', 'yes', 'of', 'course', 'i', 'have', 'how', 'have', 'i', 'we', 'll', 'make', 'a', 'crate', 'mac', 'you', 'll', 'handle', 'engineering', 'babs', 'manufacturing', 'fowler', 'is', 'chief', 'aviation', 'adviser', 'bunty', 'eggs', 'eggs', 'right', 'like', 'the', 'ones', 'the', 'rooster', 'was', 'going', 'to', 'lay', 'only', 'roosters', 'don', 't', 'lay', 'eggs', 'do', 'they', 'don', 't', 'they', 'it', 's', 'a', 'lady', 'thing', 'apparently', 'ask', 'your', 'mum', 'one', 'egg', 'per', 'item', 'on', 'the', 'list', 'first', 'payment', 'in', 'advance', 'right', 'when', 'do', 'we', 'start', 'what', 'the', 'dickens', 'oh', 'gnomes', 'now', 'eggs', 'from', 'heaven', 'no', 'from', 'her', 'bum', 'idiot', 'that', 'was', 'close', 'too', 'close', 'we', 'can', 't', 'stop', 'now', 'everyone', 'go', 'for', 'it', 'go', 'go', 'mac', 'we', 'need', 'the', 'calculations', 'quick', 'agnes', 'that', 'has', 'to', 'be', 'really', 'secure', 'careful', 'up', 'there', 'fowler', 'bunty', 'give', 'him', 'a', 'hand', 'well', 'done', 'babs', 'keep', 'it', 'up', 'no', 'problem', 'dollface', 'ah', 'boy', 'come', 'on', 'please', 'oh', 'no', 'he', 's', 'fixed', 'it', 'get', 'the', 'chickens', 'which', 'ones', 'all', 'of', 'them', 'my', 'tools', 'thieving', 'little', 'buggers', 'what', 's', 'the', 'plan', 'attack', 'nice', 'plan', 'the', 'chickens', 'are', 'revolting', 'finally', 'something', 'we', 'agree', 'on', 'help', 'under', 'the', 'hut', 'what', 'have', 'we', 'done', 'this', 'is', 'it', 'we', 're', 'escaping', 'what', 'now', 'now', 'but', 'she', 's', 'not', 'ready', 'listen', 'we', 'either', 'die', 'free', 'chickens', 'or', 'die', 'trying', 'are', 'those', 'the', 'only', 'choices', 'let', 's', 'do', 'it', 'scramble', 'the', 'exits', 'are', 'located', 'here', 'and', 'here', 'in', 'the', 'likely', 'event', 'of', 'an', 'emergency', 'put', 'your', 'head', 'between', 'your', 'knees', 'and', 'kiss', 'your', 'bum', 'goodbye', 'okay', 'fowler', 'ready', 'for', 'takeoff', 'behind', 'you', 'all', 'the', 'way', 'you', 're', 'supposed', 'to', 'be', 'up', 'there', 'you', 're', 'the', 'pilot', 'don', 't', 'be', 'ridiculous', 'i', 'can', 't', 'fly', 'this', 'contraption', 'but', 'back', 'in', 'your', 'day', 'the', 'royal', 'air', 'force', 'squadron', 'poultry', 'division', 'we', 'were', 'the', 'mascots', 'you', 'mean', 'you', 'never', 'flew', 'the', 'plane', 'good', 'heavens', 'no', 'i', 'm', 'a', 'chicken', 'the', 'royal', 'air', 'force', 'doesn', 't', 'let', 'chickens', 'fly', 'a', 'complex', 'aircraft', 'we', 're', 'all', 'gonna', 'die', 'fowler', 'you', 'have', 'to', 'fly', 'it', 'you', 'always', 'talk', 'about', 'back', 'in', 'your', 'day', 'well', 'today', 'is', 'your', 'day', 'you', 'can', 'do', 'it', 'you', 'old', 'sausage', 'wing', 'commander', 't', 'l', 'fowler', 'reporting', 'for', 'duty', 'what', 're', 'you', 'waiting', 'for', 'let', 's', 'get', 'this', 'crate', 'off', 'the', 'ground', 'fowler', 'now', 'roger', 'contact', 'cleared', 'for', 'takeoff', 'chocks', 'away', 'full', 'throttle', 'we', 'need', 'more', 'power', 'i', 'can', 't', 'work', 'miracles', 'we', 're', 'givin', 'her', 'all', 'she', 's', 'got', 'gotcha', 'hard', 'right', 'oh', 'mother', 'turn', 'her', 'around', 'i', 'll', 'get', 'the', 'ramp', 'put', 'the', 'ramp', 'down', 'you', 'are', 'going', 'to', 'be', 'a', 'pie', 'look', 'out', 'clear', 'the', 'runway', 'let', 's', 'go', 'we', 're', 'flying', 'that', 's', 'for', 'leaving', 'and', 'this', 'is', 'for', 'coming', 'back', 'great', 'scott', 'what', 'was', 'that', 'a', 'clingon', 'the', 'engines', 'can', 't', 'take', 'it', 'my', 'goodness', 'babs', 'scissors', 'lower', 'me', 'down', 'but', 'just', 'do', 'it', 'increase', 'velocity', 'what', 's', 'that', 'mean', 'pedal', 'your', 'flippin', 'giblets', 'out', 'lower', 'i', 'm', 'trying', 'look', 'out', 'fire', 'fire', 'my', 'eggs', 'more', 'ammo', 'hurry', 'we', 'got', 'no', 'more', 'eggs', 'look', 'out', 'no', 'bombs', 'away', 'mr', 'tweedy', 'that', 'was', 'good', 'that', 'was', 'good', 'the', 'old', 'bird', 'bought', 'it', 'i', 'told', 'you', 'they', 'was', 'organized', 'we', 'did', 'it', 'everyone', 'keep', 'pedaling', 'we', 're', 'not', 'there', 'yet', 'you', 'can', 't', 'see', 'paradise', 'if', 'you', 'don', 't', 'pedal', 'put', 'your', 'drumsticks', 'into', 'it', 'that', 's', 'what', 'i', 'told', 'them', 'we', 'were', 'losing', 'altitude', 'heading', 'for', 'a', 'lovely', 'holiday', 'i', 'll', 'be', 'sad', 'to', 'go', 'back', 'safety', 'at', 'all', 'times', 'is', 'imperative', 'wind', 'her', 'up', 'and', 'let', 'her', 'go', 'so', 'is', 'it', 'as', 'good', 'as', 'you', 'imagined', 'no', 'it', 's', 'better', 'i', 'll', 'show', 'you', 'how', 'to', 'play', 'cricket', 'here', 's', 'a', 'thought', 'let', 's', 'get', 'an', 'egg', 'and', 'start', 'our', 'own', 'chicken', 'farm', 'we', 'll', 'have', 'all', 'the', 'eggs', 'we', 'can', 'eat', 'right', 'we', 'll', 'need', 'a', 'chicken', 'then', 'no', 'an', 'egg', 'first', 'that', 's', 'where', 'the', 'chicken', 'comes', 'from', 'no', 'without', 'the', 'chicken', 'where', 'do', 'you', 'get', 'the', 'egg', 'from', 'a', 'chicken', 'that', 'comes', 'from', 'the', 'egg', 'but', 'you', 'need', 'an', 'egg', 'to', 'have', 'a', 'chicken', 'you', 'got', 'to', 'get', 'the', 'chicken', 'first', 'to', 'get', 'the', 'egg', 'then', 'you', 'get', 'the', 'chicken', 'hang', 'on', 'let', 's', 'go', 'over', 'this', 'again', 'he', 'gets', 'everything', 'everything', 'you', 'said', 'it', 'mate', 'i', 'know', 'the', 'egg', 'obviously', 'rolling', 'along', 'happily', 'then', 'crack', 'it', 'hatches', 'the', 'first', 'chicken', 'but', 'where', 'd', 'the', 'egg', 'come', 'from', 'what', 'do', 'you', 'mean', 'egg', 'comes', 'rolling', 'along', 'happily', 'and', 'wonders', 'where', 'd', 'it', 'come', 'from', 'without', 'a', 'chicken', 'no', 'eggs', 'come', 'rolling', 'along', 'without', 'an', 'egg', 'to', 'hatch', 'the', 'chicken', 'there', 'll', 'be', 'no', 'chicken', 'to', 'lay', 'the', 'first', 'egg', 'have', 'we', 'got', 'eggs', 'now', 'no', 'still', 'the', 'first', 'egg', 'what', 'about', 'the', 'first', 'chicken', 'it', 's', 'in', 'the', 'very', 'first', 'egg', 'guys', 'i', 'm', 'trying', 'to', 'enjoy', 'paradise', 'sorry', 'guv', 'won', 't', 'happen', 'again', 'thanks', 'gitface', 'pillock', 'thinks', 'he', 's', 'such', 'a', 'big', 'shot', 'cause', 'his', 'name', 's', 'on', 'a', 'poster', 'they', 're', 'all', 'the', 'same', 'the', 'rats', 'are', 'the', 'stars', 'yes', 'we', 'do', 'all', 'the', 'hard', 'work', 'and', 'he', 'gets', 'all', 'the', 'credit', ''], tags=['Aardman'])"
      ]
     },
     "execution_count": 27,
     "metadata": {},
     "output_type": "execute_result"
    }
   ],
   "source": [
    "data2[1]"
   ]
  },
  {
   "cell_type": "code",
   "execution_count": 28,
   "metadata": {},
   "outputs": [
    {
     "name": "stderr",
     "output_type": "stream",
     "text": [
      "2020-06-24 11:55:58,830 : INFO : collecting all words and their counts\n",
      "2020-06-24 11:55:58,834 : INFO : PROGRESS: at example #0, processed 0 words (0/s), 0 word types, 0 tags\n",
      "2020-06-24 11:55:59,929 : INFO : collected 51585 word types and 10 unique tags from a corpus of 433 examples and 3298744 words\n",
      "2020-06-24 11:55:59,932 : INFO : Loading a fresh vocabulary\n",
      "2020-06-24 11:56:00,102 : INFO : effective_min_count=5 retains 17501 unique words (33% of original 51585, drops 34084)\n",
      "2020-06-24 11:56:00,104 : INFO : effective_min_count=5 leaves 3242056 word corpus (98% of original 3298744, drops 56688)\n",
      "2020-06-24 11:56:00,221 : INFO : deleting the raw counts dictionary of 51585 items\n",
      "2020-06-24 11:56:00,224 : INFO : sample=0.001 downsamples 68 most-common words\n",
      "2020-06-24 11:56:00,225 : INFO : downsampling leaves estimated 2315188 word corpus (71.4% of prior 3242056)\n",
      "2020-06-24 11:56:00,321 : INFO : estimated required memory for 17501 words and 100 dimensions: 22757300 bytes\n",
      "2020-06-24 11:56:00,323 : INFO : resetting layer weights\n",
      "2020-06-24 11:56:00,716 : INFO : training model with 3 workers on 17501 vocabulary and 100 features, using sg=0 hs=0 sample=0.001 negative=5 window=10\n",
      "2020-06-24 11:56:01,722 : INFO : EPOCH 1 - PROGRESS: at 19.86% examples, 393356 words/s, in_qsize 5, out_qsize 0\n",
      "2020-06-24 11:56:02,727 : INFO : EPOCH 1 - PROGRESS: at 41.11% examples, 476138 words/s, in_qsize 4, out_qsize 1\n",
      "2020-06-24 11:56:03,728 : INFO : EPOCH 1 - PROGRESS: at 63.97% examples, 502570 words/s, in_qsize 5, out_qsize 0\n",
      "2020-06-24 11:56:04,735 : INFO : EPOCH 1 - PROGRESS: at 87.76% examples, 519065 words/s, in_qsize 5, out_qsize 0\n",
      "2020-06-24 11:56:05,124 : INFO : worker thread finished; awaiting finish of 2 more threads\n",
      "2020-06-24 11:56:05,135 : INFO : worker thread finished; awaiting finish of 1 more threads\n",
      "2020-06-24 11:56:05,142 : INFO : worker thread finished; awaiting finish of 0 more threads\n",
      "2020-06-24 11:56:05,142 : INFO : EPOCH - 1 : training on 3298744 raw words (2310693 effective words) took 4.4s, 522605 effective words/s\n",
      "2020-06-24 11:56:06,169 : INFO : EPOCH 2 - PROGRESS: at 26.56% examples, 538304 words/s, in_qsize 6, out_qsize 1\n",
      "2020-06-24 11:56:07,177 : INFO : EPOCH 2 - PROGRESS: at 48.96% examples, 553406 words/s, in_qsize 5, out_qsize 0\n",
      "2020-06-24 11:56:08,188 : INFO : EPOCH 2 - PROGRESS: at 70.21% examples, 553709 words/s, in_qsize 6, out_qsize 0\n",
      "2020-06-24 11:56:09,203 : INFO : EPOCH 2 - PROGRESS: at 95.84% examples, 555897 words/s, in_qsize 5, out_qsize 0\n",
      "2020-06-24 11:56:09,288 : INFO : worker thread finished; awaiting finish of 2 more threads\n",
      "2020-06-24 11:56:09,295 : INFO : worker thread finished; awaiting finish of 1 more threads\n",
      "2020-06-24 11:56:09,306 : INFO : worker thread finished; awaiting finish of 0 more threads\n",
      "2020-06-24 11:56:09,308 : INFO : EPOCH - 2 : training on 3298744 raw words (2310843 effective words) took 4.2s, 556086 effective words/s\n",
      "2020-06-24 11:56:10,322 : INFO : EPOCH 3 - PROGRESS: at 26.10% examples, 540577 words/s, in_qsize 5, out_qsize 0\n",
      "2020-06-24 11:56:11,336 : INFO : EPOCH 3 - PROGRESS: at 48.27% examples, 549302 words/s, in_qsize 5, out_qsize 0\n",
      "2020-06-24 11:56:12,342 : INFO : EPOCH 3 - PROGRESS: at 69.28% examples, 549487 words/s, in_qsize 5, out_qsize 0\n",
      "2020-06-24 11:56:13,361 : INFO : EPOCH 3 - PROGRESS: at 94.69% examples, 551992 words/s, in_qsize 4, out_qsize 1\n",
      "2020-06-24 11:56:13,477 : INFO : worker thread finished; awaiting finish of 2 more threads\n",
      "2020-06-24 11:56:13,489 : INFO : worker thread finished; awaiting finish of 1 more threads\n",
      "2020-06-24 11:56:13,496 : INFO : worker thread finished; awaiting finish of 0 more threads\n",
      "2020-06-24 11:56:13,499 : INFO : EPOCH - 3 : training on 3298744 raw words (2311225 effective words) took 4.2s, 552905 effective words/s\n",
      "2020-06-24 11:56:14,505 : INFO : EPOCH 4 - PROGRESS: at 26.79% examples, 555610 words/s, in_qsize 5, out_qsize 0\n",
      "2020-06-24 11:56:15,506 : INFO : EPOCH 4 - PROGRESS: at 48.96% examples, 560755 words/s, in_qsize 5, out_qsize 0\n",
      "2020-06-24 11:56:16,509 : INFO : EPOCH 4 - PROGRESS: at 70.21% examples, 559884 words/s, in_qsize 5, out_qsize 0\n",
      "2020-06-24 11:56:17,511 : INFO : EPOCH 4 - PROGRESS: at 95.15% examples, 560022 words/s, in_qsize 5, out_qsize 0\n",
      "2020-06-24 11:56:17,610 : INFO : worker thread finished; awaiting finish of 2 more threads\n",
      "2020-06-24 11:56:17,620 : INFO : worker thread finished; awaiting finish of 1 more threads\n",
      "2020-06-24 11:56:17,627 : INFO : worker thread finished; awaiting finish of 0 more threads\n",
      "2020-06-24 11:56:17,629 : INFO : EPOCH - 4 : training on 3298744 raw words (2312228 effective words) took 4.1s, 560856 effective words/s\n",
      "2020-06-24 11:56:18,657 : INFO : EPOCH 5 - PROGRESS: at 26.56% examples, 535774 words/s, in_qsize 5, out_qsize 0\n",
      "2020-06-24 11:56:19,668 : INFO : EPOCH 5 - PROGRESS: at 48.96% examples, 550887 words/s, in_qsize 6, out_qsize 0\n",
      "2020-06-24 11:56:20,670 : INFO : EPOCH 5 - PROGRESS: at 69.28% examples, 547159 words/s, in_qsize 5, out_qsize 0\n",
      "2020-06-24 11:56:21,684 : INFO : EPOCH 5 - PROGRESS: at 94.69% examples, 551615 words/s, in_qsize 5, out_qsize 0\n",
      "2020-06-24 11:56:21,800 : INFO : worker thread finished; awaiting finish of 2 more threads\n",
      "2020-06-24 11:56:21,812 : INFO : worker thread finished; awaiting finish of 1 more threads\n",
      "2020-06-24 11:56:21,819 : INFO : worker thread finished; awaiting finish of 0 more threads\n",
      "2020-06-24 11:56:21,821 : INFO : EPOCH - 5 : training on 3298744 raw words (2310942 effective words) took 4.2s, 552072 effective words/s\n",
      "2020-06-24 11:56:21,823 : INFO : training on a 16493720 raw words (11555931 effective words) took 21.1s, 547559 effective words/s\n"
     ]
    }
   ],
   "source": [
    "model2 = Doc2Vec(data2, vector_size=100, window=10, min_count=5)"
   ]
  },
  {
   "cell_type": "code",
   "execution_count": 29,
   "metadata": {},
   "outputs": [
    {
     "name": "stderr",
     "output_type": "stream",
     "text": [
      "2020-06-24 11:56:21,839 : INFO : precomputing L2-norms of doc weight vectors\n"
     ]
    },
    {
     "data": {
      "text/plain": [
       "[('Aardman', 0.3316052556037903),\n",
       " ('Paramount', 0.26302433013916016),\n",
       " ('House', 0.23951047658920288),\n",
       " ('Illumination', 0.06783521175384521),\n",
       " ('Blue', 0.020471470430493355),\n",
       " ('StudioGhibli', 0.0007071942090988159),\n",
       " ('Sony', -0.08610200881958008),\n",
       " ('Universal', -0.1622435748577118),\n",
       " ('Dreamworks', -0.20872792601585388)]"
      ]
     },
     "execution_count": 29,
     "metadata": {},
     "output_type": "execute_result"
    }
   ],
   "source": [
    "model2.docvecs.most_similar(\"Disney\")"
   ]
  },
  {
   "cell_type": "code",
   "execution_count": 30,
   "metadata": {},
   "outputs": [
    {
     "data": {
      "text/plain": [
       "[('House', 0.1695357710123062),\n",
       " ('Paramount', 0.12390746176242828),\n",
       " ('Disney', 0.0007071644067764282),\n",
       " ('Dreamworks', -0.009654659777879715),\n",
       " ('Universal', -0.01604468561708927),\n",
       " ('Aardman', -0.02597827836871147),\n",
       " ('Illumination', -0.04044732451438904),\n",
       " ('Sony', -0.09942429512739182),\n",
       " ('Blue', -0.25931429862976074)]"
      ]
     },
     "execution_count": 30,
     "metadata": {},
     "output_type": "execute_result"
    }
   ],
   "source": [
    "model2.docvecs.most_similar(\"StudioGhibli\")"
   ]
  },
  {
   "cell_type": "code",
   "execution_count": 31,
   "metadata": {},
   "outputs": [
    {
     "data": {
      "text/plain": [
       "[('Aardman', 0.3093338906764984),\n",
       " ('House', 0.2948155999183655),\n",
       " ('Paramount', 0.2934625446796417),\n",
       " ('Illumination', 0.27755120396614075),\n",
       " ('Blue', 0.20783472061157227),\n",
       " ('Dreamworks', 0.0769563689827919),\n",
       " ('Universal', 0.0769338458776474),\n",
       " ('Disney', -0.08610200881958008),\n",
       " ('StudioGhibli', -0.09942429512739182)]"
      ]
     },
     "execution_count": 31,
     "metadata": {},
     "output_type": "execute_result"
    }
   ],
   "source": [
    "model2.docvecs.most_similar(\"Sony\")"
   ]
  },
  {
   "cell_type": "code",
   "execution_count": 32,
   "metadata": {},
   "outputs": [
    {
     "data": {
      "text/plain": [
       "[('Paramount', 0.4569897949695587),\n",
       " ('Disney', 0.33160531520843506),\n",
       " ('House', 0.33130139112472534),\n",
       " ('Sony', 0.3093339502811432),\n",
       " ('Dreamworks', 0.26497238874435425),\n",
       " ('Illumination', 0.2292230874300003),\n",
       " ('Blue', 0.05695439875125885),\n",
       " ('StudioGhibli', -0.02597827836871147),\n",
       " ('Universal', -0.15552151203155518)]"
      ]
     },
     "execution_count": 32,
     "metadata": {},
     "output_type": "execute_result"
    }
   ],
   "source": [
    "model2.docvecs.most_similar(\"Aardman\")"
   ]
  },
  {
   "cell_type": "code",
   "execution_count": 33,
   "metadata": {},
   "outputs": [
    {
     "data": {
      "text/html": [
       "<div>\n",
       "<style scoped>\n",
       "    .dataframe tbody tr th:only-of-type {\n",
       "        vertical-align: middle;\n",
       "    }\n",
       "\n",
       "    .dataframe tbody tr th {\n",
       "        vertical-align: top;\n",
       "    }\n",
       "\n",
       "    .dataframe thead th {\n",
       "        text-align: right;\n",
       "    }\n",
       "</style>\n",
       "<table border=\"1\" class=\"dataframe\">\n",
       "  <thead>\n",
       "    <tr style=\"text-align: right;\">\n",
       "      <th></th>\n",
       "      <th>Title</th>\n",
       "      <th>House</th>\n",
       "      <th>Decade</th>\n",
       "      <th>Year</th>\n",
       "      <th>Category</th>\n",
       "      <th>Text</th>\n",
       "    </tr>\n",
       "  </thead>\n",
       "  <tbody>\n",
       "    <tr>\n",
       "      <td>0</td>\n",
       "      <td>Chicken Run</td>\n",
       "      <td>Aardman</td>\n",
       "      <td>2000</td>\n",
       "      <td>2000</td>\n",
       "      <td>Animation</td>\n",
       "      <td>I'm stuck. Get back! Mr. Tweedy! What is that ...</td>\n",
       "    </tr>\n",
       "    <tr>\n",
       "      <td>1</td>\n",
       "      <td>Flushed Away</td>\n",
       "      <td>Aardman</td>\n",
       "      <td>2000</td>\n",
       "      <td>2006</td>\n",
       "      <td>Animation</td>\n",
       "      <td>Car's here! It's 9:00! We'll miss our flight! ...</td>\n",
       "    </tr>\n",
       "    <tr>\n",
       "      <td>2</td>\n",
       "      <td>Wallace And Gromit In The Curse Of The Were-Ra...</td>\n",
       "      <td>Aardman</td>\n",
       "      <td>2000</td>\n",
       "      <td>2005</td>\n",
       "      <td>Animation</td>\n",
       "      <td>Cracking job, Gromit. Hang on, old chum. What'...</td>\n",
       "    </tr>\n",
       "    <tr>\n",
       "      <td>3</td>\n",
       "      <td>Arthur Christmas</td>\n",
       "      <td>Aardman</td>\n",
       "      <td>2010</td>\n",
       "      <td>2011</td>\n",
       "      <td>Animation</td>\n",
       "      <td>Dear Santa, are you real? If you live at the N...</td>\n",
       "    </tr>\n",
       "    <tr>\n",
       "      <td>4</td>\n",
       "      <td>Early Man</td>\n",
       "      <td>Aardman</td>\n",
       "      <td>2010</td>\n",
       "      <td>2018</td>\n",
       "      <td>Animation</td>\n",
       "      <td>Huh? Oh! Ooh! Nearly there, Hognob. Nearly the...</td>\n",
       "    </tr>\n",
       "  </tbody>\n",
       "</table>\n",
       "</div>"
      ],
      "text/plain": [
       "                                               Title    House  Decade  Year  \\\n",
       "0                                        Chicken Run  Aardman    2000  2000   \n",
       "1                                       Flushed Away  Aardman    2000  2006   \n",
       "2  Wallace And Gromit In The Curse Of The Were-Ra...  Aardman    2000  2005   \n",
       "3                                   Arthur Christmas  Aardman    2010  2011   \n",
       "4                                          Early Man  Aardman    2010  2018   \n",
       "\n",
       "    Category                                               Text  \n",
       "0  Animation  I'm stuck. Get back! Mr. Tweedy! What is that ...  \n",
       "1  Animation  Car's here! It's 9:00! We'll miss our flight! ...  \n",
       "2  Animation  Cracking job, Gromit. Hang on, old chum. What'...  \n",
       "3  Animation  Dear Santa, are you real? If you live at the N...  \n",
       "4  Animation  Huh? Oh! Ooh! Nearly there, Hognob. Nearly the...  "
      ]
     },
     "execution_count": 33,
     "metadata": {},
     "output_type": "execute_result"
    }
   ],
   "source": [
    "df.head()"
   ]
  },
  {
   "cell_type": "code",
   "execution_count": 34,
   "metadata": {},
   "outputs": [],
   "source": [
    "df_disney_animation=df[(df['House']=='Disney') & (df['Category']=='Animation')]"
   ]
  },
  {
   "cell_type": "code",
   "execution_count": 35,
   "metadata": {},
   "outputs": [],
   "source": [
    "df_disney_animation.to_csv('disney_anim.csv', index=False)"
   ]
  },
  {
   "cell_type": "code",
   "execution_count": 36,
   "metadata": {},
   "outputs": [],
   "source": [
    "input_file='disney_anim.csv'"
   ]
  },
  {
   "cell_type": "code",
   "execution_count": 37,
   "metadata": {},
   "outputs": [],
   "source": [
    "data3=[]\n",
    "with open(input_file, encoding='utf-8', newline='') as handle:\n",
    "    reader = csv.reader(handle)\n",
    "    for row in reader:\n",
    "        data3.append(TaggedDocument(re.split('[\\W\\d_]+',row[5].lower()),[row[0]]))"
   ]
  },
  {
   "cell_type": "code",
   "execution_count": 38,
   "metadata": {},
   "outputs": [
    {
     "name": "stderr",
     "output_type": "stream",
     "text": [
      "2020-06-24 11:56:24,427 : INFO : collecting all words and their counts\n",
      "2020-06-24 11:56:24,431 : INFO : PROGRESS: at example #0, processed 0 words (0/s), 0 word types, 0 tags\n",
      "2020-06-24 11:56:24,639 : INFO : collected 21961 word types and 88 unique tags from a corpus of 89 examples and 630092 words\n",
      "2020-06-24 11:56:24,641 : INFO : Loading a fresh vocabulary\n",
      "2020-06-24 11:56:24,695 : INFO : effective_min_count=5 retains 6191 unique words (28% of original 21961, drops 15770)\n",
      "2020-06-24 11:56:24,696 : INFO : effective_min_count=5 leaves 604839 word corpus (95% of original 630092, drops 25253)\n",
      "2020-06-24 11:56:24,736 : INFO : deleting the raw counts dictionary of 21961 items\n",
      "2020-06-24 11:56:24,739 : INFO : sample=0.001 downsamples 67 most-common words\n",
      "2020-06-24 11:56:24,742 : INFO : downsampling leaves estimated 426626 word corpus (70.5% of prior 604839)\n",
      "2020-06-24 11:56:24,774 : INFO : estimated required memory for 6191 words and 100 dimensions: 8101100 bytes\n",
      "2020-06-24 11:56:24,776 : INFO : resetting layer weights\n",
      "2020-06-24 11:56:24,931 : INFO : training model with 3 workers on 6191 vocabulary and 100 features, using sg=0 hs=0 sample=0.001 negative=5 window=10\n",
      "2020-06-24 11:56:25,649 : INFO : worker thread finished; awaiting finish of 2 more threads\n",
      "2020-06-24 11:56:25,658 : INFO : worker thread finished; awaiting finish of 1 more threads\n",
      "2020-06-24 11:56:25,679 : INFO : worker thread finished; awaiting finish of 0 more threads\n",
      "2020-06-24 11:56:25,681 : INFO : EPOCH - 1 : training on 630092 raw words (426534 effective words) took 0.7s, 572123 effective words/s\n",
      "2020-06-24 11:56:26,441 : INFO : worker thread finished; awaiting finish of 2 more threads\n",
      "2020-06-24 11:56:26,452 : INFO : worker thread finished; awaiting finish of 1 more threads\n",
      "2020-06-24 11:56:26,470 : INFO : worker thread finished; awaiting finish of 0 more threads\n",
      "2020-06-24 11:56:26,471 : INFO : EPOCH - 2 : training on 630092 raw words (427001 effective words) took 0.8s, 544393 effective words/s\n",
      "2020-06-24 11:56:27,184 : INFO : worker thread finished; awaiting finish of 2 more threads\n",
      "2020-06-24 11:56:27,198 : INFO : worker thread finished; awaiting finish of 1 more threads\n",
      "2020-06-24 11:56:27,218 : INFO : worker thread finished; awaiting finish of 0 more threads\n",
      "2020-06-24 11:56:27,220 : INFO : EPOCH - 3 : training on 630092 raw words (426606 effective words) took 0.7s, 573535 effective words/s\n",
      "2020-06-24 11:56:27,977 : INFO : worker thread finished; awaiting finish of 2 more threads\n",
      "2020-06-24 11:56:27,989 : INFO : worker thread finished; awaiting finish of 1 more threads\n",
      "2020-06-24 11:56:28,022 : INFO : worker thread finished; awaiting finish of 0 more threads\n",
      "2020-06-24 11:56:28,024 : INFO : EPOCH - 4 : training on 630092 raw words (427100 effective words) took 0.8s, 535639 effective words/s\n",
      "2020-06-24 11:56:28,790 : INFO : worker thread finished; awaiting finish of 2 more threads\n",
      "2020-06-24 11:56:28,799 : INFO : worker thread finished; awaiting finish of 1 more threads\n",
      "2020-06-24 11:56:28,819 : INFO : worker thread finished; awaiting finish of 0 more threads\n",
      "2020-06-24 11:56:28,821 : INFO : EPOCH - 5 : training on 630092 raw words (426384 effective words) took 0.8s, 542618 effective words/s\n",
      "2020-06-24 11:56:28,823 : INFO : training on a 3150460 raw words (2133625 effective words) took 3.9s, 548405 effective words/s\n"
     ]
    }
   ],
   "source": [
    "model3 = Doc2Vec(data3, vector_size=100, window=10, min_count=5)"
   ]
  },
  {
   "cell_type": "code",
   "execution_count": 39,
   "metadata": {},
   "outputs": [
    {
     "name": "stderr",
     "output_type": "stream",
     "text": [
      "2020-06-24 11:56:28,838 : INFO : precomputing L2-norms of doc weight vectors\n"
     ]
    },
    {
     "data": {
      "text/plain": [
       "[('Beauty and the Beast', 0.8991539478302002),\n",
       " ('Sleeping Beauty', 0.8846614956855774),\n",
       " ('Brave', 0.871860146522522),\n",
       " ('Coco', 0.8648014068603516),\n",
       " ('The Little Mermaid', 0.8416557312011719),\n",
       " ('Cinderella', 0.841273844242096),\n",
       " ('A Christmas Carol', 0.8400403261184692),\n",
       " ('Meet the Robinsons', 0.8385934829711914),\n",
       " ('The Great Mouse Detective', 0.8348813652992249),\n",
       " ('Alice in Wonderland', 0.834689736366272)]"
      ]
     },
     "execution_count": 39,
     "metadata": {},
     "output_type": "execute_result"
    }
   ],
   "source": [
    "model3.docvecs.most_similar(\"Tangled\")"
   ]
  },
  {
   "cell_type": "code",
   "execution_count": 40,
   "metadata": {},
   "outputs": [
    {
     "data": {
      "text/plain": [
       "[('Brave', 0.9564995169639587),\n",
       " ('The Hunchback of Notre Dame', 0.9433904886245728),\n",
       " ('Frozen 2', 0.926060676574707),\n",
       " ('The Great Mouse Detective', 0.9150007963180542),\n",
       " ('The Little Mermaid', 0.9124383330345154),\n",
       " ('Snow White and the Seven Dwarfs', 0.9031122922897339),\n",
       " ('Alice in Wonderland', 0.9018012285232544),\n",
       " ('A Christmas Carol', 0.9001595377922058),\n",
       " ('Cinderella', 0.8947325348854065),\n",
       " ('Beauty and the Beast', 0.8868399858474731)]"
      ]
     },
     "execution_count": 40,
     "metadata": {},
     "output_type": "execute_result"
    }
   ],
   "source": [
    "model3.docvecs.most_similar(\"Sleeping Beauty\")"
   ]
  },
  {
   "cell_type": "code",
   "execution_count": 41,
   "metadata": {},
   "outputs": [
    {
     "data": {
      "text/plain": [
       "[('Sleeping Beauty', 0.9124383330345154),\n",
       " ('Lilo And Stitch', 0.8993587493896484),\n",
       " ('Beauty and the Beast', 0.8945307731628418),\n",
       " ('Frozen', 0.892398476600647),\n",
       " ('Brave', 0.8908153176307678),\n",
       " ('The Hunchback of Notre Dame', 0.890398383140564),\n",
       " ('The Princess And The Frog', 0.8889139890670776),\n",
       " ('Frozen 2', 0.8694891929626465),\n",
       " ('Bambi', 0.8623758554458618),\n",
       " ('Cinderella', 0.8601266145706177)]"
      ]
     },
     "execution_count": 41,
     "metadata": {},
     "output_type": "execute_result"
    }
   ],
   "source": [
    "model3.docvecs.most_similar(\"The Little Mermaid\")"
   ]
  },
  {
   "cell_type": "code",
   "execution_count": 42,
   "metadata": {},
   "outputs": [
    {
     "data": {
      "text/plain": [
       "[('Brave', 0.8660351634025574),\n",
       " ('Tangled', 0.8648014068603516),\n",
       " ('A Christmas Carol', 0.8427873253822327),\n",
       " ('Beauty and the Beast', 0.8297204971313477),\n",
       " ('Sleeping Beauty', 0.828795313835144),\n",
       " ('Aladdin', 0.8225412964820862),\n",
       " ('Snow White and the Seven Dwarfs', 0.8124181628227234),\n",
       " ('Alice in Wonderland', 0.806515097618103),\n",
       " ('The Hunchback of Notre Dame', 0.8038098812103271),\n",
       " ('Arjun The Warrior Prince', 0.7977551817893982)]"
      ]
     },
     "execution_count": 42,
     "metadata": {},
     "output_type": "execute_result"
    }
   ],
   "source": [
    "model3.docvecs.most_similar(\"Coco\")"
   ]
  },
  {
   "cell_type": "code",
   "execution_count": null,
   "metadata": {},
   "outputs": [],
   "source": []
  },
  {
   "cell_type": "code",
   "execution_count": null,
   "metadata": {},
   "outputs": [],
   "source": []
  },
  {
   "cell_type": "code",
   "execution_count": null,
   "metadata": {},
   "outputs": [],
   "source": []
  },
  {
   "cell_type": "code",
   "execution_count": null,
   "metadata": {},
   "outputs": [],
   "source": []
  },
  {
   "cell_type": "code",
   "execution_count": null,
   "metadata": {},
   "outputs": [],
   "source": []
  },
  {
   "cell_type": "code",
   "execution_count": null,
   "metadata": {},
   "outputs": [],
   "source": []
  },
  {
   "cell_type": "code",
   "execution_count": 43,
   "metadata": {},
   "outputs": [
    {
     "name": "stderr",
     "output_type": "stream",
     "text": [
      "2020-06-24 11:56:29,737 : INFO : precomputing L2-norms of word weight vectors\n"
     ]
    },
    {
     "data": {
      "text/plain": [
       "[('bar', 0.925370454788208),\n",
       " ('american', 0.9160100817680359),\n",
       " ('park', 0.9105141162872314),\n",
       " ('bought', 0.9104683995246887),\n",
       " ('leading', 0.8956288695335388),\n",
       " ('low', 0.8916235566139221),\n",
       " ('system', 0.8898820877075195),\n",
       " ('toilet', 0.8891275525093079),\n",
       " ('swings', 0.8877073526382446),\n",
       " ('hahahaha', 0.8857965469360352)]"
      ]
     },
     "execution_count": 43,
     "metadata": {},
     "output_type": "execute_result"
    }
   ],
   "source": [
    "model3.wv.most_similar(['car'])"
   ]
  },
  {
   "cell_type": "code",
   "execution_count": 44,
   "metadata": {},
   "outputs": [
    {
     "data": {
      "text/plain": [
       "[('genius', 0.8936283588409424),\n",
       " ('car', 0.8702848553657532),\n",
       " ('fox', 0.8613835573196411),\n",
       " ('grub', 0.8602421283721924),\n",
       " ('trash', 0.857784628868103),\n",
       " ('bought', 0.8492828011512756),\n",
       " ('thanking', 0.844204843044281),\n",
       " ('yep', 0.8425757884979248),\n",
       " ('rhino', 0.8425178527832031),\n",
       " ('cool', 0.839655876159668)]"
      ]
     },
     "execution_count": 44,
     "metadata": {},
     "output_type": "execute_result"
    }
   ],
   "source": [
    "model3.wv.most_similar(['cat'])"
   ]
  },
  {
   "cell_type": "code",
   "execution_count": 45,
   "metadata": {},
   "outputs": [
    {
     "data": {
      "text/plain": [
       "[('monsters', 0.9245027899742126),\n",
       " ('kittens', 0.8989259004592896),\n",
       " ('grasshoppers', 0.8967615962028503),\n",
       " ('celebrating', 0.893202543258667),\n",
       " ('cable', 0.8918483257293701),\n",
       " ('rolly', 0.8860859274864197),\n",
       " ('horace', 0.8837001323699951),\n",
       " ('puppies', 0.8820663690567017),\n",
       " ('jasper', 0.8810243010520935),\n",
       " ('stripes', 0.8786396980285645)]"
      ]
     },
     "execution_count": 45,
     "metadata": {},
     "output_type": "execute_result"
    }
   ],
   "source": [
    "model3.wv.most_similar(['fish'])"
   ]
  },
  {
   "cell_type": "code",
   "execution_count": 46,
   "metadata": {},
   "outputs": [
    {
     "data": {
      "text/plain": [
       "[('Brave', 0.8660351634025574),\n",
       " ('Tangled', 0.8648014068603516),\n",
       " ('A Christmas Carol', 0.8427873253822327),\n",
       " ('Beauty and the Beast', 0.8297204971313477),\n",
       " ('Sleeping Beauty', 0.828795313835144),\n",
       " ('Aladdin', 0.8225412964820862),\n",
       " ('Snow White and the Seven Dwarfs', 0.8124181628227234),\n",
       " ('Alice in Wonderland', 0.806515097618103),\n",
       " ('The Hunchback of Notre Dame', 0.8038098812103271),\n",
       " ('Arjun The Warrior Prince', 0.7977551817893982)]"
      ]
     },
     "execution_count": 46,
     "metadata": {},
     "output_type": "execute_result"
    }
   ],
   "source": [
    "model3.docvecs.most_similar(\"Coco\")"
   ]
  },
  {
   "cell_type": "code",
   "execution_count": null,
   "metadata": {},
   "outputs": [],
   "source": []
  },
  {
   "cell_type": "code",
   "execution_count": null,
   "metadata": {},
   "outputs": [],
   "source": []
  },
  {
   "cell_type": "code",
   "execution_count": null,
   "metadata": {},
   "outputs": [],
   "source": []
  },
  {
   "cell_type": "code",
   "execution_count": null,
   "metadata": {},
   "outputs": [],
   "source": []
  },
  {
   "cell_type": "code",
   "execution_count": null,
   "metadata": {},
   "outputs": [],
   "source": []
  }
 ],
 "metadata": {
  "kernelspec": {
   "display_name": "Python 3",
   "language": "python",
   "name": "python3"
  },
  "language_info": {
   "codemirror_mode": {
    "name": "ipython",
    "version": 3
   },
   "file_extension": ".py",
   "mimetype": "text/x-python",
   "name": "python",
   "nbconvert_exporter": "python",
   "pygments_lexer": "ipython3",
   "version": "3.7.4"
  }
 },
 "nbformat": 4,
 "nbformat_minor": 2
}
