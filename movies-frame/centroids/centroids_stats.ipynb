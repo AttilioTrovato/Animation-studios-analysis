{
 "cells": [
  {
   "cell_type": "markdown",
   "metadata": {},
   "source": [
    "## Color analysis"
   ]
  },
  {
   "cell_type": "code",
   "execution_count": 1,
   "metadata": {},
   "outputs": [],
   "source": [
    "import pandas as pd"
   ]
  },
  {
   "cell_type": "code",
   "execution_count": 2,
   "metadata": {},
   "outputs": [],
   "source": [
    "cdf = pd.read_csv('frame_centroids.csv')"
   ]
  },
  {
   "cell_type": "code",
   "execution_count": 3,
   "metadata": {},
   "outputs": [
    {
     "data": {
      "text/html": [
       "<div>\n",
       "<style scoped>\n",
       "    .dataframe tbody tr th:only-of-type {\n",
       "        vertical-align: middle;\n",
       "    }\n",
       "\n",
       "    .dataframe tbody tr th {\n",
       "        vertical-align: top;\n",
       "    }\n",
       "\n",
       "    .dataframe thead th {\n",
       "        text-align: right;\n",
       "    }\n",
       "</style>\n",
       "<table border=\"1\" class=\"dataframe\">\n",
       "  <thead>\n",
       "    <tr style=\"text-align: right;\">\n",
       "      <th></th>\n",
       "      <th>movie_id</th>\n",
       "      <th>movie_title</th>\n",
       "      <th>year</th>\n",
       "      <th>frame_id</th>\n",
       "      <th>centroid_id</th>\n",
       "      <th>red</th>\n",
       "      <th>green</th>\n",
       "      <th>blue</th>\n",
       "    </tr>\n",
       "  </thead>\n",
       "  <tbody>\n",
       "    <tr>\n",
       "      <th>0</th>\n",
       "      <td>0</td>\n",
       "      <td>make_mine_music</td>\n",
       "      <td>1940</td>\n",
       "      <td>0</td>\n",
       "      <td>0</td>\n",
       "      <td>0.494841</td>\n",
       "      <td>0.333643</td>\n",
       "      <td>0.382833</td>\n",
       "    </tr>\n",
       "    <tr>\n",
       "      <th>1</th>\n",
       "      <td>0</td>\n",
       "      <td>make_mine_music</td>\n",
       "      <td>1940</td>\n",
       "      <td>0</td>\n",
       "      <td>1</td>\n",
       "      <td>0.538713</td>\n",
       "      <td>0.574225</td>\n",
       "      <td>0.639382</td>\n",
       "    </tr>\n",
       "    <tr>\n",
       "      <th>2</th>\n",
       "      <td>0</td>\n",
       "      <td>make_mine_music</td>\n",
       "      <td>1940</td>\n",
       "      <td>0</td>\n",
       "      <td>2</td>\n",
       "      <td>0.363670</td>\n",
       "      <td>0.420475</td>\n",
       "      <td>0.553765</td>\n",
       "    </tr>\n",
       "    <tr>\n",
       "      <th>3</th>\n",
       "      <td>0</td>\n",
       "      <td>make_mine_music</td>\n",
       "      <td>1940</td>\n",
       "      <td>0</td>\n",
       "      <td>3</td>\n",
       "      <td>0.244141</td>\n",
       "      <td>0.312930</td>\n",
       "      <td>0.425660</td>\n",
       "    </tr>\n",
       "    <tr>\n",
       "      <th>4</th>\n",
       "      <td>0</td>\n",
       "      <td>make_mine_music</td>\n",
       "      <td>1940</td>\n",
       "      <td>0</td>\n",
       "      <td>4</td>\n",
       "      <td>0.727626</td>\n",
       "      <td>0.745525</td>\n",
       "      <td>0.815441</td>\n",
       "    </tr>\n",
       "  </tbody>\n",
       "</table>\n",
       "</div>"
      ],
      "text/plain": [
       "   movie_id      movie_title  year  frame_id  centroid_id       red     green  \\\n",
       "0         0  make_mine_music  1940         0            0  0.494841  0.333643   \n",
       "1         0  make_mine_music  1940         0            1  0.538713  0.574225   \n",
       "2         0  make_mine_music  1940         0            2  0.363670  0.420475   \n",
       "3         0  make_mine_music  1940         0            3  0.244141  0.312930   \n",
       "4         0  make_mine_music  1940         0            4  0.727626  0.745525   \n",
       "\n",
       "       blue  \n",
       "0  0.382833  \n",
       "1  0.639382  \n",
       "2  0.553765  \n",
       "3  0.425660  \n",
       "4  0.815441  "
      ]
     },
     "execution_count": 3,
     "metadata": {},
     "output_type": "execute_result"
    }
   ],
   "source": [
    "cdf.head()"
   ]
  },
  {
   "cell_type": "code",
   "execution_count": 4,
   "metadata": {},
   "outputs": [
    {
     "data": {
      "text/plain": [
       "(150130, 8)"
      ]
     },
     "execution_count": 4,
     "metadata": {},
     "output_type": "execute_result"
    }
   ],
   "source": [
    "cdf.shape"
   ]
  },
  {
   "cell_type": "code",
   "execution_count": 5,
   "metadata": {},
   "outputs": [
    {
     "name": "stdout",
     "output_type": "stream",
     "text": [
      "Total centroids: 150130\n"
     ]
    }
   ],
   "source": [
    "print('Total centroids:', cdf.shape[0])"
   ]
  },
  {
   "cell_type": "code",
   "execution_count": 6,
   "metadata": {},
   "outputs": [
    {
     "name": "stdout",
     "output_type": "stream",
     "text": [
      "Total frames: 15013.0\n"
     ]
    }
   ],
   "source": [
    "print('Total frames:', cdf.shape[0]/10)"
   ]
  },
  {
   "cell_type": "code",
   "execution_count": 7,
   "metadata": {},
   "outputs": [
    {
     "name": "stdout",
     "output_type": "stream",
     "text": [
      "Total movies: 129\n"
     ]
    }
   ],
   "source": [
    "print('Total movies:', len(cdf['movie_id'].unique()))"
   ]
  },
  {
   "cell_type": "code",
   "execution_count": 8,
   "metadata": {},
   "outputs": [
    {
     "data": {
      "text/html": [
       "<div>\n",
       "<style scoped>\n",
       "    .dataframe tbody tr th:only-of-type {\n",
       "        vertical-align: middle;\n",
       "    }\n",
       "\n",
       "    .dataframe tbody tr th {\n",
       "        vertical-align: top;\n",
       "    }\n",
       "\n",
       "    .dataframe thead th {\n",
       "        text-align: right;\n",
       "    }\n",
       "</style>\n",
       "<table border=\"1\" class=\"dataframe\">\n",
       "  <thead>\n",
       "    <tr style=\"text-align: right;\">\n",
       "      <th></th>\n",
       "      <th>movie_id</th>\n",
       "      <th>movie_title</th>\n",
       "      <th>year</th>\n",
       "      <th>frame_id</th>\n",
       "      <th>centroid_id</th>\n",
       "      <th>rgb</th>\n",
       "    </tr>\n",
       "  </thead>\n",
       "  <tbody>\n",
       "    <tr>\n",
       "      <th>0</th>\n",
       "      <td>0</td>\n",
       "      <td>make_mine_music</td>\n",
       "      <td>1940</td>\n",
       "      <td>0</td>\n",
       "      <td>0</td>\n",
       "      <td>(0.4948409661638601, 0.3336431652742103, 0.382...</td>\n",
       "    </tr>\n",
       "    <tr>\n",
       "      <th>1</th>\n",
       "      <td>0</td>\n",
       "      <td>make_mine_music</td>\n",
       "      <td>1940</td>\n",
       "      <td>0</td>\n",
       "      <td>1</td>\n",
       "      <td>(0.5387126649529148, 0.5742250325642928, 0.639...</td>\n",
       "    </tr>\n",
       "    <tr>\n",
       "      <th>2</th>\n",
       "      <td>0</td>\n",
       "      <td>make_mine_music</td>\n",
       "      <td>1940</td>\n",
       "      <td>0</td>\n",
       "      <td>2</td>\n",
       "      <td>(0.36366959978116187, 0.4204748239497644, 0.55...</td>\n",
       "    </tr>\n",
       "    <tr>\n",
       "      <th>3</th>\n",
       "      <td>0</td>\n",
       "      <td>make_mine_music</td>\n",
       "      <td>1940</td>\n",
       "      <td>0</td>\n",
       "      <td>3</td>\n",
       "      <td>(0.2441414631891009, 0.31293046306577865, 0.42...</td>\n",
       "    </tr>\n",
       "    <tr>\n",
       "      <th>4</th>\n",
       "      <td>0</td>\n",
       "      <td>make_mine_music</td>\n",
       "      <td>1940</td>\n",
       "      <td>0</td>\n",
       "      <td>4</td>\n",
       "      <td>(0.7276261576840661, 0.7455248882923641, 0.815...</td>\n",
       "    </tr>\n",
       "  </tbody>\n",
       "</table>\n",
       "</div>"
      ],
      "text/plain": [
       "   movie_id      movie_title  year  frame_id  centroid_id  \\\n",
       "0         0  make_mine_music  1940         0            0   \n",
       "1         0  make_mine_music  1940         0            1   \n",
       "2         0  make_mine_music  1940         0            2   \n",
       "3         0  make_mine_music  1940         0            3   \n",
       "4         0  make_mine_music  1940         0            4   \n",
       "\n",
       "                                                 rgb  \n",
       "0  (0.4948409661638601, 0.3336431652742103, 0.382...  \n",
       "1  (0.5387126649529148, 0.5742250325642928, 0.639...  \n",
       "2  (0.36366959978116187, 0.4204748239497644, 0.55...  \n",
       "3  (0.2441414631891009, 0.31293046306577865, 0.42...  \n",
       "4  (0.7276261576840661, 0.7455248882923641, 0.815...  "
      ]
     },
     "execution_count": 8,
     "metadata": {},
     "output_type": "execute_result"
    }
   ],
   "source": [
    "cdf['rgb'] = [(i[-3], i[-2], i[-1]) for i in cdf.values]\n",
    "cdf.drop(columns=['red', 'green', 'blue'], axis=1, inplace=True)\n",
    "cdf.head()"
   ]
  },
  {
   "cell_type": "markdown",
   "metadata": {},
   "source": [
    "### Assign reference colors to centroid"
   ]
  },
  {
   "cell_type": "code",
   "execution_count": 9,
   "metadata": {},
   "outputs": [],
   "source": [
    "import numpy as np\n",
    "from skimage import color\n",
    "from skimage.color import rgb2lab, deltaE_cie76\n",
    "import matplotlib.colors as mcolors\n",
    "import matplotlib.pyplot as plt"
   ]
  },
  {
   "cell_type": "code",
   "execution_count": 10,
   "metadata": {},
   "outputs": [],
   "source": [
    "def to_image(pixel):\n",
    "    return [[pixel]]\n",
    "\n",
    "def to_pixel(image):\n",
    "    return image[0][0]\n",
    "\n",
    "def convert_rgb2lab(rgb_pixel):\n",
    "    return to_pixel(color.rgb2lab(to_image(rgb_pixel)))"
   ]
  },
  {
   "cell_type": "code",
   "execution_count": 22,
   "metadata": {},
   "outputs": [],
   "source": [
    "CSS_COLORS = [\n",
    "    'black',\n",
    "    'silver',\n",
    "    'gray',\n",
    "    'white',\n",
    "    'maroon',\n",
    "    'red',\n",
    "    'purple',\n",
    "    'fuchsia',\n",
    "    'green',\n",
    "    'lime',\n",
    "    'olive',\n",
    "    'yellow',\n",
    "    'navy',\n",
    "    'blue',\n",
    "    'teal',\n",
    "    'aqua'\n",
    "]\n",
    "\n",
    "CSS4_SELECTION_COLORS = [\n",
    "    'black',\n",
    "    'silver',\n",
    "    'gray',\n",
    "    'white',\n",
    "    'lightcoral',\n",
    "    'red',\n",
    "    'brown',\n",
    "    'chocolate',\n",
    "    'tan',\n",
    "    'orange',\n",
    "    'goldenrod',\n",
    "    'darkkhaki',\n",
    "    'yellow',\n",
    "    'darkseagreen',\n",
    "    'green',\n",
    "    'lime',\n",
    "    'darkslategray',\n",
    "    'darkcyan',\n",
    "    'cyan',\n",
    "    'deepskyblue',\n",
    "    'steelblue',\n",
    "    'navy',\n",
    "    'blue',\n",
    "    'darkviolet',\n",
    "    'violet',\n",
    "    'purple',\n",
    "    'magenta',\n",
    "    'deeppink',\n",
    "    'pink'   \n",
    "]"
   ]
  },
  {
   "cell_type": "code",
   "execution_count": 23,
   "metadata": {},
   "outputs": [],
   "source": [
    "CSS4_HEX_COLORS = list(mcolors.CSS4_COLORS.values())\n",
    "CSS4_RGB_COLORS = [mcolors.hex2color(c) for c in mcolors.CSS4_COLORS]\n",
    "CSS4_LAB_COLORS = [convert_rgb2lab(c) for c in CSS4_RGB_COLORS]\n",
    "\n",
    "BASE_RGB_COLORS = [[float(v) for v in c] for c in mcolors.BASE_COLORS.values()]\n",
    "BASE_LAB_COLORS = [convert_rgb2lab(c) for c in BASE_RGB_COLORS]\n",
    "\n",
    "CSS_HEX_COLORS  = [mcolors.CSS4_COLORS[c] for c in CSS_COLORS]\n",
    "CSS_RGB_COLORS  = [mcolors.hex2color(c) for c in CSS_HEX_COLORS]\n",
    "CSS_LAB_COLORS  = [convert_rgb2lab(c) for c in CSS_RGB_COLORS]\n",
    "\n",
    "CSS4_SEL_HEX_COLORS  = [mcolors.CSS4_COLORS[c] for c in CSS4_SELECTION_COLORS]\n",
    "CSS4_SEL_RGB_COLORS  = [mcolors.hex2color(c) for c in CSS4_SEL_HEX_COLORS]\n",
    "CSS4_SEL_LAB_COLORS  = [convert_rgb2lab(c) for c in CSS4_SEL_RGB_COLORS]"
   ]
  },
  {
   "cell_type": "code",
   "execution_count": 25,
   "metadata": {},
   "outputs": [],
   "source": [
    "colors = {\n",
    "    'CSS': {\n",
    "        'HEX': CSS_HEX_COLORS,\n",
    "        'RGB': CSS_RGB_COLORS,\n",
    "        'LAB': CSS_LAB_COLORS\n",
    "    },\n",
    "    'CSS4': {\n",
    "        'HEX': CSS4_HEX_COLORS,\n",
    "        'RGB': CSS4_RGB_COLORS,\n",
    "        'LAB': CSS4_LAB_COLORS\n",
    "    },\n",
    "    'CSS4_SEL': {\n",
    "        'HEX': CSS4_SEL_HEX_COLORS,\n",
    "        'RGB': CSS4_SEL_RGB_COLORS,\n",
    "        'LAB': CSS4_SEL_LAB_COLORS\n",
    "    }\n",
    "}"
   ]
  },
  {
   "cell_type": "code",
   "execution_count": 26,
   "metadata": {},
   "outputs": [],
   "source": [
    "def get_ref_color(rgb_color, ref_colors):\n",
    "    ref_lab_colors = colors[ref_colors]['LAB']\n",
    "    ref_rgb_colors = colors[ref_colors]['RGB']\n",
    "    ref_hex_colors = colors[ref_colors]['HEX']\n",
    "    \n",
    "    lab_color = convert_rgb2lab(rgb_color)\n",
    "    \n",
    "    min_distance = deltaE_cie76(lab_color, ref_lab_colors[0])\n",
    "    nearest_ref_color = 0\n",
    "\n",
    "    k = 1\n",
    "    for c in ref_lab_colors[1:]: # CSS4_LAB_COLORS[0] already processed above\n",
    "        tmp_distance = deltaE_cie76(lab_color, c)\n",
    "        if (tmp_distance < min_distance):\n",
    "            min_distance = tmp_distance\n",
    "            nearest_ref_color = k\n",
    "        k += 1\n",
    "\n",
    "    return ref_rgb_colors[nearest_ref_color], ref_hex_colors[nearest_ref_color]"
   ]
  },
  {
   "cell_type": "code",
   "execution_count": 27,
   "metadata": {},
   "outputs": [],
   "source": [
    "def add_ref_column(df, palette_id):\n",
    "    df['ref_color_rgb_hex'] = df['rgb'].apply(lambda x: get_ref_color(x, palette_id))\n",
    "    df[palette_id + '_ref_color_rgb'] = [i[0] for i in df['ref_color_rgb_hex']]\n",
    "    df[palette_id + '_ref_color_hex'] = [i[1] for i in df['ref_color_rgb_hex']]\n",
    "    df.drop(columns=['ref_color_rgb_hex'], axis=1, inplace=True)"
   ]
  },
  {
   "cell_type": "code",
   "execution_count": 28,
   "metadata": {},
   "outputs": [
    {
     "name": "stdout",
     "output_type": "stream",
     "text": [
      "CPU times: user 1min 14s, sys: 486 ms, total: 1min 14s\n",
      "Wall time: 1min 14s\n"
     ]
    },
    {
     "data": {
      "text/html": [
       "<div>\n",
       "<style scoped>\n",
       "    .dataframe tbody tr th:only-of-type {\n",
       "        vertical-align: middle;\n",
       "    }\n",
       "\n",
       "    .dataframe tbody tr th {\n",
       "        vertical-align: top;\n",
       "    }\n",
       "\n",
       "    .dataframe thead th {\n",
       "        text-align: right;\n",
       "    }\n",
       "</style>\n",
       "<table border=\"1\" class=\"dataframe\">\n",
       "  <thead>\n",
       "    <tr style=\"text-align: right;\">\n",
       "      <th></th>\n",
       "      <th>movie_id</th>\n",
       "      <th>movie_title</th>\n",
       "      <th>year</th>\n",
       "      <th>frame_id</th>\n",
       "      <th>centroid_id</th>\n",
       "      <th>rgb</th>\n",
       "      <th>CSS_ref_color_rgb</th>\n",
       "      <th>CSS_ref_color_hex</th>\n",
       "      <th>CSS4_SEL_ref_color_rgb</th>\n",
       "      <th>CSS4_SEL_ref_color_hex</th>\n",
       "    </tr>\n",
       "  </thead>\n",
       "  <tbody>\n",
       "    <tr>\n",
       "      <th>0</th>\n",
       "      <td>0</td>\n",
       "      <td>make_mine_music</td>\n",
       "      <td>1940</td>\n",
       "      <td>0</td>\n",
       "      <td>0</td>\n",
       "      <td>(0.4948409661638601, 0.3336431652742103, 0.382...</td>\n",
       "      <td>(0.5019607843137255, 0.5019607843137255, 0.501...</td>\n",
       "      <td>#808080</td>\n",
       "      <td>(0.5019607843137255, 0.5019607843137255, 0.501...</td>\n",
       "      <td>#808080</td>\n",
       "    </tr>\n",
       "    <tr>\n",
       "      <th>1</th>\n",
       "      <td>0</td>\n",
       "      <td>make_mine_music</td>\n",
       "      <td>1940</td>\n",
       "      <td>0</td>\n",
       "      <td>1</td>\n",
       "      <td>(0.5387126649529148, 0.5742250325642928, 0.639...</td>\n",
       "      <td>(0.5019607843137255, 0.5019607843137255, 0.501...</td>\n",
       "      <td>#808080</td>\n",
       "      <td>(0.5019607843137255, 0.5019607843137255, 0.501...</td>\n",
       "      <td>#808080</td>\n",
       "    </tr>\n",
       "    <tr>\n",
       "      <th>2</th>\n",
       "      <td>0</td>\n",
       "      <td>make_mine_music</td>\n",
       "      <td>1940</td>\n",
       "      <td>0</td>\n",
       "      <td>2</td>\n",
       "      <td>(0.36366959978116187, 0.4204748239497644, 0.55...</td>\n",
       "      <td>(0.5019607843137255, 0.5019607843137255, 0.501...</td>\n",
       "      <td>#808080</td>\n",
       "      <td>(0.27450980392156865, 0.5098039215686274, 0.70...</td>\n",
       "      <td>#4682B4</td>\n",
       "    </tr>\n",
       "    <tr>\n",
       "      <th>3</th>\n",
       "      <td>0</td>\n",
       "      <td>make_mine_music</td>\n",
       "      <td>1940</td>\n",
       "      <td>0</td>\n",
       "      <td>3</td>\n",
       "      <td>(0.2441414631891009, 0.31293046306577865, 0.42...</td>\n",
       "      <td>(0.5019607843137255, 0.5019607843137255, 0.501...</td>\n",
       "      <td>#808080</td>\n",
       "      <td>(0.1843137254901961, 0.30980392156862746, 0.30...</td>\n",
       "      <td>#2F4F4F</td>\n",
       "    </tr>\n",
       "    <tr>\n",
       "      <th>4</th>\n",
       "      <td>0</td>\n",
       "      <td>make_mine_music</td>\n",
       "      <td>1940</td>\n",
       "      <td>0</td>\n",
       "      <td>4</td>\n",
       "      <td>(0.7276261576840661, 0.7455248882923641, 0.815...</td>\n",
       "      <td>(0.7529411764705882, 0.7529411764705882, 0.752...</td>\n",
       "      <td>#C0C0C0</td>\n",
       "      <td>(0.7529411764705882, 0.7529411764705882, 0.752...</td>\n",
       "      <td>#C0C0C0</td>\n",
       "    </tr>\n",
       "  </tbody>\n",
       "</table>\n",
       "</div>"
      ],
      "text/plain": [
       "   movie_id      movie_title  year  frame_id  centroid_id  \\\n",
       "0         0  make_mine_music  1940         0            0   \n",
       "1         0  make_mine_music  1940         0            1   \n",
       "2         0  make_mine_music  1940         0            2   \n",
       "3         0  make_mine_music  1940         0            3   \n",
       "4         0  make_mine_music  1940         0            4   \n",
       "\n",
       "                                                 rgb  \\\n",
       "0  (0.4948409661638601, 0.3336431652742103, 0.382...   \n",
       "1  (0.5387126649529148, 0.5742250325642928, 0.639...   \n",
       "2  (0.36366959978116187, 0.4204748239497644, 0.55...   \n",
       "3  (0.2441414631891009, 0.31293046306577865, 0.42...   \n",
       "4  (0.7276261576840661, 0.7455248882923641, 0.815...   \n",
       "\n",
       "                                   CSS_ref_color_rgb CSS_ref_color_hex  \\\n",
       "0  (0.5019607843137255, 0.5019607843137255, 0.501...           #808080   \n",
       "1  (0.5019607843137255, 0.5019607843137255, 0.501...           #808080   \n",
       "2  (0.5019607843137255, 0.5019607843137255, 0.501...           #808080   \n",
       "3  (0.5019607843137255, 0.5019607843137255, 0.501...           #808080   \n",
       "4  (0.7529411764705882, 0.7529411764705882, 0.752...           #C0C0C0   \n",
       "\n",
       "                              CSS4_SEL_ref_color_rgb CSS4_SEL_ref_color_hex  \n",
       "0  (0.5019607843137255, 0.5019607843137255, 0.501...                #808080  \n",
       "1  (0.5019607843137255, 0.5019607843137255, 0.501...                #808080  \n",
       "2  (0.27450980392156865, 0.5098039215686274, 0.70...                #4682B4  \n",
       "3  (0.1843137254901961, 0.30980392156862746, 0.30...                #2F4F4F  \n",
       "4  (0.7529411764705882, 0.7529411764705882, 0.752...                #C0C0C0  "
      ]
     },
     "execution_count": 28,
     "metadata": {},
     "output_type": "execute_result"
    }
   ],
   "source": [
    "%%time\n",
    "add_ref_column(cdf, 'CSS')\n",
    "add_ref_column(cdf, 'CSS4_SEL')\n",
    "cdf.head()"
   ]
  },
  {
   "cell_type": "code",
   "execution_count": 29,
   "metadata": {},
   "outputs": [
    {
     "data": {
      "image/png": "[encoded data removed]",
      "text/plain": [
       "<Figure size 1440x432 with 1 Axes>"
      ]
     },
     "metadata": {
      "needs_background": "light"
     },
     "output_type": "display_data"
    }
   ],
   "source": [
    "plt.figure(figsize = (20, 6))\n",
    "cdf['CSS_ref_color_hex'].value_counts().plot(kind = 'bar', color = list(cdf['CSS_ref_color_hex'].value_counts().index))\n",
    "plt.show()"
   ]
  },
  {
   "cell_type": "code",
   "execution_count": 30,
   "metadata": {},
   "outputs": [
    {
     "data": {
      "image/png": "[encoded data removed]",
      "text/plain": [
       "<Figure size 1440x432 with 1 Axes>"
      ]
     },
     "metadata": {
      "needs_background": "light"
     },
     "output_type": "display_data"
    }
   ],
   "source": [
    "plt.figure(figsize = (20, 6))\n",
    "cdf['CSS4_SEL_ref_color_hex'].value_counts().plot(kind = 'bar', color = list(cdf['CSS4_SEL_ref_color_hex'].value_counts().index))\n",
    "plt.show()"
   ]
  },
  {
   "cell_type": "code",
   "execution_count": null,
   "metadata": {},
   "outputs": [],
   "source": []
  }
 ],
 "metadata": {
  "kernelspec": {
   "display_name": "Python 3",
   "language": "python",
   "name": "python3"
  },
  "language_info": {
   "codemirror_mode": {
    "name": "ipython",
    "version": 3
   },
   "file_extension": ".py",
   "mimetype": "text/x-python",
   "name": "python",
   "nbconvert_exporter": "python",
   "pygments_lexer": "ipython3",
   "version": "3.7.6"
  }
 },
 "nbformat": 4,
 "nbformat_minor": 4
}
