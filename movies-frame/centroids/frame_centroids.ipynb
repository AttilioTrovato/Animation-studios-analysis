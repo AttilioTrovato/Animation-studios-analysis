{
 "cells": [
  {
   "cell_type": "markdown",
   "metadata": {},
   "source": [
    "# Color analysis"
   ]
  },
  {
   "cell_type": "markdown",
   "metadata": {},
   "source": [
    "#### Reference colors"
   ]
  },
  {
   "cell_type": "markdown",
   "metadata": {},
   "source": [
    "CSS https://www.w3.org/wiki/CSS/Properties/color/keywords"
   ]
  },
  {
   "cell_type": "markdown",
   "metadata": {},
   "source": [
    "CSS4 https://matplotlib.org/3.1.1/gallery/color/named_colors.html"
   ]
  },
  {
   "cell_type": "markdown",
   "metadata": {},
   "source": [
    "## Load data"
   ]
  },
  {
   "cell_type": "code",
   "execution_count": 9,
   "metadata": {},
   "outputs": [],
   "source": [
    "import pandas as pd"
   ]
  },
  {
   "cell_type": "code",
   "execution_count": 10,
   "metadata": {},
   "outputs": [],
   "source": [
    "cdf = pd.read_csv('frame_centroids.csv')"
   ]
  },
  {
   "cell_type": "code",
   "execution_count": 11,
   "metadata": {},
   "outputs": [
    {
     "data": {
      "text/html": [
       "<div>\n",
       "<style scoped>\n",
       "    .dataframe tbody tr th:only-of-type {\n",
       "        vertical-align: middle;\n",
       "    }\n",
       "\n",
       "    .dataframe tbody tr th {\n",
       "        vertical-align: top;\n",
       "    }\n",
       "\n",
       "    .dataframe thead th {\n",
       "        text-align: right;\n",
       "    }\n",
       "</style>\n",
       "<table border=\"1\" class=\"dataframe\">\n",
       "  <thead>\n",
       "    <tr style=\"text-align: right;\">\n",
       "      <th></th>\n",
       "      <th>movie_id</th>\n",
       "      <th>movie_title</th>\n",
       "      <th>year</th>\n",
       "      <th>frame_id</th>\n",
       "      <th>centroid_id</th>\n",
       "      <th>red</th>\n",
       "      <th>green</th>\n",
       "      <th>blue</th>\n",
       "    </tr>\n",
       "  </thead>\n",
       "  <tbody>\n",
       "    <tr>\n",
       "      <th>0</th>\n",
       "      <td>0</td>\n",
       "      <td>make_mine_music</td>\n",
       "      <td>1940</td>\n",
       "      <td>0</td>\n",
       "      <td>0</td>\n",
       "      <td>0.494841</td>\n",
       "      <td>0.333643</td>\n",
       "      <td>0.382833</td>\n",
       "    </tr>\n",
       "    <tr>\n",
       "      <th>1</th>\n",
       "      <td>0</td>\n",
       "      <td>make_mine_music</td>\n",
       "      <td>1940</td>\n",
       "      <td>0</td>\n",
       "      <td>1</td>\n",
       "      <td>0.538713</td>\n",
       "      <td>0.574225</td>\n",
       "      <td>0.639382</td>\n",
       "    </tr>\n",
       "    <tr>\n",
       "      <th>2</th>\n",
       "      <td>0</td>\n",
       "      <td>make_mine_music</td>\n",
       "      <td>1940</td>\n",
       "      <td>0</td>\n",
       "      <td>2</td>\n",
       "      <td>0.363670</td>\n",
       "      <td>0.420475</td>\n",
       "      <td>0.553765</td>\n",
       "    </tr>\n",
       "    <tr>\n",
       "      <th>3</th>\n",
       "      <td>0</td>\n",
       "      <td>make_mine_music</td>\n",
       "      <td>1940</td>\n",
       "      <td>0</td>\n",
       "      <td>3</td>\n",
       "      <td>0.244141</td>\n",
       "      <td>0.312930</td>\n",
       "      <td>0.425660</td>\n",
       "    </tr>\n",
       "    <tr>\n",
       "      <th>4</th>\n",
       "      <td>0</td>\n",
       "      <td>make_mine_music</td>\n",
       "      <td>1940</td>\n",
       "      <td>0</td>\n",
       "      <td>4</td>\n",
       "      <td>0.727626</td>\n",
       "      <td>0.745525</td>\n",
       "      <td>0.815441</td>\n",
       "    </tr>\n",
       "  </tbody>\n",
       "</table>\n",
       "</div>"
      ],
      "text/plain": [
       "   movie_id      movie_title  year  frame_id  centroid_id       red     green  \\\n",
       "0         0  make_mine_music  1940         0            0  0.494841  0.333643   \n",
       "1         0  make_mine_music  1940         0            1  0.538713  0.574225   \n",
       "2         0  make_mine_music  1940         0            2  0.363670  0.420475   \n",
       "3         0  make_mine_music  1940         0            3  0.244141  0.312930   \n",
       "4         0  make_mine_music  1940         0            4  0.727626  0.745525   \n",
       "\n",
       "       blue  \n",
       "0  0.382833  \n",
       "1  0.639382  \n",
       "2  0.553765  \n",
       "3  0.425660  \n",
       "4  0.815441  "
      ]
     },
     "execution_count": 11,
     "metadata": {},
     "output_type": "execute_result"
    }
   ],
   "source": [
    "cdf.head()"
   ]
  },
  {
   "cell_type": "code",
   "execution_count": 12,
   "metadata": {},
   "outputs": [
    {
     "data": {
      "text/plain": [
       "(150130, 8)"
      ]
     },
     "execution_count": 12,
     "metadata": {},
     "output_type": "execute_result"
    }
   ],
   "source": [
    "cdf.shape"
   ]
  },
  {
   "cell_type": "code",
   "execution_count": 13,
   "metadata": {},
   "outputs": [
    {
     "name": "stdout",
     "output_type": "stream",
     "text": [
      "Total centroids: 150130\n"
     ]
    }
   ],
   "source": [
    "print('Total centroids:', cdf.shape[0])"
   ]
  },
  {
   "cell_type": "code",
   "execution_count": 14,
   "metadata": {},
   "outputs": [
    {
     "name": "stdout",
     "output_type": "stream",
     "text": [
      "Total frames: 15013.0\n"
     ]
    }
   ],
   "source": [
    "print('Total frames:', cdf.shape[0]/10)"
   ]
  },
  {
   "cell_type": "code",
   "execution_count": 15,
   "metadata": {},
   "outputs": [
    {
     "name": "stdout",
     "output_type": "stream",
     "text": [
      "Total movies: 129\n"
     ]
    }
   ],
   "source": [
    "print('Total movies:', len(cdf['movie_id'].unique()))"
   ]
  },
  {
   "cell_type": "code",
   "execution_count": 16,
   "metadata": {},
   "outputs": [
    {
     "data": {
      "text/html": [
       "<div>\n",
       "<style scoped>\n",
       "    .dataframe tbody tr th:only-of-type {\n",
       "        vertical-align: middle;\n",
       "    }\n",
       "\n",
       "    .dataframe tbody tr th {\n",
       "        vertical-align: top;\n",
       "    }\n",
       "\n",
       "    .dataframe thead th {\n",
       "        text-align: right;\n",
       "    }\n",
       "</style>\n",
       "<table border=\"1\" class=\"dataframe\">\n",
       "  <thead>\n",
       "    <tr style=\"text-align: right;\">\n",
       "      <th></th>\n",
       "      <th>movie_id</th>\n",
       "      <th>movie_title</th>\n",
       "      <th>year</th>\n",
       "      <th>frame_id</th>\n",
       "      <th>centroid_id</th>\n",
       "      <th>rgb</th>\n",
       "    </tr>\n",
       "  </thead>\n",
       "  <tbody>\n",
       "    <tr>\n",
       "      <th>0</th>\n",
       "      <td>0</td>\n",
       "      <td>make_mine_music</td>\n",
       "      <td>1940</td>\n",
       "      <td>0</td>\n",
       "      <td>0</td>\n",
       "      <td>(0.4948409661638601, 0.3336431652742103, 0.382...</td>\n",
       "    </tr>\n",
       "    <tr>\n",
       "      <th>1</th>\n",
       "      <td>0</td>\n",
       "      <td>make_mine_music</td>\n",
       "      <td>1940</td>\n",
       "      <td>0</td>\n",
       "      <td>1</td>\n",
       "      <td>(0.5387126649529148, 0.5742250325642928, 0.639...</td>\n",
       "    </tr>\n",
       "    <tr>\n",
       "      <th>2</th>\n",
       "      <td>0</td>\n",
       "      <td>make_mine_music</td>\n",
       "      <td>1940</td>\n",
       "      <td>0</td>\n",
       "      <td>2</td>\n",
       "      <td>(0.36366959978116187, 0.4204748239497644, 0.55...</td>\n",
       "    </tr>\n",
       "    <tr>\n",
       "      <th>3</th>\n",
       "      <td>0</td>\n",
       "      <td>make_mine_music</td>\n",
       "      <td>1940</td>\n",
       "      <td>0</td>\n",
       "      <td>3</td>\n",
       "      <td>(0.2441414631891009, 0.31293046306577865, 0.42...</td>\n",
       "    </tr>\n",
       "    <tr>\n",
       "      <th>4</th>\n",
       "      <td>0</td>\n",
       "      <td>make_mine_music</td>\n",
       "      <td>1940</td>\n",
       "      <td>0</td>\n",
       "      <td>4</td>\n",
       "      <td>(0.7276261576840661, 0.7455248882923641, 0.815...</td>\n",
       "    </tr>\n",
       "  </tbody>\n",
       "</table>\n",
       "</div>"
      ],
      "text/plain": [
       "   movie_id      movie_title  year  frame_id  centroid_id  \\\n",
       "0         0  make_mine_music  1940         0            0   \n",
       "1         0  make_mine_music  1940         0            1   \n",
       "2         0  make_mine_music  1940         0            2   \n",
       "3         0  make_mine_music  1940         0            3   \n",
       "4         0  make_mine_music  1940         0            4   \n",
       "\n",
       "                                                 rgb  \n",
       "0  (0.4948409661638601, 0.3336431652742103, 0.382...  \n",
       "1  (0.5387126649529148, 0.5742250325642928, 0.639...  \n",
       "2  (0.36366959978116187, 0.4204748239497644, 0.55...  \n",
       "3  (0.2441414631891009, 0.31293046306577865, 0.42...  \n",
       "4  (0.7276261576840661, 0.7455248882923641, 0.815...  "
      ]
     },
     "execution_count": 16,
     "metadata": {},
     "output_type": "execute_result"
    }
   ],
   "source": [
    "cdf['rgb'] = [(i[-3], i[-2], i[-1]) for i in cdf.values]\n",
    "cdf.drop(columns=['red', 'green', 'blue'], axis=1, inplace=True)\n",
    "cdf.head()"
   ]
  },
  {
   "cell_type": "markdown",
   "metadata": {},
   "source": [
    "## Data exploration"
   ]
  },
  {
   "cell_type": "code",
   "execution_count": 17,
   "metadata": {},
   "outputs": [
    {
     "data": {
      "text/html": [
       "<div>\n",
       "<style scoped>\n",
       "    .dataframe tbody tr th:only-of-type {\n",
       "        vertical-align: middle;\n",
       "    }\n",
       "\n",
       "    .dataframe tbody tr th {\n",
       "        vertical-align: top;\n",
       "    }\n",
       "\n",
       "    .dataframe thead th {\n",
       "        text-align: right;\n",
       "    }\n",
       "</style>\n",
       "<table border=\"1\" class=\"dataframe\">\n",
       "  <thead>\n",
       "    <tr style=\"text-align: right;\">\n",
       "      <th></th>\n",
       "      <th>decade</th>\n",
       "      <th>movies</th>\n",
       "      <th>frames</th>\n",
       "      <th>centroids</th>\n",
       "    </tr>\n",
       "  </thead>\n",
       "  <tbody>\n",
       "    <tr>\n",
       "      <th>6</th>\n",
       "      <td>1930</td>\n",
       "      <td>41</td>\n",
       "      <td>821.0</td>\n",
       "      <td>8210</td>\n",
       "    </tr>\n",
       "    <tr>\n",
       "      <th>0</th>\n",
       "      <td>1940</td>\n",
       "      <td>7</td>\n",
       "      <td>894.0</td>\n",
       "      <td>8940</td>\n",
       "    </tr>\n",
       "    <tr>\n",
       "      <th>8</th>\n",
       "      <td>1950</td>\n",
       "      <td>5</td>\n",
       "      <td>679.0</td>\n",
       "      <td>6790</td>\n",
       "    </tr>\n",
       "    <tr>\n",
       "      <th>7</th>\n",
       "      <td>1960</td>\n",
       "      <td>3</td>\n",
       "      <td>428.0</td>\n",
       "      <td>4280</td>\n",
       "    </tr>\n",
       "    <tr>\n",
       "      <th>4</th>\n",
       "      <td>1970</td>\n",
       "      <td>4</td>\n",
       "      <td>567.0</td>\n",
       "      <td>5670</td>\n",
       "    </tr>\n",
       "    <tr>\n",
       "      <th>5</th>\n",
       "      <td>1980</td>\n",
       "      <td>5</td>\n",
       "      <td>726.0</td>\n",
       "      <td>7260</td>\n",
       "    </tr>\n",
       "    <tr>\n",
       "      <th>3</th>\n",
       "      <td>1990</td>\n",
       "      <td>15</td>\n",
       "      <td>2364.0</td>\n",
       "      <td>23640</td>\n",
       "    </tr>\n",
       "    <tr>\n",
       "      <th>1</th>\n",
       "      <td>2000</td>\n",
       "      <td>24</td>\n",
       "      <td>3952.0</td>\n",
       "      <td>39520</td>\n",
       "    </tr>\n",
       "    <tr>\n",
       "      <th>2</th>\n",
       "      <td>2010</td>\n",
       "      <td>25</td>\n",
       "      <td>4582.0</td>\n",
       "      <td>45820</td>\n",
       "    </tr>\n",
       "  </tbody>\n",
       "</table>\n",
       "</div>"
      ],
      "text/plain": [
       "   decade  movies  frames  centroids\n",
       "6    1930      41   821.0       8210\n",
       "0    1940       7   894.0       8940\n",
       "8    1950       5   679.0       6790\n",
       "7    1960       3   428.0       4280\n",
       "4    1970       4   567.0       5670\n",
       "5    1980       5   726.0       7260\n",
       "3    1990      15  2364.0      23640\n",
       "1    2000      24  3952.0      39520\n",
       "2    2010      25  4582.0      45820"
      ]
     },
     "execution_count": 17,
     "metadata": {},
     "output_type": "execute_result"
    }
   ],
   "source": [
    "header = ['decade', 'movies', 'frames', 'centroids']\n",
    "metadata_matrix = []\n",
    "\n",
    "decades = cdf['year'].unique()\n",
    "\n",
    "for d in decades:\n",
    "    tmp_df = cdf[cdf['year'] == d]\n",
    "    nm = len(tmp_df['movie_id'].unique())\n",
    "    nc = tmp_df.shape[0]\n",
    "    nf = nc / 10\n",
    "    metadata_matrix.append([d, nm, nf, nc])\n",
    "    \n",
    "metadata_df = pd.DataFrame(data=metadata_matrix, columns=header)\n",
    "metadata_df.sort_values(by=['decade'])"
   ]
  },
  {
   "cell_type": "markdown",
   "metadata": {},
   "source": [
    "## Assign reference colors to centroids"
   ]
  },
  {
   "cell_type": "code",
   "execution_count": 18,
   "metadata": {},
   "outputs": [],
   "source": [
    "import numpy as np\n",
    "from skimage import color\n",
    "from skimage.color import rgb2lab, deltaE_cie76\n",
    "import matplotlib.colors as mcolors\n",
    "import matplotlib.pyplot as plt"
   ]
  },
  {
   "cell_type": "code",
   "execution_count": 19,
   "metadata": {},
   "outputs": [],
   "source": [
    "def to_image(pixel):\n",
    "    return [[pixel]]\n",
    "\n",
    "def to_pixel(image):\n",
    "    return image[0][0]\n",
    "\n",
    "def convert_rgb2lab(rgb_pixel):\n",
    "    return to_pixel(color.rgb2lab(to_image(rgb_pixel)))"
   ]
  },
  {
   "cell_type": "code",
   "execution_count": 20,
   "metadata": {},
   "outputs": [
    {
     "name": "stdout",
     "output_type": "stream",
     "text": [
      "DISTINCT CSS:\t\t 16 \n",
      "DISTINCT CSS4_SELECTION: 29\n"
     ]
    }
   ],
   "source": [
    "CSS_COLORS = [\n",
    "    'black',\n",
    "    'silver',\n",
    "    'gray',\n",
    "    'white',\n",
    "    'maroon',\n",
    "    'red',\n",
    "    'purple',\n",
    "    'fuchsia',\n",
    "    'green',\n",
    "    'lime',\n",
    "    'olive',\n",
    "    'yellow',\n",
    "    'navy',\n",
    "    'blue',\n",
    "    'teal',\n",
    "    'aqua'\n",
    "]\n",
    "\n",
    "CSS4_SELECTION_COLORS = [\n",
    "    'black',\n",
    "    'silver',\n",
    "    'gray',\n",
    "    'white',\n",
    "    'lightcoral',\n",
    "    'red',\n",
    "    'maroon',\n",
    "    'chocolate',\n",
    "    'tan',\n",
    "    'orange',\n",
    "    'goldenrod',\n",
    "    'darkkhaki',\n",
    "    'yellow',\n",
    "    'darkseagreen',\n",
    "    'green',\n",
    "    'lime',\n",
    "    'darkslategray',\n",
    "    'darkcyan',\n",
    "    'cyan',\n",
    "    'deepskyblue',\n",
    "    'steelblue',\n",
    "    'navy',\n",
    "    'blue',\n",
    "    'darkviolet',\n",
    "    'violet',\n",
    "    'purple',\n",
    "    'magenta',\n",
    "    'deeppink',\n",
    "    'pink'   \n",
    "]\n",
    "\n",
    "print('DISTINCT CSS:\\t\\t', len(CSS_COLORS), '\\nDISTINCT CSS4_SELECTION:', len(CSS4_SELECTION_COLORS))"
   ]
  },
  {
   "cell_type": "code",
   "execution_count": 21,
   "metadata": {},
   "outputs": [],
   "source": [
    "CSS4_HEX_COLORS = list(mcolors.CSS4_COLORS.values())\n",
    "CSS4_RGB_COLORS = [mcolors.hex2color(c) for c in mcolors.CSS4_COLORS]\n",
    "CSS4_LAB_COLORS = [convert_rgb2lab(c) for c in CSS4_RGB_COLORS]\n",
    "\n",
    "BASE_RGB_COLORS = [[float(v) for v in c] for c in mcolors.BASE_COLORS.values()]\n",
    "BASE_LAB_COLORS = [convert_rgb2lab(c) for c in BASE_RGB_COLORS]\n",
    "\n",
    "CSS_HEX_COLORS  = [mcolors.CSS4_COLORS[c] for c in CSS_COLORS]\n",
    "CSS_RGB_COLORS  = [mcolors.hex2color(c) for c in CSS_HEX_COLORS]\n",
    "CSS_LAB_COLORS  = [convert_rgb2lab(c) for c in CSS_RGB_COLORS]\n",
    "\n",
    "CSS4_SEL_HEX_COLORS  = [mcolors.CSS4_COLORS[c] for c in CSS4_SELECTION_COLORS]\n",
    "CSS4_SEL_RGB_COLORS  = [mcolors.hex2color(c) for c in CSS4_SEL_HEX_COLORS]\n",
    "CSS4_SEL_LAB_COLORS  = [convert_rgb2lab(c) for c in CSS4_SEL_RGB_COLORS]"
   ]
  },
  {
   "cell_type": "code",
   "execution_count": 22,
   "metadata": {},
   "outputs": [],
   "source": [
    "colors = {\n",
    "    'CSS': {\n",
    "        'HEX': CSS_HEX_COLORS,\n",
    "        'RGB': CSS_RGB_COLORS,\n",
    "        'LAB': CSS_LAB_COLORS\n",
    "    },\n",
    "    'CSS4': {\n",
    "        'HEX': CSS4_HEX_COLORS,\n",
    "        'RGB': CSS4_RGB_COLORS,\n",
    "        'LAB': CSS4_LAB_COLORS\n",
    "    },\n",
    "    'CSS4_SEL': {\n",
    "        'HEX': CSS4_SEL_HEX_COLORS,\n",
    "        'RGB': CSS4_SEL_RGB_COLORS,\n",
    "        'LAB': CSS4_SEL_LAB_COLORS\n",
    "    }\n",
    "}"
   ]
  },
  {
   "cell_type": "code",
   "execution_count": 23,
   "metadata": {},
   "outputs": [],
   "source": [
    "CSS4_INV_MAP = {}\n",
    "for k, v in mcolors.CSS4_COLORS.items():\n",
    "    CSS4_INV_MAP[v] = k"
   ]
  },
  {
   "cell_type": "code",
   "execution_count": 24,
   "metadata": {},
   "outputs": [],
   "source": [
    "def get_ref_color(rgb_color, ref_colors):\n",
    "    ref_lab_colors = colors[ref_colors]['LAB']\n",
    "    ref_rgb_colors = colors[ref_colors]['RGB']\n",
    "    ref_hex_colors = colors[ref_colors]['HEX']\n",
    "    \n",
    "    lab_color = convert_rgb2lab(rgb_color)\n",
    "    \n",
    "    min_distance = deltaE_cie76(lab_color, ref_lab_colors[0])\n",
    "    nearest_ref_color = 0\n",
    "\n",
    "    k = 1\n",
    "    for c in ref_lab_colors[1:]: # CSS4_LAB_COLORS[0] already processed above\n",
    "        tmp_distance = deltaE_cie76(lab_color, c)\n",
    "        if (tmp_distance < min_distance):\n",
    "            min_distance = tmp_distance\n",
    "            nearest_ref_color = k\n",
    "        k += 1\n",
    "\n",
    "    return ref_rgb_colors[nearest_ref_color], ref_hex_colors[nearest_ref_color]"
   ]
  },
  {
   "cell_type": "code",
   "execution_count": 25,
   "metadata": {},
   "outputs": [],
   "source": [
    "def add_ref_column(df, palette_id):\n",
    "    df['ref_color_rgb_hex'] = df['rgb'].apply(lambda x: get_ref_color(x, palette_id))\n",
    "    df[palette_id + '_ref_color_rgb'] = [i[0] for i in df['ref_color_rgb_hex']]\n",
    "    df[palette_id + '_ref_color_hex'] = [i[1] for i in df['ref_color_rgb_hex']]\n",
    "    df.drop(columns=['ref_color_rgb_hex'], axis=1, inplace=True)"
   ]
  },
  {
   "cell_type": "code",
   "execution_count": 26,
   "metadata": {},
   "outputs": [
    {
     "name": "stdout",
     "output_type": "stream",
     "text": [
      "CPU times: user 2min 55s, sys: 244 ms, total: 2min 55s\n",
      "Wall time: 2min 55s\n"
     ]
    },
    {
     "data": {
      "text/html": [
       "<div>\n",
       "<style scoped>\n",
       "    .dataframe tbody tr th:only-of-type {\n",
       "        vertical-align: middle;\n",
       "    }\n",
       "\n",
       "    .dataframe tbody tr th {\n",
       "        vertical-align: top;\n",
       "    }\n",
       "\n",
       "    .dataframe thead th {\n",
       "        text-align: right;\n",
       "    }\n",
       "</style>\n",
       "<table border=\"1\" class=\"dataframe\">\n",
       "  <thead>\n",
       "    <tr style=\"text-align: right;\">\n",
       "      <th></th>\n",
       "      <th>movie_id</th>\n",
       "      <th>movie_title</th>\n",
       "      <th>year</th>\n",
       "      <th>frame_id</th>\n",
       "      <th>centroid_id</th>\n",
       "      <th>rgb</th>\n",
       "      <th>CSS4_ref_color_rgb</th>\n",
       "      <th>CSS4_ref_color_hex</th>\n",
       "    </tr>\n",
       "  </thead>\n",
       "  <tbody>\n",
       "    <tr>\n",
       "      <th>0</th>\n",
       "      <td>0</td>\n",
       "      <td>make_mine_music</td>\n",
       "      <td>1940</td>\n",
       "      <td>0</td>\n",
       "      <td>0</td>\n",
       "      <td>(0.4948409661638601, 0.3336431652742103, 0.382...</td>\n",
       "      <td>(0.4117647058823529, 0.4117647058823529, 0.411...</td>\n",
       "      <td>#696969</td>\n",
       "    </tr>\n",
       "    <tr>\n",
       "      <th>1</th>\n",
       "      <td>0</td>\n",
       "      <td>make_mine_music</td>\n",
       "      <td>1940</td>\n",
       "      <td>0</td>\n",
       "      <td>1</td>\n",
       "      <td>(0.5387126649529148, 0.5742250325642928, 0.639...</td>\n",
       "      <td>(0.4666666666666667, 0.5333333333333333, 0.6)</td>\n",
       "      <td>#778899</td>\n",
       "    </tr>\n",
       "    <tr>\n",
       "      <th>2</th>\n",
       "      <td>0</td>\n",
       "      <td>make_mine_music</td>\n",
       "      <td>1940</td>\n",
       "      <td>0</td>\n",
       "      <td>2</td>\n",
       "      <td>(0.36366959978116187, 0.4204748239497644, 0.55...</td>\n",
       "      <td>(0.4392156862745098, 0.5019607843137255, 0.564...</td>\n",
       "      <td>#708090</td>\n",
       "    </tr>\n",
       "    <tr>\n",
       "      <th>3</th>\n",
       "      <td>0</td>\n",
       "      <td>make_mine_music</td>\n",
       "      <td>1940</td>\n",
       "      <td>0</td>\n",
       "      <td>3</td>\n",
       "      <td>(0.2441414631891009, 0.31293046306577865, 0.42...</td>\n",
       "      <td>(0.1843137254901961, 0.30980392156862746, 0.30...</td>\n",
       "      <td>#2F4F4F</td>\n",
       "    </tr>\n",
       "    <tr>\n",
       "      <th>4</th>\n",
       "      <td>0</td>\n",
       "      <td>make_mine_music</td>\n",
       "      <td>1940</td>\n",
       "      <td>0</td>\n",
       "      <td>4</td>\n",
       "      <td>(0.7276261576840661, 0.7455248882923641, 0.815...</td>\n",
       "      <td>(0.6901960784313725, 0.7686274509803922, 0.870...</td>\n",
       "      <td>#B0C4DE</td>\n",
       "    </tr>\n",
       "  </tbody>\n",
       "</table>\n",
       "</div>"
      ],
      "text/plain": [
       "   movie_id      movie_title  year  frame_id  centroid_id  \\\n",
       "0         0  make_mine_music  1940         0            0   \n",
       "1         0  make_mine_music  1940         0            1   \n",
       "2         0  make_mine_music  1940         0            2   \n",
       "3         0  make_mine_music  1940         0            3   \n",
       "4         0  make_mine_music  1940         0            4   \n",
       "\n",
       "                                                 rgb  \\\n",
       "0  (0.4948409661638601, 0.3336431652742103, 0.382...   \n",
       "1  (0.5387126649529148, 0.5742250325642928, 0.639...   \n",
       "2  (0.36366959978116187, 0.4204748239497644, 0.55...   \n",
       "3  (0.2441414631891009, 0.31293046306577865, 0.42...   \n",
       "4  (0.7276261576840661, 0.7455248882923641, 0.815...   \n",
       "\n",
       "                                  CSS4_ref_color_rgb CSS4_ref_color_hex  \n",
       "0  (0.4117647058823529, 0.4117647058823529, 0.411...            #696969  \n",
       "1      (0.4666666666666667, 0.5333333333333333, 0.6)            #778899  \n",
       "2  (0.4392156862745098, 0.5019607843137255, 0.564...            #708090  \n",
       "3  (0.1843137254901961, 0.30980392156862746, 0.30...            #2F4F4F  \n",
       "4  (0.6901960784313725, 0.7686274509803922, 0.870...            #B0C4DE  "
      ]
     },
     "execution_count": 26,
     "metadata": {},
     "output_type": "execute_result"
    }
   ],
   "source": [
    "%%time\n",
    "#add_ref_column(cdf, 'CSS')\n",
    "add_ref_column(cdf, 'CSS4')\n",
    "cdf.head()"
   ]
  },
  {
   "cell_type": "code",
   "execution_count": 27,
   "metadata": {},
   "outputs": [],
   "source": [
    "def plot_ref_colors(df, ref_colors_column='ref_color', title='', normalize=True):        \n",
    "    value_counts = df[ref_colors_column].value_counts(normalize=normalize)\n",
    "    plt.figure(figsize = (20, 6))\n",
    "    value_counts.plot(kind = 'bar', color = list(value_counts.index))\n",
    "    \n",
    "    if title != '':\n",
    "        plt.title(title)\n",
    "    plt.show()\n",
    "    return"
   ]
  },
  {
   "cell_type": "markdown",
   "metadata": {},
   "source": [
    "### CSS4"
   ]
  },
  {
   "cell_type": "code",
   "execution_count": 30,
   "metadata": {},
   "outputs": [
    {
     "data": {
      "image/png": "[encoded data removed]",
      "text/plain": [
       "<Figure size 1440x432 with 1 Axes>"
      ]
     },
     "metadata": {
      "needs_background": "light"
     },
     "output_type": "display_data"
    }
   ],
   "source": [
    "plot_ref_colors(cdf, 'CSS4_ref_color_hex')"
   ]
  },
  {
   "cell_type": "code",
   "execution_count": null,
   "metadata": {},
   "outputs": [],
   "source": [
    "cdf[cdf['CSS4_ref_color_hex'] != '#000000'] \\\n",
    "    .rename(columns={\"CSS4_ref_color_hex\": \"ref_color\"}) \\\n",
    "    .drop(columns=['CSS4_ref_color_rgb', 'rgb']) \\\n",
    "    .groupby(by=['year', 'ref_color']).size().reset_index(name='counts')"
   ]
  },
  {
   "cell_type": "code",
   "execution_count": 53,
   "metadata": {},
   "outputs": [],
   "source": [
    "cdf[cdf['CSS4_ref_color_hex'] != '#000000'] \\\n",
    "    .rename(columns={\"CSS4_ref_color_hex\": \"ref_color\"}) \\\n",
    "    .drop(columns=['CSS4_ref_color_rgb', 'rgb']) \\\n",
    "    .groupby(by=['year', 'ref_color']).size().reset_index(name='counts') \\\n",
    "    .to_csv('decade_ref_colors_counts.csv', index=False)"
   ]
  },
  {
   "cell_type": "code",
   "execution_count": 47,
   "metadata": {},
   "outputs": [],
   "source": [
    "import colorsys\n",
    "\n",
    "def get_hsv(hexrgb):\n",
    "    hexrgb = hexrgb.lstrip(\"#\")   # in case you have Web color specs\n",
    "    r, g, b = (int(hexrgb[i:i+2], 16) / 255.0 for i in range(0,5,2))\n",
    "    return colorsys.rgb_to_hsv(r, g, b)"
   ]
  },
  {
   "cell_type": "code",
   "execution_count": 7,
   "metadata": {},
   "outputs": [
    {
     "name": "stdout",
     "output_type": "stream",
     "text": [
      "(0.6666666666666666, 1.0, 0.3137254901960784)\n",
      "(0.3333333333333333, 1.0, 0.3137254901960784)\n",
      "(0.0, 1.0, 0.3137254901960784)\n",
      "['500000', '005000', '000050']\n"
     ]
    }
   ],
   "source": [
    "color_list = [\"000050\", \"005000\", \"500000\"]  # GBR\n",
    "color_list.sort(key=get_hsv)\n",
    "print(color_list)"
   ]
  },
  {
   "cell_type": "code",
   "execution_count": 56,
   "metadata": {},
   "outputs": [
    {
     "name": "stdout",
     "output_type": "stream",
     "text": [
      "['#696969', '#778899', '#708090', '#2F4F4F', '#B0C4DE', '#483D8B', '#808000', '#DAA520', '#A52A2A', '#4682B4', '#191970', '#C71585', '#DB7093', '#DA70D6', '#663399', '#808080', '#A9A9A9', '#556B2F', '#C0C0C0', '#FFF0F5', '#87CEFA', '#ADD8E6', '#6495ED', '#DCDCDC', '#E6E6FA', '#D8BFD8', '#B22222', '#9370DB', '#A0522D', '#E9967A', '#5F9EA0', '#6A5ACD', '#00008B', '#8FBC8F', '#87CEEB', '#E0FFFF', '#4169E1', '#7B68EE', '#BC8F8F', '#8B4513', '#800000', '#F0F8FF', '#B8860B', '#008B8B', '#008080', '#3CB371', '#66CDAA', '#D2B48C', '#F5DEB3', '#000080', '#40E0D0', '#FF6347', '#CD853F', '#D2691E', '#F0E68C', '#FAEBD7', '#DEB887', '#FF69B4', '#F4A460', '#8B0000', '#9932CC', '#B0E0E6', '#DDA0DD', '#BDB76B', '#800080', '#F5F5DC', '#CD5C5C', '#48D1CC', '#D3D3D3', '#FFB6C1', '#EE82EE', '#F08080', '#FFD700', '#F5F5F5', '#FFE4E1', '#DC143C', '#FFA500', '#FFFF00', '#FAFAD2', '#FF4500', '#FFA07A', '#FFEBCD', '#FFC0CB', '#00CED1', '#AFEEEE', '#6B8E23', '#FFDAB9', '#FFE4C4', '#2E8B57', '#FFDEAD', '#FF7F50', '#20B2AA', '#90EE90', '#F0FFF0', '#EEE8AA', '#FAF0E6', '#7FFFD4', '#FA8072', '#228B22', '#BA55D3', '#8A2BE2', '#006400', '#008000', '#00FA9A', '#FF8C00', '#9ACD32', '#00BFFF', '#F8F8FF', '#32CD32', '#FF1493', '#FFFACD', '#9400D3', '#1E90FF', '#F0FFFF', '#8B008B', '#0000CD', '#FFFAF0', '#FDF5E6', '#FFEFD5', '#4B0082', '#FFFAFA', '#FFE4B5', '#FF0000', '#FFFFFF', '#FFFFF0', '#00FFFF', '#ADFF2F', '#F5FFFA', '#FFF5EE', '#FFFFE0', '#FF00FF', '#98FB98', '#FFF8DC', '#7CFC00', '#00FF7F', '#00FF00', '#0000FF']\n"
     ]
    }
   ],
   "source": [
    "color_list = [c for c in cdf['CSS4_ref_color_hex'].unique() if c != '#000000']\n",
    "print(color_list)"
   ]
  },
  {
   "cell_type": "code",
   "execution_count": 57,
   "metadata": {},
   "outputs": [
    {
     "name": "stdout",
     "output_type": "stream",
     "text": [
      "['#696969', '#808080', '#A9A9A9', '#C0C0C0', '#D3D3D3', '#DCDCDC', '#F5F5F5', '#FFFFFF', '#FFFAFA', '#BC8F8F', '#F08080', '#CD5C5C', '#A52A2A', '#B22222', '#800000', '#8B0000', '#FF0000', '#FFE4E1', '#FA8072', '#FF6347', '#E9967A', '#FF7F50', '#FF4500', '#FFA07A', '#A0522D', '#FFF5EE', '#D2691E', '#8B4513', '#F4A460', '#FFDAB9', '#CD853F', '#FAF0E6', '#FFE4C4', '#FF8C00', '#DEB887', '#FAEBD7', '#D2B48C', '#FFDEAD', '#FFEBCD', '#FFEFD5', '#FFE4B5', '#FFA500', '#F5DEB3', '#FDF5E6', '#FFFAF0', '#B8860B', '#DAA520', '#FFF8DC', '#FFD700', '#FFFACD', '#F0E68C', '#EEE8AA', '#BDB76B', '#FFFFF0', '#F5F5DC', '#FFFFE0', '#FAFAD2', '#808000', '#FFFF00', '#6B8E23', '#9ACD32', '#556B2F', '#ADFF2F', '#7CFC00', '#F0FFF0', '#8FBC8F', '#98FB98', '#90EE90', '#228B22', '#32CD32', '#006400', '#008000', '#00FF00', '#2E8B57', '#3CB371', '#00FF7F', '#F5FFFA', '#00FA9A', '#66CDAA', '#7FFFD4', '#40E0D0', '#20B2AA', '#48D1CC', '#F0FFFF', '#E0FFFF', '#AFEEEE', '#2F4F4F', '#008080', '#008B8B', '#00FFFF', '#00CED1', '#5F9EA0', '#B0E0E6', '#ADD8E6', '#00BFFF', '#87CEEB', '#87CEFA', '#4682B4', '#F0F8FF', '#1E90FF', '#778899', '#708090', '#B0C4DE', '#6495ED', '#4169E1', '#F8F8FF', '#E6E6FA', '#191970', '#000080', '#00008B', '#0000CD', '#0000FF', '#6A5ACD', '#483D8B', '#7B68EE', '#9370DB', '#663399', '#8A2BE2', '#4B0082', '#9932CC', '#9400D3', '#BA55D3', '#D8BFD8', '#DDA0DD', '#EE82EE', '#800080', '#8B008B', '#FF00FF', '#DA70D6', '#C71585', '#FF1493', '#FF69B4', '#FFF0F5', '#DB7093', '#DC143C', '#FFC0CB', '#FFB6C1']\n"
     ]
    }
   ],
   "source": [
    "color_list.sort(key=get_hsv)\n",
    "print(color_list)"
   ]
  },
  {
   "cell_type": "code",
   "execution_count": 59,
   "metadata": {},
   "outputs": [
    {
     "name": "stdout",
     "output_type": "stream",
     "text": [
      "['dimgrey', 'grey', 'darkgrey', 'silver', 'lightgrey', 'gainsboro', 'whitesmoke', 'white', 'snow', 'rosybrown', 'lightcoral', 'indianred', 'brown', 'firebrick', 'maroon', 'darkred', 'red', 'mistyrose', 'salmon', 'tomato', 'darksalmon', 'coral', 'orangered', 'lightsalmon', 'sienna', 'seashell', 'chocolate', 'saddlebrown', 'sandybrown', 'peachpuff', 'peru', 'linen', 'bisque', 'darkorange', 'burlywood', 'antiquewhite', 'tan', 'navajowhite', 'blanchedalmond', 'papayawhip', 'moccasin', 'orange', 'wheat', 'oldlace', 'floralwhite', 'darkgoldenrod', 'goldenrod', 'cornsilk', 'gold', 'lemonchiffon', 'khaki', 'palegoldenrod', 'darkkhaki', 'ivory', 'beige', 'lightyellow', 'lightgoldenrodyellow', 'olive', 'yellow', 'olivedrab', 'yellowgreen', 'darkolivegreen', 'greenyellow', 'lawngreen', 'honeydew', 'darkseagreen', 'palegreen', 'lightgreen', 'forestgreen', 'limegreen', 'darkgreen', 'green', 'lime', 'seagreen', 'mediumseagreen', 'springgreen', 'mintcream', 'mediumspringgreen', 'mediumaquamarine', 'aquamarine', 'turquoise', 'lightseagreen', 'mediumturquoise', 'azure', 'lightcyan', 'paleturquoise', 'darkslategrey', 'teal', 'darkcyan', 'cyan', 'darkturquoise', 'cadetblue', 'powderblue', 'lightblue', 'deepskyblue', 'skyblue', 'lightskyblue', 'steelblue', 'aliceblue', 'dodgerblue', 'lightslategrey', 'slategrey', 'lightsteelblue', 'cornflowerblue', 'royalblue', 'ghostwhite', 'lavender', 'midnightblue', 'navy', 'darkblue', 'mediumblue', 'blue', 'slateblue', 'darkslateblue', 'mediumslateblue', 'mediumpurple', 'rebeccapurple', 'blueviolet', 'indigo', 'darkorchid', 'darkviolet', 'mediumorchid', 'thistle', 'plum', 'violet', 'purple', 'darkmagenta', 'magenta', 'orchid', 'mediumvioletred', 'deeppink', 'hotpink', 'lavenderblush', 'palevioletred', 'crimson', 'pink', 'lightpink']\n"
     ]
    }
   ],
   "source": [
    "print([CSS4_INV_MAP[c] for c in color_list])"
   ]
  },
  {
   "cell_type": "code",
   "execution_count": null,
   "metadata": {},
   "outputs": [],
   "source": []
  }
 ],
 "metadata": {
  "kernelspec": {
   "display_name": "Python 3",
   "language": "python",
   "name": "python3"
  },
  "language_info": {
   "codemirror_mode": {
    "name": "ipython",
    "version": 3
   },
   "file_extension": ".py",
   "mimetype": "text/x-python",
   "name": "python",
   "nbconvert_exporter": "python",
   "pygments_lexer": "ipython3",
   "version": "3.7.6"
  }
 },
 "nbformat": 4,
 "nbformat_minor": 4
}
